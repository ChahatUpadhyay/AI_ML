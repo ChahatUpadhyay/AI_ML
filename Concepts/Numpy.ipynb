{
  "cells": [
    {
      "cell_type": "markdown",
      "metadata": {
        "id": "view-in-github",
        "colab_type": "text"
      },
      "source": [
        "<a href=\"https://colab.research.google.com/github/Daksaweaomegg10/AI_ML/blob/main/Concepts/Numpy.ipynb\" target=\"_parent\"><img src=\"https://colab.research.google.com/assets/colab-badge.svg\" alt=\"Open In Colab\"/></a>"
      ]
    },
    {
      "cell_type": "code",
      "execution_count": null,
      "metadata": {
        "colab": {
          "base_uri": "https://localhost:8080/"
        },
        "id": "24-IbS2uAc4p",
        "outputId": "c925e6da-df36-494a-f29c-11fbdd8a3c99"
      },
      "outputs": [
        {
          "output_type": "stream",
          "name": "stdout",
          "text": [
            "0.008204709999999338\n"
          ]
        }
      ],
      "source": [
        "#List v/s numpy time\n",
        "from time import process_time\n",
        "\n",
        "l=[i for i in range(100000)]\n",
        "\n",
        "start_time=process_time()\n",
        "\n",
        "l=[i+5 for i in l]\n",
        "end_time=process_time();\n",
        "\n",
        "t=end_time-start_time\n",
        "print(t)"
      ]
    },
    {
      "cell_type": "code",
      "execution_count": null,
      "metadata": {
        "id": "4fJvFm2WAP_l"
      },
      "outputs": [],
      "source": [
        "import numpy as np"
      ]
    },
    {
      "cell_type": "code",
      "execution_count": null,
      "metadata": {
        "colab": {
          "base_uri": "https://localhost:8080/"
        },
        "id": "D742I-L9BLFA",
        "outputId": "2d393da2-4c19-4487-dec9-46c9940559ad"
      },
      "outputs": [
        {
          "output_type": "stream",
          "name": "stdout",
          "text": [
            "0.0069039839999991415\n"
          ]
        }
      ],
      "source": [
        "#Numpy array\n",
        "np_arr=np.array([i for i in range(100000)])\n",
        "start_time=process_time()\n",
        "\n",
        "np_arr=[i+5 for i in l]\n",
        "end_time=process_time();\n",
        "\n",
        "t=end_time-start_time\n",
        "print(t)\n"
      ]
    },
    {
      "cell_type": "markdown",
      "metadata": {
        "id": "cWYaT9CdBoV1"
      },
      "source": [
        "Numpy Array"
      ]
    },
    {
      "cell_type": "code",
      "execution_count": null,
      "metadata": {
        "colab": {
          "base_uri": "https://localhost:8080/"
        },
        "id": "hnSHQGoaBn3l",
        "outputId": "de2e62a8-874b-49a8-ed42-74ed399ca60b"
      },
      "outputs": [
        {
          "output_type": "stream",
          "name": "stdout",
          "text": [
            "[1, 2, 3, 4, 5]\n"
          ]
        },
        {
          "output_type": "execute_result",
          "data": {
            "text/plain": [
              "list"
            ]
          },
          "metadata": {},
          "execution_count": 17
        }
      ],
      "source": [
        "#list\n",
        "l=[1,2,3,4,5]\n",
        "print(l)\n",
        "type(l)"
      ]
    },
    {
      "cell_type": "code",
      "execution_count": null,
      "metadata": {
        "colab": {
          "base_uri": "https://localhost:8080/"
        },
        "id": "jPssyGQYB2fT",
        "outputId": "409f0a4f-c155-46b7-e43c-f6bcf2a52246"
      },
      "outputs": [
        {
          "output_type": "stream",
          "name": "stdout",
          "text": [
            "[1 2 3 4 5]\n"
          ]
        },
        {
          "output_type": "execute_result",
          "data": {
            "text/plain": [
              "numpy.ndarray"
            ]
          },
          "metadata": {},
          "execution_count": 18
        }
      ],
      "source": [
        "nparr=np.array([1,2,3,4,5])\n",
        "print(nparr)\n",
        "type(nparr)# not seprated by commass see output\n",
        "# Also see the \"type\" output as Nd Array"
      ]
    },
    {
      "cell_type": "code",
      "execution_count": null,
      "metadata": {
        "colab": {
          "base_uri": "https://localhost:8080/"
        },
        "id": "o54vtSiiEs9b",
        "outputId": "9e9d90f6-b201-475c-9dbd-94fe2f7a0949"
      },
      "outputs": [
        {
          "output_type": "stream",
          "name": "stdout",
          "text": [
            "[[1. 2. 3. 4. 5.]\n",
            " [3. 4. 5. 6. 7.]]\n"
          ]
        },
        {
          "output_type": "execute_result",
          "data": {
            "text/plain": [
              "(2, 5)"
            ]
          },
          "metadata": {},
          "execution_count": 19
        }
      ],
      "source": [
        "_2d_np_arr=np.array([(1,2,3,4,5),(3,4,5,6,7)],dtype=float)\n",
        "print(_2d_np_arr)\n",
        "type(_2d_np_arr)\n",
        "_2d_np_arr.shape # return the row and column"
      ]
    },
    {
      "cell_type": "markdown",
      "metadata": {
        "id": "-LlmO-z2Fe-P"
      },
      "source": [
        "Initail Place Holders"
      ]
    },
    {
      "cell_type": "code",
      "execution_count": null,
      "metadata": {
        "colab": {
          "base_uri": "https://localhost:8080/"
        },
        "id": "rhgui_GaFdUk",
        "outputId": "d2c7e96f-f5a2-4ef8-8c4e-e25c8ca2db98"
      },
      "outputs": [
        {
          "output_type": "stream",
          "name": "stdout",
          "text": [
            "[[0. 0. 0. 0. 0.]\n",
            " [0. 0. 0. 0. 0.]\n",
            " [0. 0. 0. 0. 0.]]\n",
            "\n",
            "[[1. 1. 1. 1.]\n",
            " [1. 1. 1. 1.]]\n",
            "\n",
            "[[5 5 5 5]\n",
            " [5 5 5 5]\n",
            " [5 5 5 5]\n",
            " [5 5 5 5]\n",
            " [5 5 5 5]]\n",
            "\n",
            "[[1. 0. 0. 0. 0.]\n",
            " [0. 1. 0. 0. 0.]\n",
            " [0. 0. 1. 0. 0.]\n",
            " [0. 0. 0. 1. 0.]\n",
            " [0. 0. 0. 0. 1.]]\n",
            "\n",
            "[[0.6933759  0.39911722 0.36842659 0.0676397 ]\n",
            " [0.68554985 0.76774324 0.32046406 0.52245502]\n",
            " [0.77087502 0.08014285 0.78936952 0.57979755]]\n",
            "\n",
            "[[54  5 59 59]\n",
            " [29  9 28 74]\n",
            " [22 64 76 89]]\n"
          ]
        }
      ],
      "source": [
        "# creating 2d array of specified row and columns\n",
        "\n",
        "x=np.zeros((3,5))# all '0'\n",
        "print(x)\n",
        "\n",
        "print(\"\")\n",
        "\n",
        "y=np.ones((2,4))# all '1'\n",
        "print(y)\n",
        "\n",
        "print(\"\")\n",
        "\n",
        "z=np.full((5,4),5)# all '5' or any value specified\n",
        "print(z)\n",
        "\n",
        "print(\"\")\n",
        "\n",
        "p=np.eye((5))# Identity Matrix\n",
        "print(p)\n",
        "\n",
        "print(\"\")\n",
        "\n",
        "q=np.random.random((3,4))# random values between 0 and 1 as default oin python\n",
        "print(q)\n",
        "\n",
        "print(\"\")\n",
        "\n",
        "\n",
        "r=np.random.randint(1,100,(3,4))# random values between 1 and 100\n",
        "print(r)\n",
        "\n"
      ]
    },
    {
      "cell_type": "code",
      "execution_count": null,
      "metadata": {
        "colab": {
          "base_uri": "https://localhost:8080/"
        },
        "id": "OMLIJ3cNGWiV",
        "outputId": "a0c22d01-4eed-426f-edfc-e6fca1122c76"
      },
      "outputs": [
        {
          "output_type": "stream",
          "name": "stdout",
          "text": [
            "[10. 14. 18. 22. 26. 30.]\n",
            " \n",
            "[10 15 20 25 30]\n"
          ]
        }
      ],
      "source": [
        "d=np.linspace(10,30,6)\n",
        "print(d)\n",
        "\n",
        "print(\" \")\n",
        "\n",
        "e=np.arange(10,35,5)\n",
        "print(e)"
      ]
    },
    {
      "cell_type": "code",
      "execution_count": null,
      "metadata": {
        "colab": {
          "base_uri": "https://localhost:8080/"
        },
        "id": "rMLD_5wbMRpn",
        "outputId": "800b62f7-6932-4f3f-ba46-8f7ffbc983db"
      },
      "outputs": [
        {
          "output_type": "stream",
          "name": "stdout",
          "text": [
            "[1 2 3 4 5 6 7 8]\n"
          ]
        }
      ],
      "source": [
        "l=[1,2,3,4,5,6,7,8]\n",
        "\n",
        "np=np.asarray(l)\n",
        "print(np)"
      ]
    },
    {
      "cell_type": "markdown",
      "metadata": {
        "id": "1p-Zc2s5RqPB"
      },
      "source": [
        "Analysing a numpy array"
      ]
    },
    {
      "cell_type": "code",
      "execution_count": null,
      "metadata": {
        "colab": {
          "base_uri": "https://localhost:8080/"
        },
        "id": "5rhNNt4VRnjP",
        "outputId": "eacb73c7-c374-4cf4-a1fc-ba6d61b09700"
      },
      "outputs": [
        {
          "output_type": "stream",
          "name": "stdout",
          "text": [
            "(4, 5)\n",
            "2\n",
            "20\n",
            "int64\n"
          ]
        }
      ],
      "source": [
        "w=np.random.randint(1,100,(4,5))\n",
        "print(w.shape)# checking dimension\n",
        "\n",
        "print(w.ndim)# checking number of dimnesion\n",
        "\n",
        "print(w.size)# checking number of elements\n",
        "\n",
        "print(w.dtype)# checking datatype 64 bit integer Value"
      ]
    },
    {
      "cell_type": "markdown",
      "source": [
        "Mathematical Operations"
      ],
      "metadata": {
        "id": "4VjeOdDUVZrX"
      }
    },
    {
      "cell_type": "code",
      "source": [
        "l1=[1,2,3,4,5]\n",
        "l2=[6,7,8,9,10]\n",
        "\n",
        "print(l1+l2)# Concataion occurs\n",
        "\n",
        "np1=np.random.randint(1,10,(3,3))\n",
        "np2=np.random.randint(10,20,(3,3))\n",
        "\n",
        "print(np1+np2)# Addition Occurs\n",
        "print(np.add(np1,np2))\n",
        "\n",
        "print(np1-np2)# sub Occurs\n",
        "print(np.suntract(np1,np2))\n",
        "\n",
        "print(np1*np2)# multiply Occurs\n",
        "print(np.multiply(np1,np2))\n",
        "\n",
        "print(np1/np2)# division Occurs\n",
        "print(np.division(np1,np2))"
      ],
      "metadata": {
        "colab": {
          "base_uri": "https://localhost:8080/"
        },
        "id": "duotMUyvVZO-",
        "outputId": "ae1340e2-f456-40cd-cf28-3bb6a006fbe4"
      },
      "execution_count": null,
      "outputs": [
        {
          "output_type": "stream",
          "name": "stdout",
          "text": [
            "[1, 2, 3, 4, 5, 6, 7, 8, 9, 10]\n",
            "[[18 22 28]\n",
            " [25 13 21]\n",
            " [25 18 18]]\n",
            "[[-10  -8 -10]\n",
            " [ -7  -9 -13]\n",
            " [ -9 -14  -4]]\n",
            "[[ 56 105 171]\n",
            " [144  22  68]\n",
            " [136  32  77]]\n",
            "[[0.28571429 0.46666667 0.47368421]\n",
            " [0.5625     0.18181818 0.23529412]\n",
            " [0.47058824 0.125      0.63636364]]\n"
          ]
        }
      ]
    },
    {
      "cell_type": "markdown",
      "source": [
        "Array Manipulation"
      ],
      "metadata": {
        "id": "_okmBoyMXM3X"
      }
    },
    {
      "cell_type": "code",
      "source": [
        "p=np.random.randint(1,10,(3,4))\n",
        "# 1st Way\n",
        "transpose=np.transpose(p)\n",
        "print(p)\n",
        "print(transpose)\n",
        "print(transpose.shape)\n",
        "\n",
        "# 2nd way\n",
        "tran2=p.T\n",
        "print(tran2)\n",
        "print(tran2.shape)"
      ],
      "metadata": {
        "colab": {
          "base_uri": "https://localhost:8080/"
        },
        "id": "mWE5LrtzXPj8",
        "outputId": "2762e89e-491a-454c-e0bf-a0494c64fa07"
      },
      "execution_count": null,
      "outputs": [
        {
          "output_type": "stream",
          "name": "stdout",
          "text": [
            "[[4 2 2 8]\n",
            " [3 9 2 4]\n",
            " [8 7 5 1]]\n",
            "[[4 3 8]\n",
            " [2 9 7]\n",
            " [2 2 5]\n",
            " [8 4 1]]\n",
            "(4, 3)\n",
            "[[4 3 8]\n",
            " [2 9 7]\n",
            " [2 2 5]\n",
            " [8 4 1]]\n",
            "(4, 3)\n"
          ]
        }
      ]
    },
    {
      "cell_type": "code",
      "source": [
        "p=np.random.randint(1,10,(3,4))\n",
        "b=p.reshape(4,3)\n",
        "print(p)"
      ],
      "metadata": {
        "colab": {
          "base_uri": "https://localhost:8080/"
        },
        "id": "1A2XqzjIYPUr",
        "outputId": "6ebca56a-fb55-4c30-fb0c-1232db537723"
      },
      "execution_count": null,
      "outputs": [
        {
          "output_type": "stream",
          "name": "stdout",
          "text": [
            "[[5 7 7 5]\n",
            " [8 4 9 9]\n",
            " [5 8 9 9]]\n"
          ]
        }
      ]
    }
  ],
  "metadata": {
    "colab": {
      "provenance": [],
      "authorship_tag": "ABX9TyOUjhkCf7NkuKXHE1AO1l9+",
      "include_colab_link": true
    },
    "kernelspec": {
      "display_name": "Python 3",
      "name": "python3"
    },
    "language_info": {
      "name": "python"
    }
  },
  "nbformat": 4,
  "nbformat_minor": 0
}