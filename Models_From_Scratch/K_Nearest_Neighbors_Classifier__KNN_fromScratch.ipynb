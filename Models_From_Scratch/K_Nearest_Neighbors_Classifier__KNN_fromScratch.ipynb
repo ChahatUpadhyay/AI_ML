{
  "nbformat": 4,
  "nbformat_minor": 0,
  "metadata": {
    "colab": {
      "provenance": [],
      "authorship_tag": "ABX9TyNZlRExwq2ALkpM+gNhb+3Q",
      "include_colab_link": true
    },
    "kernelspec": {
      "name": "python3",
      "display_name": "Python 3"
    },
    "language_info": {
      "name": "python"
    }
  },
  "cells": [
    {
      "cell_type": "markdown",
      "metadata": {
        "id": "view-in-github",
        "colab_type": "text"
      },
      "source": [
        "<a href=\"https://colab.research.google.com/github/Daksaweaomegg10/AI_ML/blob/main/Models_From_Scratch/K_Nearest_Neighbors_Classifier__KNN_fromScratch.ipynb\" target=\"_parent\"><img src=\"https://colab.research.google.com/assets/colab-badge.svg\" alt=\"Open In Colab\"/></a>"
      ]
    },
    {
      "cell_type": "markdown",
      "source": [
        "Euclidean Distance"
      ],
      "metadata": {
        "id": "qDBHhHiPxJHB"
      }
    },
    {
      "cell_type": "markdown",
      "source": [
        "![Picture1.png](data:image/png;base64,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)"
      ],
      "metadata": {
        "id": "HgSc_KTHxn6G"
      }
    },
    {
      "cell_type": "markdown",
      "source": [
        "Manhattan Distance"
      ],
      "metadata": {
        "id": "8KIunufmxLIX"
      }
    },
    {
      "cell_type": "markdown",
      "source": [
        "![Picture2.png](data:image/png;base64,iVBORw0KGgoAAAANSUhEUgAAAYoAAAAvCAYAAAD92I35AAAAAXNSR0IArs4c6QAAAARnQU1BAACxjwv8YQUAAAAJcEhZcwAAFuoAABbqAeWOQxAAAA/xSURBVHhe7Z0JcBzFFYafwxHOQAiEK0AIR0IB4Qp3CEcg4QpXMBSElDkKGyxr51hdPkAQCAQIVzBXMAVxAi5cUBgwvqSdntmVVpIvjI2BMgabJCZAzI3BB1j5X08LSauVdkbackbwvqqu8XbPrudNd7/Xr/t1iwRBEARBEARBEARBEARBEARBEARBEARBEARBEARBEARBEARBEARBEARBEL5+1Ld/i4bP3URfhYEzdPJG8j4FQYjKEKqc9m1y8pvrVK82o/b2IaYsOViZX5AV3EF2cJLJEQaCpc6hdNNd5ARHmJxkUK82DtvhS5uaHGHAoD9zv9apXgYGQj+4fMrWUBr3kuO/Sk5uOdlqAVU37WJKk4Ot6mjcS+3kqD+aHGEg2N59dN0SvE9/pMlJBo66jKpnL8dzPWpyhIFSqX5Atv8iWf4iSs88wOQKQkx4BGd5k6huXjsa0wKTmyxs5VDN7HY0+HqTIwwEW91Oo19AfasrTc5AGGK80IF7olZg0+j53A4bTI4wUEYFe8IT/wTvdBWuh5pcQegHKX98qIiDh01OshBDUV7KaShGqp2odvYhNKJxV5PTfyw/RdVtqGc1zeQIA8VSP0S/eQ/pA3L9Q0yuIMSER4OWmkl1c9sp5Q0zuclCDEV5KaehSGWupzEL28kJ7jA5/UcMRfkRQyH0Cx3x8uAmeuGQo17SrXBN/eXkZj8jJ3OQuStZRDEUWh4jUyGcx2Us+2BiaPtGvT43L0zqMtwTl3IaCssbGyr34E8mp/+UMhRcjx1ttwd60da0gV7eWVLp65m5nnWEmrknbrCJGAohFtwI01P3oFT2MnTEa5DqyM2dQlbmPHL8tZRSr1Iqt7u5O1n0ZSi441TM2gWKqgKKZqyWaXIX5cmdy/bOoNrWMTCG55jchAOZXLU96uQySreMg1xnaTk64LpMeb8kt2kMOeoSHbkWh8FoKFhZOv7p8GCu0fdVTd3JlISkZ34f7cNCHY+h6vwYSudOMyUJBvWcatxR10NV21hycuf2MBap5gOoGm0gBbms3GiqaNjXlERDDIUQGW58bBDs7BI0mPXoiB/h+i6ub+P6IqWbeQFxCt29JLrC6Rjt9icVGzn1RV+Ggr0gS2XICf6j73Gyb1F15se6jEegtmfhe+to3GL+/iSdn3S4c1tqCurr31pxOtkPqdI/UZexYXRyF0NprqJrXmal6tElM7fUZVEZbIZi2CObUcq/Fe9jOWT/kup4wTt4ULelDurVVjCaNtXOaaexi9phMP5mSpKL3fAjyMxtd4We+nWC1aiT7oOZiqZdIPNMGrOgnWogW2VwtimJhhgKIRKsWFzvQow+V2G0/Z7ujLUN28Cl3RjK5maqbm0PDUUwznwjGnb290g1aIDxkttUg8Z7ke78UenNUPAoM6UeQPkEsp7eFuUzqBYdzoXHxFE4PAK11WrkKyjblWVRjBuCtH8tnnUKOc/tivq6P4wEUuNDTwOd3fFXQp4A9bYMnsUN5lvRGWyGwm44GXlzqTo4lOzGq9CGvsCzv0NWy37mjk54EOQEX+D9nGpykovj3Ya2+Ti5z24PeZ4NIw/VYzS0YB+JlbmaXO6j3qLYe0zEUAiRSKkD9Cg73fwFRtfdF6vTzXvAeGAko9aS1XChyS2NHtXySCj3IRpivOQ245qdCoW+jfm10vRmKCbDM3HU3lQ9ZWv92fJcqsZ9ljeZRkDJ2v5SKJ9Jer8Iv4eRk7fS9yWdkZk9qKLte/rfVnAh6o+9wDyldaijT27gUeW071BVZi897RaXwWYoKrM76P0ADE+9WOqflG5aT6PUyTqvAzc4BoMXtPNg/qCoa57q5XrU/1aXUVVLaAwK9zJZ6ha0//W4XodPskYhlBkecfNIlF31lPc4PYjPXUk1HG6mneBpoEEllSiL2UzK3weGaB2uLyDdh87XSjcZhVsuwkVks9O1Hyn2tFuOpydWQvZlUIITcH0FymUvU9o/4hoKnsIbVkQWTpYarZU7e6fFysNUZPG5CL0Ziq7wc1gqG46+s67JDanEs7g5KNRMeTzHcHq1mDzREnuAUbHUCZD/UxiK96nGP9Dkkh4EOZDX9ldQJQYGcRFDIZTEDXZDA3kTrvpachrPNbmdOH6aqjGKcfxWk5NMohoKp3FXdIzlkJeN3+uUzh1mSsqHq35C6XwezxQ/pVvz+jiSWGjvbR4M+pf4jXfx/59pCvpPXENRqY7CvRkYqp4y8ejeyfJvrehRphO+w2sqUYhiKBjHf0i3B8v7u8mBMZu7Bb4XIL2h23054MVlrrOicpVKQZ5GFiy490Vq1j7w+JdRVZ7XpI43uagr71j81ud4N+NNTjzEUAglsfzTdMezvDeoqq2g0UIB8XwoT9WkvIdMZjKJaiiqm/hIEk+vu7j+WJPbNzzaZc8rKhxOXJWfhGeJn6racFU/M78UHTsI68nqs57C8FCOgOpIHEpajLiGYlTmIDz/I1DAPWWy1EI9fWmrl3uUceLvpCIat+iGIqWnaWzf/yocOuWfgve0BqPvav25GLque3knxXDxm7rOishVKrHcvPYQB9ufrj0l26sIM3QfvUtP8dq5/cM8Q0fYrK7rJWF9F/NWxVAIJbH9m3SkRLEjEWpzu6N8KdWwIQlGmNzoOPntdGhf7NSyI9XlvotOEP2Asjgeha0W63udEovzHELLi/ocVmtnx/RrP8KGYDie0VJ+aPD9iSa3JzV8pk9wFeSfANkn4vokPl9Dt+c3N3d0Ut41Clc/mxPw/PnAiGoorm48kVxet/H/pZUjK00L8vKZZbptFcB1O3raDnjGUajrGpObPGz/ntBTgsfE6OM31EcYyN2qP3fF8o5E/d6I9DBkegzXx9G/eobXiqEQSmL5E4yCfdLkhBxfvzHybtBTNLa/miob4jUgXsy2g9k6EsMO4qU0RoIpP0AD3tb8WmmiGIr0zC0h76O4522McNfg38/R+UWUJMPKhPcfcGgpT73xtErctYMNAY9++SBES70FedZAthfIeaKnTGz0eNHezX2K6+VUpXYiKzOOnCaerrqXTsVosyuDbTG7EG47lnof6TN9hEhl5hj8ezUU4eXmjk54P4qTuRjlWfPbz5iS5JGCIauCN2yr57Xxs9XdqPNlOrihK0Mnb4r3/gnSHKryj9ZBDbaapdt9ofcmhkIoia0eDkcoaop2YxlWiG7mLHTsJXo3tqVe142J4cYZFSt3gp7Ddfx4qSp/LhrtcbGme3ozFOHzDtEypVQdypdCsV4JeTgU9vWvImW07EZ+xg0uhVIaj3dwNu5bAVd/emIMBRthTjyl4mRhzIJ3oOwuwvMuxXvgyLGDzZ0dh/EZQ6FgJNUD+jMTBjLMQ94SGg1PriuD3VA4+iDLFty3Pnw3aipSpmikU8objme7F+V839v4TvdBU5Lg6SW9GB/Mx2DqcLTnt/HMtinthBfK9VRfrjPqy1FH6SlAy7/N5ISIoRBKwiOSsOO9iYa3j57LdP2h+LxYNyiOsOBwSx6N8/y+3cTz59EjNTYUvRkKNjjhpqXzcM8abQDOx4jb8mAEc1/g8zGh95PZX3eYDnREisHyX8N3ZyTGUNiNh5LVdDA6/ql45vchw/V6+oj3gqThAabgCbFMI1gBdJm3rscos8NwMBxvb6tmGOdFkLf7XPlgNxRcV7Z6DO+Ep5/gnXJUmHesKe1OR12Pzu4Aed/A957Sn5MIe0ocsGB5H+PqIbVCgCKDN9RzYQSj4x+IgcVa7YF2RQyFUBJejEvnefMRK1k+k74B6WPkj9UGI5w6mk9W9kiUc+jldOqI604SxQxF6Jq/Ca/mFRiFDyDXo18tbDrqCaqdx9Fc94WKV70IOXseeDj82S3wmzxST4ah4N3FvECbbn6LnAAKA/XBBpxxvJupbh4rxidRdgQUo0K9XavLimH5RyOxB3ILDEh3ZTPYDQVjq0odtOAE8Cr8O01u76Qze+DdLcP3kmsobluwJd5jHn0W74AHcV08hr7gAQIf8ZHOfUZpeCJdEUMhlMThkaiaQG7Taqqbvw4K9XN8vlGXcaNx/NepZg5GIbmVcNGnQcHu/ZWyTRLFDEVV40/RCT6DXGuRP0MvknfA87RO9n2qaoFXkYPShfdU394zlj9phkJ7R2o51S2ATGp2t7h5jpay/Teodg4Mf+6/kGkiVTQU3yPC9W75M/GdNh10UMjXwlB4Z+g9QLbfFmnT4WAwFNz3LAxyqud8SVYQ9Y90DdEeKHtVVuMfTF4nYiiESIzkUWrjb9CxhtGoAvecRx81bcMo5Z9Ow+duYXKTRzFDwbt1Hf9iKNML4AXtYHI70RuYgkuhwHr/86lJMxTszTnBb/X0kh3sbHI7SXuH6fqqCH7dbfqsKxwCypvfeG2iN8VQTkPBx7JUt67CNf5RIoVENRQsIy/S6/0FeBdRGAyGgk9KCNcMZ5P1QrRgj1TD7nhvc/EuHtZ9vRAxFMI3ht7WKAZK0gzFQGEZLC8FmZaTq35ucntSTkPBUVjOS9uVZaARxVCEo+4r4VWtx/29T70VknRDwYMEO3gKMn0I2aId988RXZY/Fd97nurRloshhkL4xiCGojR6nlqdCXlWQHF0njDKG7EKo9nKaSjKSW+GItxMtmnoSQS/Ijf7ETzkp3X9RSVphoINHnuFLBMHHvAffuKTcXkvTBQcHfn1EORp1gaD4TbMQQ1dEUMhfGNwfZdq561HZxr4pq6u8Am2dvAalM509Nzkrc3Ewc3uC2WwSIeDdigMnp7jXcI1Bbt6be9OGrOQF8aHm5xkUMxQ8F6SlD+d7KZ7kO/gmVeR48+hKwpCfkvhztgNv89RTxwe+/+P7OOpUQ4wcQIb8jxK6eb1qLuo03dDiMPAbf9VSs/cU4dCc33b6nz81l/MPSFiKIRvDJY/lNK5OWjs5VFsrEi1N9F0HAzFKnSwJVQBRVtsM9tgQE85BX8mN7cWSvWveE/3kePdT06WF7Tf7TGV4XgjqTo/F+/1LJOTDHjPAA8ILDXL5CBv1n74vFJ7QHyEvBVk4TkdYEpLw94U1zXv4bH8z2EkF2nlyXXdNZx4Q+N4I7RR5AM70/l18A5u015CFK7Ibwc54B0FS3C9J6xrXd/sHXffUKh3d/sfQ/ZP9THtgvC1hSOWeA63PsbfsOgLDi+1vCfQgaZDgbSiE7Ug7xmyMv/Qe0oGG+EZV0/AILRCpsVQIC+HKbdQK47Kpu6njvI0Dr/POJseNwSV/gVU1daCuun8+9v8h6l41zHvrHaytXTJxJh/pAneVFUL3g1HgaGu+cA+NzsFv/cglevwwP5ge7/Dc7Xg+jRSvD9GZGdO0nI4AS9im7pGSjfPw/V6c1fIlcHOeG8z9Dt0Y/51PEEQBEEQBEEQBEEQBEEQBEEQBEEQBEEQBEEQBEEQBEEQBEEQBEEQBEEQBEEQBEEQBEEQBEEQBEHoF0T/A7Pjo7GyQ+ROAAAAAElFTkSuQmCC)"
      ],
      "metadata": {
        "id": "iAWkKh6BxtLY"
      }
    },
    {
      "cell_type": "code",
      "execution_count": null,
      "metadata": {
        "id": "wDoPBgnJAFGw"
      },
      "outputs": [],
      "source": [
        "#imporitng dependecies\n",
        "import numpy as np\n",
        "import statistics"
      ]
    },
    {
      "cell_type": "code",
      "source": [
        "class KNN_Classifier():\n",
        "\n",
        "  # initiating the parameters\n",
        "  def __init__(self, distance_metric):\n",
        "\n",
        "    self.distance_metric = distance_metric\n",
        "\n",
        "  # getting the distance metric\n",
        "  def get_distance_metric(self,training_data_point, test_data_point):\n",
        "\n",
        "    if (self.distance_metric == 'euclidean'):\n",
        "\n",
        "      dist = 0\n",
        "      for i in range(len(training_data_point) - 1):\n",
        "        dist = dist + (training_data_point[i] - test_data_point[i])**2\n",
        "\n",
        "      euclidean_dist = np.sqrt(dist)\n",
        "\n",
        "      return euclidean_dist\n",
        "\n",
        "    elif (self.distance_metric == 'manhattan'):\n",
        "\n",
        "      dist = 0\n",
        "\n",
        "      for i in range(len(training_data_point) - 1):\n",
        "        dist = dist + abs(training_data_point[i] - test_data_point[i])\n",
        "\n",
        "      manhattan_dist = dist\n",
        "\n",
        "      return manhattan_dist\n",
        "\n",
        "  # getting the nearest neighbors\n",
        "  def nearest_neighbors(self,X_train, test_data, k):\n",
        "\n",
        "    distance_list = []\n",
        "\n",
        "    for training_data in X_train:\n",
        "\n",
        "      distance = self.get_distance_metric(training_data, test_data)\n",
        "      distance_list.append((training_data, distance))\n",
        "\n",
        "    distance_list.sort(key=lambda x: x[1])\n",
        "\n",
        "    neighbors_list = []\n",
        "\n",
        "    for j in range(k):\n",
        "      neighbors_list.append(distance_list[j][0])\n",
        "\n",
        "    return neighbors_list\n",
        "\n",
        "\n",
        "  # predict the class of the new data point:\n",
        "  def predict(self,X_train, test_data, k):\n",
        "    neighbors = self.nearest_neighbors(X_train, test_data, k)\n",
        "\n",
        "    for data in neighbors:\n",
        "      label = []\n",
        "      label.append(data[-1])\n",
        "\n",
        "    predicted_class = statistics.mode(label)\n",
        "\n",
        "    return predicted_class"
      ],
      "metadata": {
        "id": "5KAlPCNsAc8t"
      },
      "execution_count": null,
      "outputs": []
    },
    {
      "cell_type": "code",
      "source": [
        "import numpy as np\n",
        "import pandas as pd\n",
        "from sklearn.model_selection import train_test_split\n",
        "from sklearn.metrics import accuracy_score"
      ],
      "metadata": {
        "id": "LSbvyfHaEig0"
      },
      "execution_count": null,
      "outputs": []
    },
    {
      "cell_type": "code",
      "source": [
        "# loading the diabetes dataset to a pandas DataFrame\n",
        "diabetes_dataset = pd.read_csv('/content/diabetes (2).csv')"
      ],
      "metadata": {
        "id": "udmcflWxGewM"
      },
      "execution_count": null,
      "outputs": []
    },
    {
      "cell_type": "code",
      "source": [
        "# separating features and Target\n",
        "X = diabetes_dataset.drop(columns='Outcome', axis = 1)\n",
        "Y = diabetes_dataset['Outcome']"
      ],
      "metadata": {
        "id": "kHGrXRPUGjLz"
      },
      "execution_count": null,
      "outputs": []
    },
    {
      "cell_type": "code",
      "source": [
        "# converting the data to numpy array\n",
        "X = X.to_numpy()\n",
        "Y = Y.to_numpy()"
      ],
      "metadata": {
        "id": "XQsfueVUGlGC"
      },
      "execution_count": null,
      "outputs": []
    },
    {
      "cell_type": "code",
      "source": [
        "# train test split\n",
        "X_train, X_test, Y_train, Y_test = train_test_split(X, Y, test_size=0.2, stratify=Y, random_state=2)"
      ],
      "metadata": {
        "id": "gEebEghlGoH7"
      },
      "execution_count": null,
      "outputs": []
    },
    {
      "cell_type": "code",
      "source": [
        "print(X.shape, X_train.shape, X_test.shape)"
      ],
      "metadata": {
        "colab": {
          "base_uri": "https://localhost:8080/"
        },
        "id": "8uB-6knAGpnw",
        "outputId": "51d0ea10-d3ea-4d30-db42-7bc5bed99235"
      },
      "execution_count": null,
      "outputs": [
        {
          "output_type": "stream",
          "name": "stdout",
          "text": [
            "(768, 8) (614, 8) (154, 8)\n"
          ]
        }
      ]
    },
    {
      "cell_type": "code",
      "source": [
        "X_train = np.insert(X_train, 8, Y_train, axis=1)"
      ],
      "metadata": {
        "id": "nPZV4eQ8GrMt"
      },
      "execution_count": null,
      "outputs": []
    },
    {
      "cell_type": "markdown",
      "source": [
        "X_train --> training data with features and target\n",
        "\n",
        "X_test  --> test data without target"
      ],
      "metadata": {
        "id": "0C18zEit6rbP"
      }
    },
    {
      "cell_type": "code",
      "source": [
        "#using KNN custom class"
      ],
      "metadata": {
        "id": "TmJ2nIW_GxEw"
      },
      "execution_count": null,
      "outputs": []
    },
    {
      "cell_type": "code",
      "source": [
        "classifier = KNN_Classifier(distance_metric='manhattan')\n",
        "prediction = classifier.predict(X_train, X_test[2], k=7)"
      ],
      "metadata": {
        "id": "FwFpKpJYG83P"
      },
      "execution_count": null,
      "outputs": []
    },
    {
      "cell_type": "code",
      "source": [
        "print(X_test[2])"
      ],
      "metadata": {
        "colab": {
          "base_uri": "https://localhost:8080/"
        },
        "id": "nW_sI9CPHBaX",
        "outputId": "c733e7d3-69cf-409e-8343-f84bcd04c6a5"
      },
      "execution_count": null,
      "outputs": [
        {
          "output_type": "stream",
          "name": "stdout",
          "text": [
            "[  5.    147.     78.      0.      0.     33.7     0.218  65.   ]\n"
          ]
        }
      ]
    },
    {
      "cell_type": "code",
      "source": [
        "print(Y_test[2])# answer jo hona chhahiye"
      ],
      "metadata": {
        "colab": {
          "base_uri": "https://localhost:8080/"
        },
        "id": "rYrVd6xJHISP",
        "outputId": "caf327ed-2901-4e0f-f8c2-fd8afa65805d"
      },
      "execution_count": null,
      "outputs": [
        {
          "output_type": "stream",
          "name": "stdout",
          "text": [
            "0\n"
          ]
        }
      ]
    },
    {
      "cell_type": "code",
      "source": [
        "print(prediction)"
      ],
      "metadata": {
        "colab": {
          "base_uri": "https://localhost:8080/"
        },
        "id": "YklCHXJWHLCE",
        "outputId": "4b29efdd-212e-4be1-83ca-5012af46ee33"
      },
      "execution_count": null,
      "outputs": [
        {
          "output_type": "stream",
          "name": "stdout",
          "text": [
            "0.0\n"
          ]
        }
      ]
    },
    {
      "cell_type": "code",
      "source": [
        "X_test_size = X_test.shape[0]\n",
        "print(X_test_size)"
      ],
      "metadata": {
        "colab": {
          "base_uri": "https://localhost:8080/"
        },
        "id": "6cH-iG-uHMPL",
        "outputId": "86cec9d0-8285-4805-e4e2-c11640ae79ca"
      },
      "execution_count": null,
      "outputs": [
        {
          "output_type": "stream",
          "name": "stdout",
          "text": [
            "154\n"
          ]
        }
      ]
    },
    {
      "cell_type": "code",
      "source": [
        "y_pred = []\n",
        "\n",
        "for i in range(X_test_size):\n",
        "  prediction = classifier.predict(X_train, X_test[i], k=5)\n",
        "  y_pred.append(prediction)"
      ],
      "metadata": {
        "id": "rPjq1OoKHTZt"
      },
      "execution_count": null,
      "outputs": []
    },
    {
      "cell_type": "code",
      "source": [
        "print(y_pred)"
      ],
      "metadata": {
        "colab": {
          "base_uri": "https://localhost:8080/"
        },
        "id": "Uz-qHiMdKobd",
        "outputId": "c15f8435-872c-4daa-d092-7e619c69db50"
      },
      "execution_count": null,
      "outputs": [
        {
          "output_type": "stream",
          "name": "stdout",
          "text": [
            "[0.0, 0.0, 0.0, 1.0, 0.0, 0.0, 0.0, 1.0, 1.0, 0.0, 1.0, 0.0, 1.0, 0.0, 0.0, 1.0, 0.0, 0.0, 0.0, 0.0, 0.0, 1.0, 0.0, 0.0, 0.0, 0.0, 0.0, 0.0, 0.0, 0.0, 0.0, 0.0, 1.0, 1.0, 0.0, 1.0, 0.0, 0.0, 0.0, 0.0, 1.0, 0.0, 0.0, 1.0, 1.0, 1.0, 0.0, 0.0, 0.0, 1.0, 0.0, 0.0, 1.0, 0.0, 1.0, 0.0, 0.0, 0.0, 0.0, 0.0, 0.0, 0.0, 1.0, 0.0, 1.0, 1.0, 0.0, 1.0, 0.0, 0.0, 0.0, 0.0, 0.0, 0.0, 0.0, 0.0, 0.0, 0.0, 0.0, 0.0, 0.0, 0.0, 0.0, 0.0, 0.0, 0.0, 0.0, 0.0, 1.0, 0.0, 0.0, 0.0, 1.0, 0.0, 0.0, 1.0, 1.0, 0.0, 1.0, 1.0, 0.0, 0.0, 1.0, 1.0, 1.0, 0.0, 0.0, 0.0, 0.0, 0.0, 1.0, 0.0, 0.0, 1.0, 0.0, 1.0, 0.0, 1.0, 1.0, 1.0, 0.0, 0.0, 0.0, 0.0, 0.0, 0.0, 0.0, 0.0, 0.0, 0.0, 1.0, 1.0, 1.0, 0.0, 1.0, 0.0, 0.0, 1.0, 0.0, 1.0, 0.0, 0.0, 1.0, 0.0, 0.0, 1.0, 0.0, 0.0, 1.0, 0.0, 1.0, 0.0, 0.0, 0.0]\n"
          ]
        }
      ]
    },
    {
      "cell_type": "code",
      "source": [
        "y_true = Y_test\n",
        "accuracy = accuracy_score(y_true, y_pred)"
      ],
      "metadata": {
        "id": "h8_Du3PCKoxK"
      },
      "execution_count": null,
      "outputs": []
    },
    {
      "cell_type": "code",
      "source": [
        "print(accuracy*100)# changes with k value"
      ],
      "metadata": {
        "colab": {
          "base_uri": "https://localhost:8080/"
        },
        "id": "7wiozvcwKqoi",
        "outputId": "049479ce-8f3a-41e4-be4e-9990b74af77d"
      },
      "execution_count": null,
      "outputs": [
        {
          "output_type": "stream",
          "name": "stdout",
          "text": [
            "74.02597402597402\n"
          ]
        }
      ]
    },
    {
      "cell_type": "code",
      "source": [
        "# Now comapring with orignal model"
      ],
      "metadata": {
        "id": "B7MDuJc0LDTk"
      },
      "execution_count": null,
      "outputs": []
    },
    {
      "cell_type": "code",
      "source": [
        "import numpy as np\n",
        "import pandas as pd\n",
        "from sklearn.model_selection import train_test_split\n",
        "from sklearn.neighbors import KNeighborsClassifier\n",
        "from sklearn.metrics import accuracy_score"
      ],
      "metadata": {
        "id": "ufmQgxMLLmIo"
      },
      "execution_count": null,
      "outputs": []
    },
    {
      "cell_type": "code",
      "source": [
        "# loading the diabetes dataset to a pandas DataFrame\n",
        "diabetes_dataset = pd.read_csv('/content/diabetes (2).csv')"
      ],
      "metadata": {
        "id": "8xDsk7Q8yTBw"
      },
      "execution_count": null,
      "outputs": []
    },
    {
      "cell_type": "code",
      "source": [
        "# printing the first 5 rows of the dataset\n",
        "diabetes_dataset.head()"
      ],
      "metadata": {
        "colab": {
          "base_uri": "https://localhost:8080/",
          "height": 226
        },
        "id": "2GMeXw9vyUwr",
        "outputId": "46aa1ba0-d54f-41e2-c114-29fc1e294366"
      },
      "execution_count": null,
      "outputs": [
        {
          "output_type": "execute_result",
          "data": {
            "text/plain": [
              "   Pregnancies  Glucose  BloodPressure  SkinThickness  Insulin   BMI  \\\n",
              "0            6      148             72             35        0  33.6   \n",
              "1            1       85             66             29        0  26.6   \n",
              "2            8      183             64              0        0  23.3   \n",
              "3            1       89             66             23       94  28.1   \n",
              "4            0      137             40             35      168  43.1   \n",
              "\n",
              "   DiabetesPedigreeFunction  Age  Outcome  \n",
              "0                     0.627   50        1  \n",
              "1                     0.351   31        0  \n",
              "2                     0.672   32        1  \n",
              "3                     0.167   21        0  \n",
              "4                     2.288   33        1  "
            ],
            "text/html": [
              "\n",
              "  <div id=\"df-95c7967f-a659-42de-b24b-5ddda139d29d\" class=\"colab-df-container\">\n",
              "    <div>\n",
              "<style scoped>\n",
              "    .dataframe tbody tr th:only-of-type {\n",
              "        vertical-align: middle;\n",
              "    }\n",
              "\n",
              "    .dataframe tbody tr th {\n",
              "        vertical-align: top;\n",
              "    }\n",
              "\n",
              "    .dataframe thead th {\n",
              "        text-align: right;\n",
              "    }\n",
              "</style>\n",
              "<table border=\"1\" class=\"dataframe\">\n",
              "  <thead>\n",
              "    <tr style=\"text-align: right;\">\n",
              "      <th></th>\n",
              "      <th>Pregnancies</th>\n",
              "      <th>Glucose</th>\n",
              "      <th>BloodPressure</th>\n",
              "      <th>SkinThickness</th>\n",
              "      <th>Insulin</th>\n",
              "      <th>BMI</th>\n",
              "      <th>DiabetesPedigreeFunction</th>\n",
              "      <th>Age</th>\n",
              "      <th>Outcome</th>\n",
              "    </tr>\n",
              "  </thead>\n",
              "  <tbody>\n",
              "    <tr>\n",
              "      <th>0</th>\n",
              "      <td>6</td>\n",
              "      <td>148</td>\n",
              "      <td>72</td>\n",
              "      <td>35</td>\n",
              "      <td>0</td>\n",
              "      <td>33.6</td>\n",
              "      <td>0.627</td>\n",
              "      <td>50</td>\n",
              "      <td>1</td>\n",
              "    </tr>\n",
              "    <tr>\n",
              "      <th>1</th>\n",
              "      <td>1</td>\n",
              "      <td>85</td>\n",
              "      <td>66</td>\n",
              "      <td>29</td>\n",
              "      <td>0</td>\n",
              "      <td>26.6</td>\n",
              "      <td>0.351</td>\n",
              "      <td>31</td>\n",
              "      <td>0</td>\n",
              "    </tr>\n",
              "    <tr>\n",
              "      <th>2</th>\n",
              "      <td>8</td>\n",
              "      <td>183</td>\n",
              "      <td>64</td>\n",
              "      <td>0</td>\n",
              "      <td>0</td>\n",
              "      <td>23.3</td>\n",
              "      <td>0.672</td>\n",
              "      <td>32</td>\n",
              "      <td>1</td>\n",
              "    </tr>\n",
              "    <tr>\n",
              "      <th>3</th>\n",
              "      <td>1</td>\n",
              "      <td>89</td>\n",
              "      <td>66</td>\n",
              "      <td>23</td>\n",
              "      <td>94</td>\n",
              "      <td>28.1</td>\n",
              "      <td>0.167</td>\n",
              "      <td>21</td>\n",
              "      <td>0</td>\n",
              "    </tr>\n",
              "    <tr>\n",
              "      <th>4</th>\n",
              "      <td>0</td>\n",
              "      <td>137</td>\n",
              "      <td>40</td>\n",
              "      <td>35</td>\n",
              "      <td>168</td>\n",
              "      <td>43.1</td>\n",
              "      <td>2.288</td>\n",
              "      <td>33</td>\n",
              "      <td>1</td>\n",
              "    </tr>\n",
              "  </tbody>\n",
              "</table>\n",
              "</div>\n",
              "    <div class=\"colab-df-buttons\">\n",
              "\n",
              "  <div class=\"colab-df-container\">\n",
              "    <button class=\"colab-df-convert\" onclick=\"convertToInteractive('df-95c7967f-a659-42de-b24b-5ddda139d29d')\"\n",
              "            title=\"Convert this dataframe to an interactive table.\"\n",
              "            style=\"display:none;\">\n",
              "\n",
              "  <svg xmlns=\"http://www.w3.org/2000/svg\" height=\"24px\" viewBox=\"0 -960 960 960\">\n",
              "    <path d=\"M120-120v-720h720v720H120Zm60-500h600v-160H180v160Zm220 220h160v-160H400v160Zm0 220h160v-160H400v160ZM180-400h160v-160H180v160Zm440 0h160v-160H620v160ZM180-180h160v-160H180v160Zm440 0h160v-160H620v160Z\"/>\n",
              "  </svg>\n",
              "    </button>\n",
              "\n",
              "  <style>\n",
              "    .colab-df-container {\n",
              "      display:flex;\n",
              "      gap: 12px;\n",
              "    }\n",
              "\n",
              "    .colab-df-convert {\n",
              "      background-color: #E8F0FE;\n",
              "      border: none;\n",
              "      border-radius: 50%;\n",
              "      cursor: pointer;\n",
              "      display: none;\n",
              "      fill: #1967D2;\n",
              "      height: 32px;\n",
              "      padding: 0 0 0 0;\n",
              "      width: 32px;\n",
              "    }\n",
              "\n",
              "    .colab-df-convert:hover {\n",
              "      background-color: #E2EBFA;\n",
              "      box-shadow: 0px 1px 2px rgba(60, 64, 67, 0.3), 0px 1px 3px 1px rgba(60, 64, 67, 0.15);\n",
              "      fill: #174EA6;\n",
              "    }\n",
              "\n",
              "    .colab-df-buttons div {\n",
              "      margin-bottom: 4px;\n",
              "    }\n",
              "\n",
              "    [theme=dark] .colab-df-convert {\n",
              "      background-color: #3B4455;\n",
              "      fill: #D2E3FC;\n",
              "    }\n",
              "\n",
              "    [theme=dark] .colab-df-convert:hover {\n",
              "      background-color: #434B5C;\n",
              "      box-shadow: 0px 1px 3px 1px rgba(0, 0, 0, 0.15);\n",
              "      filter: drop-shadow(0px 1px 2px rgba(0, 0, 0, 0.3));\n",
              "      fill: #FFFFFF;\n",
              "    }\n",
              "  </style>\n",
              "\n",
              "    <script>\n",
              "      const buttonEl =\n",
              "        document.querySelector('#df-95c7967f-a659-42de-b24b-5ddda139d29d button.colab-df-convert');\n",
              "      buttonEl.style.display =\n",
              "        google.colab.kernel.accessAllowed ? 'block' : 'none';\n",
              "\n",
              "      async function convertToInteractive(key) {\n",
              "        const element = document.querySelector('#df-95c7967f-a659-42de-b24b-5ddda139d29d');\n",
              "        const dataTable =\n",
              "          await google.colab.kernel.invokeFunction('convertToInteractive',\n",
              "                                                    [key], {});\n",
              "        if (!dataTable) return;\n",
              "\n",
              "        const docLinkHtml = 'Like what you see? Visit the ' +\n",
              "          '<a target=\"_blank\" href=https://colab.research.google.com/notebooks/data_table.ipynb>data table notebook</a>'\n",
              "          + ' to learn more about interactive tables.';\n",
              "        element.innerHTML = '';\n",
              "        dataTable['output_type'] = 'display_data';\n",
              "        await google.colab.output.renderOutput(dataTable, element);\n",
              "        const docLink = document.createElement('div');\n",
              "        docLink.innerHTML = docLinkHtml;\n",
              "        element.appendChild(docLink);\n",
              "      }\n",
              "    </script>\n",
              "  </div>\n",
              "\n",
              "\n",
              "<div id=\"df-7f193f98-c421-4de3-8e66-59169cb648fa\">\n",
              "  <button class=\"colab-df-quickchart\" onclick=\"quickchart('df-7f193f98-c421-4de3-8e66-59169cb648fa')\"\n",
              "            title=\"Suggest charts\"\n",
              "            style=\"display:none;\">\n",
              "\n",
              "<svg xmlns=\"http://www.w3.org/2000/svg\" height=\"24px\"viewBox=\"0 0 24 24\"\n",
              "     width=\"24px\">\n",
              "    <g>\n",
              "        <path d=\"M19 3H5c-1.1 0-2 .9-2 2v14c0 1.1.9 2 2 2h14c1.1 0 2-.9 2-2V5c0-1.1-.9-2-2-2zM9 17H7v-7h2v7zm4 0h-2V7h2v10zm4 0h-2v-4h2v4z\"/>\n",
              "    </g>\n",
              "</svg>\n",
              "  </button>\n",
              "\n",
              "<style>\n",
              "  .colab-df-quickchart {\n",
              "      --bg-color: #E8F0FE;\n",
              "      --fill-color: #1967D2;\n",
              "      --hover-bg-color: #E2EBFA;\n",
              "      --hover-fill-color: #174EA6;\n",
              "      --disabled-fill-color: #AAA;\n",
              "      --disabled-bg-color: #DDD;\n",
              "  }\n",
              "\n",
              "  [theme=dark] .colab-df-quickchart {\n",
              "      --bg-color: #3B4455;\n",
              "      --fill-color: #D2E3FC;\n",
              "      --hover-bg-color: #434B5C;\n",
              "      --hover-fill-color: #FFFFFF;\n",
              "      --disabled-bg-color: #3B4455;\n",
              "      --disabled-fill-color: #666;\n",
              "  }\n",
              "\n",
              "  .colab-df-quickchart {\n",
              "    background-color: var(--bg-color);\n",
              "    border: none;\n",
              "    border-radius: 50%;\n",
              "    cursor: pointer;\n",
              "    display: none;\n",
              "    fill: var(--fill-color);\n",
              "    height: 32px;\n",
              "    padding: 0;\n",
              "    width: 32px;\n",
              "  }\n",
              "\n",
              "  .colab-df-quickchart:hover {\n",
              "    background-color: var(--hover-bg-color);\n",
              "    box-shadow: 0 1px 2px rgba(60, 64, 67, 0.3), 0 1px 3px 1px rgba(60, 64, 67, 0.15);\n",
              "    fill: var(--button-hover-fill-color);\n",
              "  }\n",
              "\n",
              "  .colab-df-quickchart-complete:disabled,\n",
              "  .colab-df-quickchart-complete:disabled:hover {\n",
              "    background-color: var(--disabled-bg-color);\n",
              "    fill: var(--disabled-fill-color);\n",
              "    box-shadow: none;\n",
              "  }\n",
              "\n",
              "  .colab-df-spinner {\n",
              "    border: 2px solid var(--fill-color);\n",
              "    border-color: transparent;\n",
              "    border-bottom-color: var(--fill-color);\n",
              "    animation:\n",
              "      spin 1s steps(1) infinite;\n",
              "  }\n",
              "\n",
              "  @keyframes spin {\n",
              "    0% {\n",
              "      border-color: transparent;\n",
              "      border-bottom-color: var(--fill-color);\n",
              "      border-left-color: var(--fill-color);\n",
              "    }\n",
              "    20% {\n",
              "      border-color: transparent;\n",
              "      border-left-color: var(--fill-color);\n",
              "      border-top-color: var(--fill-color);\n",
              "    }\n",
              "    30% {\n",
              "      border-color: transparent;\n",
              "      border-left-color: var(--fill-color);\n",
              "      border-top-color: var(--fill-color);\n",
              "      border-right-color: var(--fill-color);\n",
              "    }\n",
              "    40% {\n",
              "      border-color: transparent;\n",
              "      border-right-color: var(--fill-color);\n",
              "      border-top-color: var(--fill-color);\n",
              "    }\n",
              "    60% {\n",
              "      border-color: transparent;\n",
              "      border-right-color: var(--fill-color);\n",
              "    }\n",
              "    80% {\n",
              "      border-color: transparent;\n",
              "      border-right-color: var(--fill-color);\n",
              "      border-bottom-color: var(--fill-color);\n",
              "    }\n",
              "    90% {\n",
              "      border-color: transparent;\n",
              "      border-bottom-color: var(--fill-color);\n",
              "    }\n",
              "  }\n",
              "</style>\n",
              "\n",
              "  <script>\n",
              "    async function quickchart(key) {\n",
              "      const quickchartButtonEl =\n",
              "        document.querySelector('#' + key + ' button');\n",
              "      quickchartButtonEl.disabled = true;  // To prevent multiple clicks.\n",
              "      quickchartButtonEl.classList.add('colab-df-spinner');\n",
              "      try {\n",
              "        const charts = await google.colab.kernel.invokeFunction(\n",
              "            'suggestCharts', [key], {});\n",
              "      } catch (error) {\n",
              "        console.error('Error during call to suggestCharts:', error);\n",
              "      }\n",
              "      quickchartButtonEl.classList.remove('colab-df-spinner');\n",
              "      quickchartButtonEl.classList.add('colab-df-quickchart-complete');\n",
              "    }\n",
              "    (() => {\n",
              "      let quickchartButtonEl =\n",
              "        document.querySelector('#df-7f193f98-c421-4de3-8e66-59169cb648fa button');\n",
              "      quickchartButtonEl.style.display =\n",
              "        google.colab.kernel.accessAllowed ? 'block' : 'none';\n",
              "    })();\n",
              "  </script>\n",
              "</div>\n",
              "\n",
              "    </div>\n",
              "  </div>\n"
            ],
            "application/vnd.google.colaboratory.intrinsic+json": {
              "type": "dataframe",
              "variable_name": "diabetes_dataset",
              "summary": "{\n  \"name\": \"diabetes_dataset\",\n  \"rows\": 768,\n  \"fields\": [\n    {\n      \"column\": \"Pregnancies\",\n      \"properties\": {\n        \"dtype\": \"number\",\n        \"std\": 3,\n        \"min\": 0,\n        \"max\": 17,\n        \"num_unique_values\": 17,\n        \"samples\": [\n          6,\n          1,\n          3\n        ],\n        \"semantic_type\": \"\",\n        \"description\": \"\"\n      }\n    },\n    {\n      \"column\": \"Glucose\",\n      \"properties\": {\n        \"dtype\": \"number\",\n        \"std\": 31,\n        \"min\": 0,\n        \"max\": 199,\n        \"num_unique_values\": 136,\n        \"samples\": [\n          151,\n          101,\n          112\n        ],\n        \"semantic_type\": \"\",\n        \"description\": \"\"\n      }\n    },\n    {\n      \"column\": \"BloodPressure\",\n      \"properties\": {\n        \"dtype\": \"number\",\n        \"std\": 19,\n        \"min\": 0,\n        \"max\": 122,\n        \"num_unique_values\": 47,\n        \"samples\": [\n          86,\n          46,\n          85\n        ],\n        \"semantic_type\": \"\",\n        \"description\": \"\"\n      }\n    },\n    {\n      \"column\": \"SkinThickness\",\n      \"properties\": {\n        \"dtype\": \"number\",\n        \"std\": 15,\n        \"min\": 0,\n        \"max\": 99,\n        \"num_unique_values\": 51,\n        \"samples\": [\n          7,\n          12,\n          48\n        ],\n        \"semantic_type\": \"\",\n        \"description\": \"\"\n      }\n    },\n    {\n      \"column\": \"Insulin\",\n      \"properties\": {\n        \"dtype\": \"number\",\n        \"std\": 115,\n        \"min\": 0,\n        \"max\": 846,\n        \"num_unique_values\": 186,\n        \"samples\": [\n          52,\n          41,\n          183\n        ],\n        \"semantic_type\": \"\",\n        \"description\": \"\"\n      }\n    },\n    {\n      \"column\": \"BMI\",\n      \"properties\": {\n        \"dtype\": \"number\",\n        \"std\": 7.8841603203754405,\n        \"min\": 0.0,\n        \"max\": 67.1,\n        \"num_unique_values\": 248,\n        \"samples\": [\n          19.9,\n          31.0,\n          38.1\n        ],\n        \"semantic_type\": \"\",\n        \"description\": \"\"\n      }\n    },\n    {\n      \"column\": \"DiabetesPedigreeFunction\",\n      \"properties\": {\n        \"dtype\": \"number\",\n        \"std\": 0.33132859501277484,\n        \"min\": 0.078,\n        \"max\": 2.42,\n        \"num_unique_values\": 517,\n        \"samples\": [\n          1.731,\n          0.426,\n          0.138\n        ],\n        \"semantic_type\": \"\",\n        \"description\": \"\"\n      }\n    },\n    {\n      \"column\": \"Age\",\n      \"properties\": {\n        \"dtype\": \"number\",\n        \"std\": 11,\n        \"min\": 21,\n        \"max\": 81,\n        \"num_unique_values\": 52,\n        \"samples\": [\n          60,\n          47,\n          72\n        ],\n        \"semantic_type\": \"\",\n        \"description\": \"\"\n      }\n    },\n    {\n      \"column\": \"Outcome\",\n      \"properties\": {\n        \"dtype\": \"number\",\n        \"std\": 0,\n        \"min\": 0,\n        \"max\": 1,\n        \"num_unique_values\": 2,\n        \"samples\": [\n          0,\n          1\n        ],\n        \"semantic_type\": \"\",\n        \"description\": \"\"\n      }\n    }\n  ]\n}"
            }
          },
          "metadata": {},
          "execution_count": 85
        }
      ]
    },
    {
      "cell_type": "code",
      "source": [
        "# number of rows and Columns in this dataset\n",
        "diabetes_dataset.shape"
      ],
      "metadata": {
        "colab": {
          "base_uri": "https://localhost:8080/"
        },
        "id": "RlfjVJaIyWXn",
        "outputId": "b219450f-e2ee-407e-a602-172aa684bda8"
      },
      "execution_count": null,
      "outputs": [
        {
          "output_type": "execute_result",
          "data": {
            "text/plain": [
              "(768, 9)"
            ]
          },
          "metadata": {},
          "execution_count": 86
        }
      ]
    },
    {
      "cell_type": "code",
      "source": [
        "# separating features and Target\n",
        "X = diabetes_dataset.drop(columns='Outcome', axis = 1)\n",
        "Y = diabetes_dataset['Outcome']"
      ],
      "metadata": {
        "id": "NEuVH5C_4hT-"
      },
      "execution_count": null,
      "outputs": []
    },
    {
      "cell_type": "code",
      "source": [
        "# train test split\n",
        "X_train, X_test, Y_train, Y_test = train_test_split(X, Y, test_size=0.2, stratify=Y, random_state=2)"
      ],
      "metadata": {
        "id": "vzKT5t8f-N9j"
      },
      "execution_count": null,
      "outputs": []
    },
    {
      "cell_type": "code",
      "source": [
        "print(X.shape, X_train.shape, X_test.shape)"
      ],
      "metadata": {
        "colab": {
          "base_uri": "https://localhost:8080/"
        },
        "id": "UKLg2-21-Qy6",
        "outputId": "70b66bff-80a5-4c5f-a5bd-4e6341b6362a"
      },
      "execution_count": null,
      "outputs": [
        {
          "output_type": "stream",
          "name": "stdout",
          "text": [
            "(768, 8) (614, 8) (154, 8)\n"
          ]
        }
      ]
    },
    {
      "cell_type": "markdown",
      "source": [
        "Model Training"
      ],
      "metadata": {
        "id": "xAHYdDqh-hLj"
      }
    },
    {
      "cell_type": "markdown",
      "source": [
        "KNN Classifier in Sklearn"
      ],
      "metadata": {
        "id": "SduApD6R-kDR"
      }
    },
    {
      "cell_type": "code",
      "source": [
        "#p=1 for Manhattan and p=2 Euclidiean\n",
        "classifier = KNeighborsClassifier(p=1)"
      ],
      "metadata": {
        "id": "zAxJ7Cx7-g__"
      },
      "execution_count": null,
      "outputs": []
    },
    {
      "cell_type": "code",
      "source": [
        "classifier.fit(X_train, Y_train)"
      ],
      "metadata": {
        "colab": {
          "base_uri": "https://localhost:8080/",
          "height": 80
        },
        "id": "bF5qgvnj-sZE",
        "outputId": "17c7c4f1-162f-4b85-df20-7a1e8556ac0c"
      },
      "execution_count": null,
      "outputs": [
        {
          "output_type": "execute_result",
          "data": {
            "text/plain": [
              "KNeighborsClassifier(p=1)"
            ],
            "text/html": [
              "<style>#sk-container-id-1 {\n",
              "  /* Definition of color scheme common for light and dark mode */\n",
              "  --sklearn-color-text: #000;\n",
              "  --sklearn-color-text-muted: #666;\n",
              "  --sklearn-color-line: gray;\n",
              "  /* Definition of color scheme for unfitted estimators */\n",
              "  --sklearn-color-unfitted-level-0: #fff5e6;\n",
              "  --sklearn-color-unfitted-level-1: #f6e4d2;\n",
              "  --sklearn-color-unfitted-level-2: #ffe0b3;\n",
              "  --sklearn-color-unfitted-level-3: chocolate;\n",
              "  /* Definition of color scheme for fitted estimators */\n",
              "  --sklearn-color-fitted-level-0: #f0f8ff;\n",
              "  --sklearn-color-fitted-level-1: #d4ebff;\n",
              "  --sklearn-color-fitted-level-2: #b3dbfd;\n",
              "  --sklearn-color-fitted-level-3: cornflowerblue;\n",
              "\n",
              "  /* Specific color for light theme */\n",
              "  --sklearn-color-text-on-default-background: var(--sg-text-color, var(--theme-code-foreground, var(--jp-content-font-color1, black)));\n",
              "  --sklearn-color-background: var(--sg-background-color, var(--theme-background, var(--jp-layout-color0, white)));\n",
              "  --sklearn-color-border-box: var(--sg-text-color, var(--theme-code-foreground, var(--jp-content-font-color1, black)));\n",
              "  --sklearn-color-icon: #696969;\n",
              "\n",
              "  @media (prefers-color-scheme: dark) {\n",
              "    /* Redefinition of color scheme for dark theme */\n",
              "    --sklearn-color-text-on-default-background: var(--sg-text-color, var(--theme-code-foreground, var(--jp-content-font-color1, white)));\n",
              "    --sklearn-color-background: var(--sg-background-color, var(--theme-background, var(--jp-layout-color0, #111)));\n",
              "    --sklearn-color-border-box: var(--sg-text-color, var(--theme-code-foreground, var(--jp-content-font-color1, white)));\n",
              "    --sklearn-color-icon: #878787;\n",
              "  }\n",
              "}\n",
              "\n",
              "#sk-container-id-1 {\n",
              "  color: var(--sklearn-color-text);\n",
              "}\n",
              "\n",
              "#sk-container-id-1 pre {\n",
              "  padding: 0;\n",
              "}\n",
              "\n",
              "#sk-container-id-1 input.sk-hidden--visually {\n",
              "  border: 0;\n",
              "  clip: rect(1px 1px 1px 1px);\n",
              "  clip: rect(1px, 1px, 1px, 1px);\n",
              "  height: 1px;\n",
              "  margin: -1px;\n",
              "  overflow: hidden;\n",
              "  padding: 0;\n",
              "  position: absolute;\n",
              "  width: 1px;\n",
              "}\n",
              "\n",
              "#sk-container-id-1 div.sk-dashed-wrapped {\n",
              "  border: 1px dashed var(--sklearn-color-line);\n",
              "  margin: 0 0.4em 0.5em 0.4em;\n",
              "  box-sizing: border-box;\n",
              "  padding-bottom: 0.4em;\n",
              "  background-color: var(--sklearn-color-background);\n",
              "}\n",
              "\n",
              "#sk-container-id-1 div.sk-container {\n",
              "  /* jupyter's `normalize.less` sets `[hidden] { display: none; }`\n",
              "     but bootstrap.min.css set `[hidden] { display: none !important; }`\n",
              "     so we also need the `!important` here to be able to override the\n",
              "     default hidden behavior on the sphinx rendered scikit-learn.org.\n",
              "     See: https://github.com/scikit-learn/scikit-learn/issues/21755 */\n",
              "  display: inline-block !important;\n",
              "  position: relative;\n",
              "}\n",
              "\n",
              "#sk-container-id-1 div.sk-text-repr-fallback {\n",
              "  display: none;\n",
              "}\n",
              "\n",
              "div.sk-parallel-item,\n",
              "div.sk-serial,\n",
              "div.sk-item {\n",
              "  /* draw centered vertical line to link estimators */\n",
              "  background-image: linear-gradient(var(--sklearn-color-text-on-default-background), var(--sklearn-color-text-on-default-background));\n",
              "  background-size: 2px 100%;\n",
              "  background-repeat: no-repeat;\n",
              "  background-position: center center;\n",
              "}\n",
              "\n",
              "/* Parallel-specific style estimator block */\n",
              "\n",
              "#sk-container-id-1 div.sk-parallel-item::after {\n",
              "  content: \"\";\n",
              "  width: 100%;\n",
              "  border-bottom: 2px solid var(--sklearn-color-text-on-default-background);\n",
              "  flex-grow: 1;\n",
              "}\n",
              "\n",
              "#sk-container-id-1 div.sk-parallel {\n",
              "  display: flex;\n",
              "  align-items: stretch;\n",
              "  justify-content: center;\n",
              "  background-color: var(--sklearn-color-background);\n",
              "  position: relative;\n",
              "}\n",
              "\n",
              "#sk-container-id-1 div.sk-parallel-item {\n",
              "  display: flex;\n",
              "  flex-direction: column;\n",
              "}\n",
              "\n",
              "#sk-container-id-1 div.sk-parallel-item:first-child::after {\n",
              "  align-self: flex-end;\n",
              "  width: 50%;\n",
              "}\n",
              "\n",
              "#sk-container-id-1 div.sk-parallel-item:last-child::after {\n",
              "  align-self: flex-start;\n",
              "  width: 50%;\n",
              "}\n",
              "\n",
              "#sk-container-id-1 div.sk-parallel-item:only-child::after {\n",
              "  width: 0;\n",
              "}\n",
              "\n",
              "/* Serial-specific style estimator block */\n",
              "\n",
              "#sk-container-id-1 div.sk-serial {\n",
              "  display: flex;\n",
              "  flex-direction: column;\n",
              "  align-items: center;\n",
              "  background-color: var(--sklearn-color-background);\n",
              "  padding-right: 1em;\n",
              "  padding-left: 1em;\n",
              "}\n",
              "\n",
              "\n",
              "/* Toggleable style: style used for estimator/Pipeline/ColumnTransformer box that is\n",
              "clickable and can be expanded/collapsed.\n",
              "- Pipeline and ColumnTransformer use this feature and define the default style\n",
              "- Estimators will overwrite some part of the style using the `sk-estimator` class\n",
              "*/\n",
              "\n",
              "/* Pipeline and ColumnTransformer style (default) */\n",
              "\n",
              "#sk-container-id-1 div.sk-toggleable {\n",
              "  /* Default theme specific background. It is overwritten whether we have a\n",
              "  specific estimator or a Pipeline/ColumnTransformer */\n",
              "  background-color: var(--sklearn-color-background);\n",
              "}\n",
              "\n",
              "/* Toggleable label */\n",
              "#sk-container-id-1 label.sk-toggleable__label {\n",
              "  cursor: pointer;\n",
              "  display: flex;\n",
              "  width: 100%;\n",
              "  margin-bottom: 0;\n",
              "  padding: 0.5em;\n",
              "  box-sizing: border-box;\n",
              "  text-align: center;\n",
              "  align-items: start;\n",
              "  justify-content: space-between;\n",
              "  gap: 0.5em;\n",
              "}\n",
              "\n",
              "#sk-container-id-1 label.sk-toggleable__label .caption {\n",
              "  font-size: 0.6rem;\n",
              "  font-weight: lighter;\n",
              "  color: var(--sklearn-color-text-muted);\n",
              "}\n",
              "\n",
              "#sk-container-id-1 label.sk-toggleable__label-arrow:before {\n",
              "  /* Arrow on the left of the label */\n",
              "  content: \"▸\";\n",
              "  float: left;\n",
              "  margin-right: 0.25em;\n",
              "  color: var(--sklearn-color-icon);\n",
              "}\n",
              "\n",
              "#sk-container-id-1 label.sk-toggleable__label-arrow:hover:before {\n",
              "  color: var(--sklearn-color-text);\n",
              "}\n",
              "\n",
              "/* Toggleable content - dropdown */\n",
              "\n",
              "#sk-container-id-1 div.sk-toggleable__content {\n",
              "  max-height: 0;\n",
              "  max-width: 0;\n",
              "  overflow: hidden;\n",
              "  text-align: left;\n",
              "  /* unfitted */\n",
              "  background-color: var(--sklearn-color-unfitted-level-0);\n",
              "}\n",
              "\n",
              "#sk-container-id-1 div.sk-toggleable__content.fitted {\n",
              "  /* fitted */\n",
              "  background-color: var(--sklearn-color-fitted-level-0);\n",
              "}\n",
              "\n",
              "#sk-container-id-1 div.sk-toggleable__content pre {\n",
              "  margin: 0.2em;\n",
              "  border-radius: 0.25em;\n",
              "  color: var(--sklearn-color-text);\n",
              "  /* unfitted */\n",
              "  background-color: var(--sklearn-color-unfitted-level-0);\n",
              "}\n",
              "\n",
              "#sk-container-id-1 div.sk-toggleable__content.fitted pre {\n",
              "  /* unfitted */\n",
              "  background-color: var(--sklearn-color-fitted-level-0);\n",
              "}\n",
              "\n",
              "#sk-container-id-1 input.sk-toggleable__control:checked~div.sk-toggleable__content {\n",
              "  /* Expand drop-down */\n",
              "  max-height: 200px;\n",
              "  max-width: 100%;\n",
              "  overflow: auto;\n",
              "}\n",
              "\n",
              "#sk-container-id-1 input.sk-toggleable__control:checked~label.sk-toggleable__label-arrow:before {\n",
              "  content: \"▾\";\n",
              "}\n",
              "\n",
              "/* Pipeline/ColumnTransformer-specific style */\n",
              "\n",
              "#sk-container-id-1 div.sk-label input.sk-toggleable__control:checked~label.sk-toggleable__label {\n",
              "  color: var(--sklearn-color-text);\n",
              "  background-color: var(--sklearn-color-unfitted-level-2);\n",
              "}\n",
              "\n",
              "#sk-container-id-1 div.sk-label.fitted input.sk-toggleable__control:checked~label.sk-toggleable__label {\n",
              "  background-color: var(--sklearn-color-fitted-level-2);\n",
              "}\n",
              "\n",
              "/* Estimator-specific style */\n",
              "\n",
              "/* Colorize estimator box */\n",
              "#sk-container-id-1 div.sk-estimator input.sk-toggleable__control:checked~label.sk-toggleable__label {\n",
              "  /* unfitted */\n",
              "  background-color: var(--sklearn-color-unfitted-level-2);\n",
              "}\n",
              "\n",
              "#sk-container-id-1 div.sk-estimator.fitted input.sk-toggleable__control:checked~label.sk-toggleable__label {\n",
              "  /* fitted */\n",
              "  background-color: var(--sklearn-color-fitted-level-2);\n",
              "}\n",
              "\n",
              "#sk-container-id-1 div.sk-label label.sk-toggleable__label,\n",
              "#sk-container-id-1 div.sk-label label {\n",
              "  /* The background is the default theme color */\n",
              "  color: var(--sklearn-color-text-on-default-background);\n",
              "}\n",
              "\n",
              "/* On hover, darken the color of the background */\n",
              "#sk-container-id-1 div.sk-label:hover label.sk-toggleable__label {\n",
              "  color: var(--sklearn-color-text);\n",
              "  background-color: var(--sklearn-color-unfitted-level-2);\n",
              "}\n",
              "\n",
              "/* Label box, darken color on hover, fitted */\n",
              "#sk-container-id-1 div.sk-label.fitted:hover label.sk-toggleable__label.fitted {\n",
              "  color: var(--sklearn-color-text);\n",
              "  background-color: var(--sklearn-color-fitted-level-2);\n",
              "}\n",
              "\n",
              "/* Estimator label */\n",
              "\n",
              "#sk-container-id-1 div.sk-label label {\n",
              "  font-family: monospace;\n",
              "  font-weight: bold;\n",
              "  display: inline-block;\n",
              "  line-height: 1.2em;\n",
              "}\n",
              "\n",
              "#sk-container-id-1 div.sk-label-container {\n",
              "  text-align: center;\n",
              "}\n",
              "\n",
              "/* Estimator-specific */\n",
              "#sk-container-id-1 div.sk-estimator {\n",
              "  font-family: monospace;\n",
              "  border: 1px dotted var(--sklearn-color-border-box);\n",
              "  border-radius: 0.25em;\n",
              "  box-sizing: border-box;\n",
              "  margin-bottom: 0.5em;\n",
              "  /* unfitted */\n",
              "  background-color: var(--sklearn-color-unfitted-level-0);\n",
              "}\n",
              "\n",
              "#sk-container-id-1 div.sk-estimator.fitted {\n",
              "  /* fitted */\n",
              "  background-color: var(--sklearn-color-fitted-level-0);\n",
              "}\n",
              "\n",
              "/* on hover */\n",
              "#sk-container-id-1 div.sk-estimator:hover {\n",
              "  /* unfitted */\n",
              "  background-color: var(--sklearn-color-unfitted-level-2);\n",
              "}\n",
              "\n",
              "#sk-container-id-1 div.sk-estimator.fitted:hover {\n",
              "  /* fitted */\n",
              "  background-color: var(--sklearn-color-fitted-level-2);\n",
              "}\n",
              "\n",
              "/* Specification for estimator info (e.g. \"i\" and \"?\") */\n",
              "\n",
              "/* Common style for \"i\" and \"?\" */\n",
              "\n",
              ".sk-estimator-doc-link,\n",
              "a:link.sk-estimator-doc-link,\n",
              "a:visited.sk-estimator-doc-link {\n",
              "  float: right;\n",
              "  font-size: smaller;\n",
              "  line-height: 1em;\n",
              "  font-family: monospace;\n",
              "  background-color: var(--sklearn-color-background);\n",
              "  border-radius: 1em;\n",
              "  height: 1em;\n",
              "  width: 1em;\n",
              "  text-decoration: none !important;\n",
              "  margin-left: 0.5em;\n",
              "  text-align: center;\n",
              "  /* unfitted */\n",
              "  border: var(--sklearn-color-unfitted-level-1) 1pt solid;\n",
              "  color: var(--sklearn-color-unfitted-level-1);\n",
              "}\n",
              "\n",
              ".sk-estimator-doc-link.fitted,\n",
              "a:link.sk-estimator-doc-link.fitted,\n",
              "a:visited.sk-estimator-doc-link.fitted {\n",
              "  /* fitted */\n",
              "  border: var(--sklearn-color-fitted-level-1) 1pt solid;\n",
              "  color: var(--sklearn-color-fitted-level-1);\n",
              "}\n",
              "\n",
              "/* On hover */\n",
              "div.sk-estimator:hover .sk-estimator-doc-link:hover,\n",
              ".sk-estimator-doc-link:hover,\n",
              "div.sk-label-container:hover .sk-estimator-doc-link:hover,\n",
              ".sk-estimator-doc-link:hover {\n",
              "  /* unfitted */\n",
              "  background-color: var(--sklearn-color-unfitted-level-3);\n",
              "  color: var(--sklearn-color-background);\n",
              "  text-decoration: none;\n",
              "}\n",
              "\n",
              "div.sk-estimator.fitted:hover .sk-estimator-doc-link.fitted:hover,\n",
              ".sk-estimator-doc-link.fitted:hover,\n",
              "div.sk-label-container:hover .sk-estimator-doc-link.fitted:hover,\n",
              ".sk-estimator-doc-link.fitted:hover {\n",
              "  /* fitted */\n",
              "  background-color: var(--sklearn-color-fitted-level-3);\n",
              "  color: var(--sklearn-color-background);\n",
              "  text-decoration: none;\n",
              "}\n",
              "\n",
              "/* Span, style for the box shown on hovering the info icon */\n",
              ".sk-estimator-doc-link span {\n",
              "  display: none;\n",
              "  z-index: 9999;\n",
              "  position: relative;\n",
              "  font-weight: normal;\n",
              "  right: .2ex;\n",
              "  padding: .5ex;\n",
              "  margin: .5ex;\n",
              "  width: min-content;\n",
              "  min-width: 20ex;\n",
              "  max-width: 50ex;\n",
              "  color: var(--sklearn-color-text);\n",
              "  box-shadow: 2pt 2pt 4pt #999;\n",
              "  /* unfitted */\n",
              "  background: var(--sklearn-color-unfitted-level-0);\n",
              "  border: .5pt solid var(--sklearn-color-unfitted-level-3);\n",
              "}\n",
              "\n",
              ".sk-estimator-doc-link.fitted span {\n",
              "  /* fitted */\n",
              "  background: var(--sklearn-color-fitted-level-0);\n",
              "  border: var(--sklearn-color-fitted-level-3);\n",
              "}\n",
              "\n",
              ".sk-estimator-doc-link:hover span {\n",
              "  display: block;\n",
              "}\n",
              "\n",
              "/* \"?\"-specific style due to the `<a>` HTML tag */\n",
              "\n",
              "#sk-container-id-1 a.estimator_doc_link {\n",
              "  float: right;\n",
              "  font-size: 1rem;\n",
              "  line-height: 1em;\n",
              "  font-family: monospace;\n",
              "  background-color: var(--sklearn-color-background);\n",
              "  border-radius: 1rem;\n",
              "  height: 1rem;\n",
              "  width: 1rem;\n",
              "  text-decoration: none;\n",
              "  /* unfitted */\n",
              "  color: var(--sklearn-color-unfitted-level-1);\n",
              "  border: var(--sklearn-color-unfitted-level-1) 1pt solid;\n",
              "}\n",
              "\n",
              "#sk-container-id-1 a.estimator_doc_link.fitted {\n",
              "  /* fitted */\n",
              "  border: var(--sklearn-color-fitted-level-1) 1pt solid;\n",
              "  color: var(--sklearn-color-fitted-level-1);\n",
              "}\n",
              "\n",
              "/* On hover */\n",
              "#sk-container-id-1 a.estimator_doc_link:hover {\n",
              "  /* unfitted */\n",
              "  background-color: var(--sklearn-color-unfitted-level-3);\n",
              "  color: var(--sklearn-color-background);\n",
              "  text-decoration: none;\n",
              "}\n",
              "\n",
              "#sk-container-id-1 a.estimator_doc_link.fitted:hover {\n",
              "  /* fitted */\n",
              "  background-color: var(--sklearn-color-fitted-level-3);\n",
              "}\n",
              "</style><div id=\"sk-container-id-1\" class=\"sk-top-container\"><div class=\"sk-text-repr-fallback\"><pre>KNeighborsClassifier(p=1)</pre><b>In a Jupyter environment, please rerun this cell to show the HTML representation or trust the notebook. <br />On GitHub, the HTML representation is unable to render, please try loading this page with nbviewer.org.</b></div><div class=\"sk-container\" hidden><div class=\"sk-item\"><div class=\"sk-estimator fitted sk-toggleable\"><input class=\"sk-toggleable__control sk-hidden--visually\" id=\"sk-estimator-id-1\" type=\"checkbox\" checked><label for=\"sk-estimator-id-1\" class=\"sk-toggleable__label fitted sk-toggleable__label-arrow\"><div><div>KNeighborsClassifier</div></div><div><a class=\"sk-estimator-doc-link fitted\" rel=\"noreferrer\" target=\"_blank\" href=\"https://scikit-learn.org/1.6/modules/generated/sklearn.neighbors.KNeighborsClassifier.html\">?<span>Documentation for KNeighborsClassifier</span></a><span class=\"sk-estimator-doc-link fitted\">i<span>Fitted</span></span></div></label><div class=\"sk-toggleable__content fitted\"><pre>KNeighborsClassifier(p=1)</pre></div> </div></div></div></div>"
            ]
          },
          "metadata": {},
          "execution_count": 92
        }
      ]
    },
    {
      "cell_type": "markdown",
      "source": [
        "Model Evaluation"
      ],
      "metadata": {
        "id": "NL5yfAa8-xC2"
      }
    },
    {
      "cell_type": "code",
      "source": [
        "y_pred = classifier.predict(X_test)"
      ],
      "metadata": {
        "id": "mneTIKYc-wrt"
      },
      "execution_count": null,
      "outputs": []
    },
    {
      "cell_type": "code",
      "source": [
        "accuracy = accuracy_score(Y_test, y_pred)"
      ],
      "metadata": {
        "id": "Hi3eKWGy-6yR"
      },
      "execution_count": null,
      "outputs": []
    },
    {
      "cell_type": "code",
      "source": [
        "print(accuracy*100)"
      ],
      "metadata": {
        "colab": {
          "base_uri": "https://localhost:8080/"
        },
        "id": "v7mO0dTM-_kb",
        "outputId": "a9a90138-05fa-44da-fa26-5636da265764"
      },
      "execution_count": null,
      "outputs": [
        {
          "output_type": "stream",
          "name": "stdout",
          "text": [
            "77.92207792207793\n"
          ]
        }
      ]
    },
    {
      "cell_type": "code",
      "source": [],
      "metadata": {
        "id": "rBjm78KcLnUt"
      },
      "execution_count": null,
      "outputs": []
    }
  ]
}