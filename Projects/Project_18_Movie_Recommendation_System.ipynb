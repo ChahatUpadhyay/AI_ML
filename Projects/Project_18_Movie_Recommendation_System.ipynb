{
  "nbformat": 4,
  "nbformat_minor": 0,
  "metadata": {
    "colab": {
      "provenance": [],
      "authorship_tag": "ABX9TyP6K1rTXmxbpzrMth3CdwX6",
      "include_colab_link": true
    },
    "kernelspec": {
      "name": "python3",
      "display_name": "Python 3"
    },
    "language_info": {
      "name": "python"
    }
  },
  "cells": [
    {
      "cell_type": "markdown",
      "metadata": {
        "id": "view-in-github",
        "colab_type": "text"
      },
      "source": [
        "<a href=\"https://colab.research.google.com/github/Daksaweaomegg10/AI_ML/blob/main/Projects/Project_18_Movie_Recommendation_System.ipynb\" target=\"_parent\"><img src=\"https://colab.research.google.com/assets/colab-badge.svg\" alt=\"Open In Colab\"/></a>"
      ]
    },
    {
      "cell_type": "code",
      "execution_count": null,
      "metadata": {
        "id": "wyZdCH1T0op_"
      },
      "outputs": [],
      "source": [
        "import numpy as np\n",
        "import pandas as pd\n",
        "import difflib\n",
        "from sklearn.feature_extraction.text import TfidfVectorizer\n",
        "from sklearn.metrics.pairwise import cosine_similarity"
      ]
    },
    {
      "cell_type": "code",
      "source": [
        "# loading the data from the csv file to apandas dataframe\n",
        "movies_data = pd.read_csv('/content/IMDB-Movie-Dataset-with-Keywords.csv')\n",
        "# printing the first 5 rows of the dataframe\n",
        "movies_data.head()"
      ],
      "metadata": {
        "colab": {
          "base_uri": "https://localhost:8080/",
          "height": 625
        },
        "id": "sUdQCJyL1CV-",
        "outputId": "47ec9845-b13f-4000-dec4-eaf0622cd2a9"
      },
      "execution_count": null,
      "outputs": [
        {
          "output_type": "execute_result",
          "data": {
            "text/plain": [
              "   index    movie_id                       movie_name  year  \\\n",
              "0      0  tt15354916                            Jawan  2023   \n",
              "1      1  tt15748830                       Jaane Jaan  2023   \n",
              "2      2  tt11663228                           Jailer  2023   \n",
              "3      3  tt14993250  Rocky Aur Rani Kii Prem Kahaani  2023   \n",
              "4      4  tt15732324                            OMG 2  2023   \n",
              "\n",
              "                   genre                                           overview  \\\n",
              "0       Action, Thriller  A high-octane action thriller which outlines t...   \n",
              "1  Crime, Drama, Mystery  A single mother and her daughter who commit a ...   \n",
              "2  Action, Comedy, Crime  A retired jailer goes on a manhunt to find his...   \n",
              "3  Comedy, Drama, Family  Flamboyant Punjabi Rocky and intellectual Beng...   \n",
              "4          Comedy, Drama  An unhappy civilian asks the court to mandate ...   \n",
              "\n",
              "            director                                               cast  \\\n",
              "0              Atlee  Shah Rukh Khan, Nayanthara, Vijay Sethupathi, ...   \n",
              "1        Sujoy Ghosh  Kareena Kapoor, Jaideep Ahlawat, Vijay Varma, ...   \n",
              "2  Nelson Dilipkumar  Rajinikanth, Mohanlal, Shivarajkumar, Jackie S...   \n",
              "3        Karan Johar  Ranveer Singh, Alia Bhatt, Dharmendra, Shabana...   \n",
              "4           Amit Rai  Pankaj Tripathi, Akshay Kumar, Yami Gautam, Pa...   \n",
              "\n",
              "                                             keyword  \n",
              "0  thriller, Thriller, outlines, high-octane, Nay...  \n",
              "1  single, Crime, Mystery, crime, Kareena Kapoor,...  \n",
              "2  retired, Crime, successfully?, killers., Nelso...  \n",
              "3  facing, family, their, rocky, flamboyant, afte...  \n",
              "4  Pankaj Tripathi, mandate, comprehensive, unhap...  "
            ],
            "text/html": [
              "\n",
              "  <div id=\"df-9230cf16-ba3d-4079-9c20-226297d081f5\" class=\"colab-df-container\">\n",
              "    <div>\n",
              "<style scoped>\n",
              "    .dataframe tbody tr th:only-of-type {\n",
              "        vertical-align: middle;\n",
              "    }\n",
              "\n",
              "    .dataframe tbody tr th {\n",
              "        vertical-align: top;\n",
              "    }\n",
              "\n",
              "    .dataframe thead th {\n",
              "        text-align: right;\n",
              "    }\n",
              "</style>\n",
              "<table border=\"1\" class=\"dataframe\">\n",
              "  <thead>\n",
              "    <tr style=\"text-align: right;\">\n",
              "      <th></th>\n",
              "      <th>index</th>\n",
              "      <th>movie_id</th>\n",
              "      <th>movie_name</th>\n",
              "      <th>year</th>\n",
              "      <th>genre</th>\n",
              "      <th>overview</th>\n",
              "      <th>director</th>\n",
              "      <th>cast</th>\n",
              "      <th>keyword</th>\n",
              "    </tr>\n",
              "  </thead>\n",
              "  <tbody>\n",
              "    <tr>\n",
              "      <th>0</th>\n",
              "      <td>0</td>\n",
              "      <td>tt15354916</td>\n",
              "      <td>Jawan</td>\n",
              "      <td>2023</td>\n",
              "      <td>Action, Thriller</td>\n",
              "      <td>A high-octane action thriller which outlines t...</td>\n",
              "      <td>Atlee</td>\n",
              "      <td>Shah Rukh Khan, Nayanthara, Vijay Sethupathi, ...</td>\n",
              "      <td>thriller, Thriller, outlines, high-octane, Nay...</td>\n",
              "    </tr>\n",
              "    <tr>\n",
              "      <th>1</th>\n",
              "      <td>1</td>\n",
              "      <td>tt15748830</td>\n",
              "      <td>Jaane Jaan</td>\n",
              "      <td>2023</td>\n",
              "      <td>Crime, Drama, Mystery</td>\n",
              "      <td>A single mother and her daughter who commit a ...</td>\n",
              "      <td>Sujoy Ghosh</td>\n",
              "      <td>Kareena Kapoor, Jaideep Ahlawat, Vijay Varma, ...</td>\n",
              "      <td>single, Crime, Mystery, crime, Kareena Kapoor,...</td>\n",
              "    </tr>\n",
              "    <tr>\n",
              "      <th>2</th>\n",
              "      <td>2</td>\n",
              "      <td>tt11663228</td>\n",
              "      <td>Jailer</td>\n",
              "      <td>2023</td>\n",
              "      <td>Action, Comedy, Crime</td>\n",
              "      <td>A retired jailer goes on a manhunt to find his...</td>\n",
              "      <td>Nelson Dilipkumar</td>\n",
              "      <td>Rajinikanth, Mohanlal, Shivarajkumar, Jackie S...</td>\n",
              "      <td>retired, Crime, successfully?, killers., Nelso...</td>\n",
              "    </tr>\n",
              "    <tr>\n",
              "      <th>3</th>\n",
              "      <td>3</td>\n",
              "      <td>tt14993250</td>\n",
              "      <td>Rocky Aur Rani Kii Prem Kahaani</td>\n",
              "      <td>2023</td>\n",
              "      <td>Comedy, Drama, Family</td>\n",
              "      <td>Flamboyant Punjabi Rocky and intellectual Beng...</td>\n",
              "      <td>Karan Johar</td>\n",
              "      <td>Ranveer Singh, Alia Bhatt, Dharmendra, Shabana...</td>\n",
              "      <td>facing, family, their, rocky, flamboyant, afte...</td>\n",
              "    </tr>\n",
              "    <tr>\n",
              "      <th>4</th>\n",
              "      <td>4</td>\n",
              "      <td>tt15732324</td>\n",
              "      <td>OMG 2</td>\n",
              "      <td>2023</td>\n",
              "      <td>Comedy, Drama</td>\n",
              "      <td>An unhappy civilian asks the court to mandate ...</td>\n",
              "      <td>Amit Rai</td>\n",
              "      <td>Pankaj Tripathi, Akshay Kumar, Yami Gautam, Pa...</td>\n",
              "      <td>Pankaj Tripathi, mandate, comprehensive, unhap...</td>\n",
              "    </tr>\n",
              "  </tbody>\n",
              "</table>\n",
              "</div>\n",
              "    <div class=\"colab-df-buttons\">\n",
              "\n",
              "  <div class=\"colab-df-container\">\n",
              "    <button class=\"colab-df-convert\" onclick=\"convertToInteractive('df-9230cf16-ba3d-4079-9c20-226297d081f5')\"\n",
              "            title=\"Convert this dataframe to an interactive table.\"\n",
              "            style=\"display:none;\">\n",
              "\n",
              "  <svg xmlns=\"http://www.w3.org/2000/svg\" height=\"24px\" viewBox=\"0 -960 960 960\">\n",
              "    <path d=\"M120-120v-720h720v720H120Zm60-500h600v-160H180v160Zm220 220h160v-160H400v160Zm0 220h160v-160H400v160ZM180-400h160v-160H180v160Zm440 0h160v-160H620v160ZM180-180h160v-160H180v160Zm440 0h160v-160H620v160Z\"/>\n",
              "  </svg>\n",
              "    </button>\n",
              "\n",
              "  <style>\n",
              "    .colab-df-container {\n",
              "      display:flex;\n",
              "      gap: 12px;\n",
              "    }\n",
              "\n",
              "    .colab-df-convert {\n",
              "      background-color: #E8F0FE;\n",
              "      border: none;\n",
              "      border-radius: 50%;\n",
              "      cursor: pointer;\n",
              "      display: none;\n",
              "      fill: #1967D2;\n",
              "      height: 32px;\n",
              "      padding: 0 0 0 0;\n",
              "      width: 32px;\n",
              "    }\n",
              "\n",
              "    .colab-df-convert:hover {\n",
              "      background-color: #E2EBFA;\n",
              "      box-shadow: 0px 1px 2px rgba(60, 64, 67, 0.3), 0px 1px 3px 1px rgba(60, 64, 67, 0.15);\n",
              "      fill: #174EA6;\n",
              "    }\n",
              "\n",
              "    .colab-df-buttons div {\n",
              "      margin-bottom: 4px;\n",
              "    }\n",
              "\n",
              "    [theme=dark] .colab-df-convert {\n",
              "      background-color: #3B4455;\n",
              "      fill: #D2E3FC;\n",
              "    }\n",
              "\n",
              "    [theme=dark] .colab-df-convert:hover {\n",
              "      background-color: #434B5C;\n",
              "      box-shadow: 0px 1px 3px 1px rgba(0, 0, 0, 0.15);\n",
              "      filter: drop-shadow(0px 1px 2px rgba(0, 0, 0, 0.3));\n",
              "      fill: #FFFFFF;\n",
              "    }\n",
              "  </style>\n",
              "\n",
              "    <script>\n",
              "      const buttonEl =\n",
              "        document.querySelector('#df-9230cf16-ba3d-4079-9c20-226297d081f5 button.colab-df-convert');\n",
              "      buttonEl.style.display =\n",
              "        google.colab.kernel.accessAllowed ? 'block' : 'none';\n",
              "\n",
              "      async function convertToInteractive(key) {\n",
              "        const element = document.querySelector('#df-9230cf16-ba3d-4079-9c20-226297d081f5');\n",
              "        const dataTable =\n",
              "          await google.colab.kernel.invokeFunction('convertToInteractive',\n",
              "                                                    [key], {});\n",
              "        if (!dataTable) return;\n",
              "\n",
              "        const docLinkHtml = 'Like what you see? Visit the ' +\n",
              "          '<a target=\"_blank\" href=https://colab.research.google.com/notebooks/data_table.ipynb>data table notebook</a>'\n",
              "          + ' to learn more about interactive tables.';\n",
              "        element.innerHTML = '';\n",
              "        dataTable['output_type'] = 'display_data';\n",
              "        await google.colab.output.renderOutput(dataTable, element);\n",
              "        const docLink = document.createElement('div');\n",
              "        docLink.innerHTML = docLinkHtml;\n",
              "        element.appendChild(docLink);\n",
              "      }\n",
              "    </script>\n",
              "  </div>\n",
              "\n",
              "\n",
              "<div id=\"df-00ec72eb-fc0e-4ad2-bc09-692e40bcea80\">\n",
              "  <button class=\"colab-df-quickchart\" onclick=\"quickchart('df-00ec72eb-fc0e-4ad2-bc09-692e40bcea80')\"\n",
              "            title=\"Suggest charts\"\n",
              "            style=\"display:none;\">\n",
              "\n",
              "<svg xmlns=\"http://www.w3.org/2000/svg\" height=\"24px\"viewBox=\"0 0 24 24\"\n",
              "     width=\"24px\">\n",
              "    <g>\n",
              "        <path d=\"M19 3H5c-1.1 0-2 .9-2 2v14c0 1.1.9 2 2 2h14c1.1 0 2-.9 2-2V5c0-1.1-.9-2-2-2zM9 17H7v-7h2v7zm4 0h-2V7h2v10zm4 0h-2v-4h2v4z\"/>\n",
              "    </g>\n",
              "</svg>\n",
              "  </button>\n",
              "\n",
              "<style>\n",
              "  .colab-df-quickchart {\n",
              "      --bg-color: #E8F0FE;\n",
              "      --fill-color: #1967D2;\n",
              "      --hover-bg-color: #E2EBFA;\n",
              "      --hover-fill-color: #174EA6;\n",
              "      --disabled-fill-color: #AAA;\n",
              "      --disabled-bg-color: #DDD;\n",
              "  }\n",
              "\n",
              "  [theme=dark] .colab-df-quickchart {\n",
              "      --bg-color: #3B4455;\n",
              "      --fill-color: #D2E3FC;\n",
              "      --hover-bg-color: #434B5C;\n",
              "      --hover-fill-color: #FFFFFF;\n",
              "      --disabled-bg-color: #3B4455;\n",
              "      --disabled-fill-color: #666;\n",
              "  }\n",
              "\n",
              "  .colab-df-quickchart {\n",
              "    background-color: var(--bg-color);\n",
              "    border: none;\n",
              "    border-radius: 50%;\n",
              "    cursor: pointer;\n",
              "    display: none;\n",
              "    fill: var(--fill-color);\n",
              "    height: 32px;\n",
              "    padding: 0;\n",
              "    width: 32px;\n",
              "  }\n",
              "\n",
              "  .colab-df-quickchart:hover {\n",
              "    background-color: var(--hover-bg-color);\n",
              "    box-shadow: 0 1px 2px rgba(60, 64, 67, 0.3), 0 1px 3px 1px rgba(60, 64, 67, 0.15);\n",
              "    fill: var(--button-hover-fill-color);\n",
              "  }\n",
              "\n",
              "  .colab-df-quickchart-complete:disabled,\n",
              "  .colab-df-quickchart-complete:disabled:hover {\n",
              "    background-color: var(--disabled-bg-color);\n",
              "    fill: var(--disabled-fill-color);\n",
              "    box-shadow: none;\n",
              "  }\n",
              "\n",
              "  .colab-df-spinner {\n",
              "    border: 2px solid var(--fill-color);\n",
              "    border-color: transparent;\n",
              "    border-bottom-color: var(--fill-color);\n",
              "    animation:\n",
              "      spin 1s steps(1) infinite;\n",
              "  }\n",
              "\n",
              "  @keyframes spin {\n",
              "    0% {\n",
              "      border-color: transparent;\n",
              "      border-bottom-color: var(--fill-color);\n",
              "      border-left-color: var(--fill-color);\n",
              "    }\n",
              "    20% {\n",
              "      border-color: transparent;\n",
              "      border-left-color: var(--fill-color);\n",
              "      border-top-color: var(--fill-color);\n",
              "    }\n",
              "    30% {\n",
              "      border-color: transparent;\n",
              "      border-left-color: var(--fill-color);\n",
              "      border-top-color: var(--fill-color);\n",
              "      border-right-color: var(--fill-color);\n",
              "    }\n",
              "    40% {\n",
              "      border-color: transparent;\n",
              "      border-right-color: var(--fill-color);\n",
              "      border-top-color: var(--fill-color);\n",
              "    }\n",
              "    60% {\n",
              "      border-color: transparent;\n",
              "      border-right-color: var(--fill-color);\n",
              "    }\n",
              "    80% {\n",
              "      border-color: transparent;\n",
              "      border-right-color: var(--fill-color);\n",
              "      border-bottom-color: var(--fill-color);\n",
              "    }\n",
              "    90% {\n",
              "      border-color: transparent;\n",
              "      border-bottom-color: var(--fill-color);\n",
              "    }\n",
              "  }\n",
              "</style>\n",
              "\n",
              "  <script>\n",
              "    async function quickchart(key) {\n",
              "      const quickchartButtonEl =\n",
              "        document.querySelector('#' + key + ' button');\n",
              "      quickchartButtonEl.disabled = true;  // To prevent multiple clicks.\n",
              "      quickchartButtonEl.classList.add('colab-df-spinner');\n",
              "      try {\n",
              "        const charts = await google.colab.kernel.invokeFunction(\n",
              "            'suggestCharts', [key], {});\n",
              "      } catch (error) {\n",
              "        console.error('Error during call to suggestCharts:', error);\n",
              "      }\n",
              "      quickchartButtonEl.classList.remove('colab-df-spinner');\n",
              "      quickchartButtonEl.classList.add('colab-df-quickchart-complete');\n",
              "    }\n",
              "    (() => {\n",
              "      let quickchartButtonEl =\n",
              "        document.querySelector('#df-00ec72eb-fc0e-4ad2-bc09-692e40bcea80 button');\n",
              "      quickchartButtonEl.style.display =\n",
              "        google.colab.kernel.accessAllowed ? 'block' : 'none';\n",
              "    })();\n",
              "  </script>\n",
              "</div>\n",
              "\n",
              "    </div>\n",
              "  </div>\n"
            ],
            "application/vnd.google.colaboratory.intrinsic+json": {
              "type": "dataframe",
              "variable_name": "movies_data",
              "summary": "{\n  \"name\": \"movies_data\",\n  \"rows\": 2199,\n  \"fields\": [\n    {\n      \"column\": \"index\",\n      \"properties\": {\n        \"dtype\": \"number\",\n        \"std\": 635,\n        \"min\": 0,\n        \"max\": 2199,\n        \"num_unique_values\": 2199,\n        \"samples\": [\n          427,\n          1128,\n          367\n        ],\n        \"semantic_type\": \"\",\n        \"description\": \"\"\n      }\n    },\n    {\n      \"column\": \"movie_id\",\n      \"properties\": {\n        \"dtype\": \"string\",\n        \"num_unique_values\": 2199,\n        \"samples\": [\n          \"tt15163652\",\n          \"tt27613132\",\n          \"tt0920464\"\n        ],\n        \"semantic_type\": \"\",\n        \"description\": \"\"\n      }\n    },\n    {\n      \"column\": \"movie_name\",\n      \"properties\": {\n        \"dtype\": \"string\",\n        \"num_unique_values\": 2161,\n        \"samples\": [\n          \"The Xpose\",\n          \"Suraj Pe Mangal Bhari\",\n          \"Refugee\"\n        ],\n        \"semantic_type\": \"\",\n        \"description\": \"\"\n      }\n    },\n    {\n      \"column\": \"year\",\n      \"properties\": {\n        \"dtype\": \"category\",\n        \"num_unique_values\": 84,\n        \"samples\": [\n          \"1932\",\n          \"2023\",\n          \"1966\"\n        ],\n        \"semantic_type\": \"\",\n        \"description\": \"\"\n      }\n    },\n    {\n      \"column\": \"genre\",\n      \"properties\": {\n        \"dtype\": \"category\",\n        \"num_unique_values\": 225,\n        \"samples\": [\n          \"Action, Drama, History\",\n          \"Adventure, Drama, Musical\",\n          \"Comedy, Crime, Mystery\"\n        ],\n        \"semantic_type\": \"\",\n        \"description\": \"\"\n      }\n    },\n    {\n      \"column\": \"overview\",\n      \"properties\": {\n        \"dtype\": \"string\",\n        \"num_unique_values\": 2120,\n        \"samples\": [\n          \"When a young man from a small town decides to make it big in a city, he faces several challenges.\",\n          \"The film which is based on the life on an Indian scientist Shivkar Bapuji Talpade, who is credited to have constructed India's first unmanned plane is the tale of the hardships that he went...                See full summary\\u00a0\\u00bb\",\n          \"An NRI and his wife decide to stay in his ancestral home, paying no heed to the warnings about ghosts. Soon, inexplicable occurrences cause him to call a psychiatrist to help solve the mystery.\"\n        ],\n        \"semantic_type\": \"\",\n        \"description\": \"\"\n      }\n    },\n    {\n      \"column\": \"director\",\n      \"properties\": {\n        \"dtype\": \"category\",\n        \"num_unique_values\": 1064,\n        \"samples\": [\n          \"Maneesh Sharma\",\n          \"Latif Faiziyev, Umesh Mehra\",\n          \"Robert Lieberman\"\n        ],\n        \"semantic_type\": \"\",\n        \"description\": \"\"\n      }\n    },\n    {\n      \"column\": \"cast\",\n      \"properties\": {\n        \"dtype\": \"string\",\n        \"num_unique_values\": 2178,\n        \"samples\": [\n          \"Rajinikanth, Akshay Kumar, Amy Jackson, Adil Hussain\",\n          \"Aamir Khan, Urmila Matondkar, Jackie Shroff, Gulshan Grover\",\n          \"Shammi Kapoor, Nanda Karnataki, Tanuja Samarth, Vijayendra Ghatge\"\n        ],\n        \"semantic_type\": \"\",\n        \"description\": \"\"\n      }\n    },\n    {\n      \"column\": \"keyword\",\n      \"properties\": {\n        \"dtype\": \"string\",\n        \"num_unique_values\": 2199,\n        \"samples\": [\n          \"commits, mastermind, people's, Crime, money., Manju Warrier, mysterious, Thriller, forms, Action, daredevil, looted\",\n          \"former, Akshay Kumar, after, ex-wife,, peaceful,  , settles, wife,, preeti,, couples, faking, tina,\",\n          \"Mystery, trapped, irrigation, cheating., truth., Crime, Gul Panag, husband, Abhay Deol, minister,, manorama,, entire\"\n        ],\n        \"semantic_type\": \"\",\n        \"description\": \"\"\n      }\n    }\n  ]\n}"
            }
          },
          "metadata": {},
          "execution_count": 59
        }
      ]
    },
    {
      "cell_type": "code",
      "source": [
        "# selecting the relevant features for recommendation\n",
        "selected_features = ['genre','keyword','overview','cast','director']\n",
        "print(selected_features)"
      ],
      "metadata": {
        "colab": {
          "base_uri": "https://localhost:8080/"
        },
        "id": "WjfIJJEM1JXv",
        "outputId": "fc6dda9e-a1ea-479b-a2a6-45e7016b31c4"
      },
      "execution_count": null,
      "outputs": [
        {
          "output_type": "stream",
          "name": "stdout",
          "text": [
            "['genre', 'keyword', 'overview', 'cast', 'director']\n"
          ]
        }
      ]
    },
    {
      "cell_type": "code",
      "source": [
        "# chceking for null values\n",
        "movies_data.isnull().sum()"
      ],
      "metadata": {
        "colab": {
          "base_uri": "https://localhost:8080/",
          "height": 366
        },
        "id": "MVxPN3XQ1SQN",
        "outputId": "2ecdfcd1-a6f0-4a91-bf39-91f816ed852a"
      },
      "execution_count": null,
      "outputs": [
        {
          "output_type": "execute_result",
          "data": {
            "text/plain": [
              "index          0\n",
              "movie_id       0\n",
              "movie_name     0\n",
              "year          65\n",
              "genre          0\n",
              "overview       0\n",
              "director       0\n",
              "cast           0\n",
              "keyword        0\n",
              "dtype: int64"
            ],
            "text/html": [
              "<div>\n",
              "<style scoped>\n",
              "    .dataframe tbody tr th:only-of-type {\n",
              "        vertical-align: middle;\n",
              "    }\n",
              "\n",
              "    .dataframe tbody tr th {\n",
              "        vertical-align: top;\n",
              "    }\n",
              "\n",
              "    .dataframe thead th {\n",
              "        text-align: right;\n",
              "    }\n",
              "</style>\n",
              "<table border=\"1\" class=\"dataframe\">\n",
              "  <thead>\n",
              "    <tr style=\"text-align: right;\">\n",
              "      <th></th>\n",
              "      <th>0</th>\n",
              "    </tr>\n",
              "  </thead>\n",
              "  <tbody>\n",
              "    <tr>\n",
              "      <th>index</th>\n",
              "      <td>0</td>\n",
              "    </tr>\n",
              "    <tr>\n",
              "      <th>movie_id</th>\n",
              "      <td>0</td>\n",
              "    </tr>\n",
              "    <tr>\n",
              "      <th>movie_name</th>\n",
              "      <td>0</td>\n",
              "    </tr>\n",
              "    <tr>\n",
              "      <th>year</th>\n",
              "      <td>65</td>\n",
              "    </tr>\n",
              "    <tr>\n",
              "      <th>genre</th>\n",
              "      <td>0</td>\n",
              "    </tr>\n",
              "    <tr>\n",
              "      <th>overview</th>\n",
              "      <td>0</td>\n",
              "    </tr>\n",
              "    <tr>\n",
              "      <th>director</th>\n",
              "      <td>0</td>\n",
              "    </tr>\n",
              "    <tr>\n",
              "      <th>cast</th>\n",
              "      <td>0</td>\n",
              "    </tr>\n",
              "    <tr>\n",
              "      <th>keyword</th>\n",
              "      <td>0</td>\n",
              "    </tr>\n",
              "  </tbody>\n",
              "</table>\n",
              "</div><br><label><b>dtype:</b> int64</label>"
            ]
          },
          "metadata": {},
          "execution_count": 61
        }
      ]
    },
    {
      "cell_type": "code",
      "source": [
        "# replacing the null valuess with null string\n",
        "\n",
        "for feature in selected_features:\n",
        "  movies_data[feature] = movies_data[feature].fillna('')"
      ],
      "metadata": {
        "id": "7xxidfI71dyw"
      },
      "execution_count": null,
      "outputs": []
    },
    {
      "cell_type": "code",
      "source": [
        "movies_data.isnull().sum()"
      ],
      "metadata": {
        "colab": {
          "base_uri": "https://localhost:8080/",
          "height": 366
        },
        "id": "u6kJ9JHx1gEq",
        "outputId": "1d294b76-ff26-40dd-f0fe-aed08a711da0"
      },
      "execution_count": null,
      "outputs": [
        {
          "output_type": "execute_result",
          "data": {
            "text/plain": [
              "index          0\n",
              "movie_id       0\n",
              "movie_name     0\n",
              "year          65\n",
              "genre          0\n",
              "overview       0\n",
              "director       0\n",
              "cast           0\n",
              "keyword        0\n",
              "dtype: int64"
            ],
            "text/html": [
              "<div>\n",
              "<style scoped>\n",
              "    .dataframe tbody tr th:only-of-type {\n",
              "        vertical-align: middle;\n",
              "    }\n",
              "\n",
              "    .dataframe tbody tr th {\n",
              "        vertical-align: top;\n",
              "    }\n",
              "\n",
              "    .dataframe thead th {\n",
              "        text-align: right;\n",
              "    }\n",
              "</style>\n",
              "<table border=\"1\" class=\"dataframe\">\n",
              "  <thead>\n",
              "    <tr style=\"text-align: right;\">\n",
              "      <th></th>\n",
              "      <th>0</th>\n",
              "    </tr>\n",
              "  </thead>\n",
              "  <tbody>\n",
              "    <tr>\n",
              "      <th>index</th>\n",
              "      <td>0</td>\n",
              "    </tr>\n",
              "    <tr>\n",
              "      <th>movie_id</th>\n",
              "      <td>0</td>\n",
              "    </tr>\n",
              "    <tr>\n",
              "      <th>movie_name</th>\n",
              "      <td>0</td>\n",
              "    </tr>\n",
              "    <tr>\n",
              "      <th>year</th>\n",
              "      <td>65</td>\n",
              "    </tr>\n",
              "    <tr>\n",
              "      <th>genre</th>\n",
              "      <td>0</td>\n",
              "    </tr>\n",
              "    <tr>\n",
              "      <th>overview</th>\n",
              "      <td>0</td>\n",
              "    </tr>\n",
              "    <tr>\n",
              "      <th>director</th>\n",
              "      <td>0</td>\n",
              "    </tr>\n",
              "    <tr>\n",
              "      <th>cast</th>\n",
              "      <td>0</td>\n",
              "    </tr>\n",
              "    <tr>\n",
              "      <th>keyword</th>\n",
              "      <td>0</td>\n",
              "    </tr>\n",
              "  </tbody>\n",
              "</table>\n",
              "</div><br><label><b>dtype:</b> int64</label>"
            ]
          },
          "metadata": {},
          "execution_count": 63
        }
      ]
    },
    {
      "cell_type": "code",
      "source": [
        "# combining all the 5 selected features\n",
        "combined_features = movies_data['genre']+' '+movies_data['keyword']+' '+movies_data['overview']+' '+movies_data['cast']+' '+movies_data['director']\n",
        "print(combined_features)"
      ],
      "metadata": {
        "colab": {
          "base_uri": "https://localhost:8080/"
        },
        "id": "PHXQ_TX11jUf",
        "outputId": "300d5da0-7250-4d7e-9424-1f6c84a07b92"
      },
      "execution_count": null,
      "outputs": [
        {
          "output_type": "stream",
          "name": "stdout",
          "text": [
            "0       Action, Thriller thriller, Thriller, outlines,...\n",
            "1       Crime, Drama, Mystery single, Crime, Mystery, ...\n",
            "2       Action, Comedy, Crime retired, Crime, successf...\n",
            "3       Comedy, Drama, Family facing, family, their, r...\n",
            "4       Comedy, Drama Pankaj Tripathi, mandate, compre...\n",
            "                              ...                        \n",
            "2194    Thriller Thriller, Shatrughan Sinha, Subhash, ...\n",
            "2195    Drama, Musical, Romance renowned, overshadow, ...\n",
            "2196    Musical, Romance tournament, dancer's, Musical...\n",
            "2197    Drama, Family, Fantasy after, neelam, saheb, t...\n",
            "2198    Action, Comedy, Drama fearful, divorce,, Govin...\n",
            "Length: 2199, dtype: object\n"
          ]
        }
      ]
    },
    {
      "cell_type": "code",
      "source": [
        "# converting text data to geature vectors\n",
        "vectorizer = TfidfVectorizer()"
      ],
      "metadata": {
        "id": "V0NqJhqw1nQh"
      },
      "execution_count": null,
      "outputs": []
    },
    {
      "cell_type": "code",
      "source": [
        "feature_vectors = vectorizer.fit_transform(combined_features)\n",
        "print(feature_vectors)"
      ],
      "metadata": {
        "colab": {
          "base_uri": "https://localhost:8080/"
        },
        "id": "b382xa5113bQ",
        "outputId": "0f3db0d1-fd03-4192-afff-573f9b51dc0f"
      },
      "execution_count": null,
      "outputs": [
        {
          "output_type": "stream",
          "name": "stdout",
          "text": [
            "  (0, 269)\t0.13225620117235462\n",
            "  (0, 10385)\t0.2435026258865845\n",
            "  (0, 7169)\t0.3494757531426403\n",
            "  (0, 4453)\t0.2535279294065427\n",
            "  (0, 7051)\t0.3494757531426403\n",
            "  (0, 6842)\t0.28379609779930953\n",
            "  (0, 9140)\t0.15273732330537276\n",
            "  (0, 8640)\t0.19485007464631082\n",
            "  (0, 5451)\t0.1133568013567344\n",
            "  (0, 9564)\t0.24096550448905776\n",
            "  (0, 5191)\t0.1906305994526956\n",
            "  (0, 11340)\t0.33177000966735837\n",
            "  (0, 11224)\t0.18324741883459564\n",
            "  (0, 3278)\t0.2750332627592314\n",
            "  (0, 10329)\t0.09792763404929887\n",
            "  (0, 7057)\t0.03651613335130583\n",
            "  (0, 6118)\t0.06949248409174619\n",
            "  (0, 11232)\t0.0563866297233423\n",
            "  (0, 4933)\t0.04683653604343848\n",
            "  (0, 9098)\t0.09806725621654426\n",
            "  (0, 10449)\t0.03436984386781609\n",
            "  (0, 8247)\t0.16588500483367918\n",
            "  (0, 4719)\t0.03951233640203532\n",
            "  (0, 11002)\t0.08846694192056463\n",
            "  (0, 9103)\t0.14738521500815235\n",
            "  :\t:\n",
            "  (2198, 2856)\t0.09461997157578642\n",
            "  (2198, 5467)\t0.08897393447265871\n",
            "  (2198, 5741)\t0.11354674213397978\n",
            "  (2198, 5543)\t0.11264626049746339\n",
            "  (2198, 5816)\t0.1435603479961895\n",
            "  (2198, 1227)\t0.19901062449371668\n",
            "  (2198, 9054)\t0.09098697248664979\n",
            "  (2198, 9900)\t0.1199978189950021\n",
            "  (2198, 709)\t0.09390910912031418\n",
            "  (2198, 11246)\t0.07986767923319273\n",
            "  (2198, 3014)\t0.2680784977642471\n",
            "  (2198, 10057)\t0.1199978189950021\n",
            "  (2198, 8015)\t0.2303847855402335\n",
            "  (2198, 2188)\t0.09691572756176971\n",
            "  (2198, 4094)\t0.21191277821576132\n",
            "  (2198, 7310)\t0.21066606438701688\n",
            "  (2198, 1992)\t0.2680784977642471\n",
            "  (2198, 11279)\t0.2680784977642471\n",
            "  (2198, 2599)\t0.10357039911405942\n",
            "  (2198, 10380)\t0.12951891810906807\n",
            "  (2198, 5766)\t0.12951891810906807\n",
            "  (2198, 2320)\t0.3078167974317902\n",
            "  (2198, 8073)\t0.13986696882877364\n",
            "  (2198, 3605)\t0.32424421731273284\n",
            "  (2198, 2982)\t0.16212210865636642\n"
          ]
        }
      ]
    },
    {
      "cell_type": "code",
      "source": [
        "# to see similarity value\n",
        "similarity = cosine_similarity(feature_vectors)\n",
        "print(similarity)"
      ],
      "metadata": {
        "colab": {
          "base_uri": "https://localhost:8080/"
        },
        "id": "jbknEtuX1684",
        "outputId": "0daa7e76-37d7-430d-9090-12c2aaed3d02"
      },
      "execution_count": null,
      "outputs": [
        {
          "output_type": "stream",
          "name": "stdout",
          "text": [
            "[[1.         0.01470161 0.01560187 ... 0.00173687 0.01297531 0.01306605]\n",
            " [0.01470161 1.         0.02205354 ... 0.0103757  0.02913068 0.00307504]\n",
            " [0.01560187 0.02205354 1.         ... 0.00147973 0.02105828 0.04844729]\n",
            " ...\n",
            " [0.00173687 0.0103757  0.00147973 ... 1.         0.01005899 0.00979012]\n",
            " [0.01297531 0.02913068 0.02105828 ... 0.01005899 1.         0.04411354]\n",
            " [0.01306605 0.00307504 0.04844729 ... 0.00979012 0.04411354 1.        ]]\n"
          ]
        }
      ]
    },
    {
      "cell_type": "code",
      "source": [
        "print(similarity.shape)"
      ],
      "metadata": {
        "colab": {
          "base_uri": "https://localhost:8080/"
        },
        "id": "kZ425XSa2loZ",
        "outputId": "036092af-3efc-4126-e349-bbdc76756ed1"
      },
      "execution_count": null,
      "outputs": [
        {
          "output_type": "stream",
          "name": "stdout",
          "text": [
            "(2199, 2199)\n"
          ]
        }
      ]
    },
    {
      "cell_type": "code",
      "source": [
        "# getting the movie name from user\n",
        "movie_name = input('Enter movie name : ')"
      ],
      "metadata": {
        "colab": {
          "base_uri": "https://localhost:8080/"
        },
        "id": "s5C68aPi2ra0",
        "outputId": "783077c9-bfd7-4cc3-e973-75d685637a1d"
      },
      "execution_count": null,
      "outputs": [
        {
          "name": "stdout",
          "output_type": "stream",
          "text": [
            "Enter movie name : Jawan\n"
          ]
        }
      ]
    },
    {
      "cell_type": "code",
      "source": [
        "# creating a list with all the movie names given in the dataset\n",
        "list_of_all_titles = movies_data['movie_name'].astype(str).tolist()\n",
        "print(list_of_all_titles)"
      ],
      "metadata": {
        "colab": {
          "base_uri": "https://localhost:8080/"
        },
        "id": "Wq99tnJ821N3",
        "outputId": "011b3a10-fb62-4cfd-d37d-47234c12c7eb"
      },
      "execution_count": null,
      "outputs": [
        {
          "output_type": "stream",
          "name": "stdout",
          "text": [
            "['Jawan', 'Jaane Jaan', 'Jailer', 'Rocky Aur Rani Kii Prem Kahaani', 'OMG 2', 'Sukhee', 'The Great Indian Family', 'The BFG', 'Pathaan', 'Mastaney', '3 Idiots', 'Satyaprem Ki Katha', 'Lion', 'Bholaa Shankar', 'Haddi', 'Friday Night Plan', 'Neeyat', 'Gadar 2', 'Por Thozhil', 'Life of Pi', 'Asoka', 'The Darjeeling Limited', 'Dangal', 'Tumbbad', 'Dunki', 'Sirf Ek Bandaa Kaafi Hai', 'Gangs of Wasseypur', 'Khufiya', 'Animal', 'Miss Shetty Mr Polishetty', 'Bawaal', 'Brahmastra Part One: Shiva', 'Ghoomer', 'Tiger 3', 'Tu Jhoothi Main Makkaar', 'Drishyam 2', 'Gandhi', 'PK', 'My Name Is Khan', 'Raees', 'Rama Banam', 'Andhadhun', 'Thank You for Coming', 'Dream Girl 2', 'Kushi', 'Taare Zameen Par', 'Drishyam', 'Chor Nikal Ke Bhaga', 'Gangubai Kathiawadi', 'Gaslight', 'The Buckingham Murders', 'Fighter', 'Bholaa', 'Om Shanti Om', 'Kabhi Khushi Kabhie Gham...', 'The Kerala Story', 'Vikram Vedha', 'Swades: We, the People', 'Bajrangi Bhaijaan', 'Bloody Daddy', 'The Hundred-Foot Journey', 'The Kashmir Files', 'Akelli', 'OMG: Oh My God!', 'Adipurush', 'IB 71', 'Padmaavat', 'Zindagi Na Milegi Dobara', 'Jab Tak Hai Jaan', 'Monica O My Darling', 'Bhediya', 'Ra.One', 'Laal Singh Chaddha', 'Don 2', 'Chup', 'Kuch Kuch Hota Hai', 'Don', 'Devdas', 'Badla', 'Gumraah', 'The Lunchbox', 'Zara Hatke Zara Bachke', 'Street Fighter: The Legend of Chun-Li', 'Ganapath', 'Kalki 2898-AD', 'Kal Ho Naa Ho', 'Bride & Prejudice', 'The White Tiger', 'Lust Stories 2', 'Bajirao Mastani', 'Kaun?', 'Dear Zindagi', 'Chhichhore', 'Freddy', 'Yeh Jawaani Hai Deewani', 'Sir', 'Mrs. Chatterjee vs. Norway', 'Munna Bhai M.B.B.S.', 'Fan', 'Welcome to the Jungle', 'Vikram Vedha', 'Lagaan: Once Upon a Time in India', 'Trial Period', 'Kathal: A Jackfruit Mystery', 'Sardar Udham', 'Kisi Ka Bhai Kisi Ki Jaan', 'King of Kotha', 'Ek Tha Tiger', 'HIT: The First Case', 'Singham Again', 'The Second Best Exotic Marigold Hotel', 'Dilwale Dulhania Le Jayenge', 'Kill', 'October', 'An Action Hero', 'The Vaccine War', 'Jab We Met', 'K.G.F: Chapter 1', 'Mimi', 'Afwaah', 'Godfather', 'Laila Majnu', 'Ghajini', 'Jab Harry Met Sejal', 'Barfi!', 'Mumbai Meri Jaan', 'Ludo', 'Haider', 'Mission Majnu', 'Talaash', 'Ae Dil Hai Mushkil', 'A Wednesday', 'Wajah Tum Ho', 'Raazi', 'Dil Chahta Hai', 'Bye2', 'Darlings', 'Runway 34', 'Masaan', 'Sanju', 'Govinda Naam Mera', 'Rockstar', 'Mom', 'Kalank', 'Article 15', 'Lust Stories', 'Shehzada', 'Zero', 'A Thursday', 'Rang De Basanti', 'Rocketry: The Nambi Effect', 'Dilwale', 'Jug Jugg Jeeyo', 'Gully Boy', 'Chennai Express', 'War', 'Shershaah', 'Student of the Year 2', 'Qala', 'Talvar', 'Kuttey', 'Fukrey 3', 'Dangerous', 'Bang Bang', 'Hey Ram', '83', 'Selfiee', 'Veer-Zaara', 'Goliyon Ki Rasleela Ram-Leela', 'Thugs of Hindostan', 'Bheed', 'Kabhi Alvida Naa Kehna', 'Badhaai Do', 'Prem Ki Shaadi', 'Ghost Stories', 'Pushpa: The Rule - Part 2', 'Climax', 'Stree', 'Monsoon Wedding', 'Delhi Belly', 'Mission Raniganj', 'Main Hoon Na', 'Gadar: Ek Prem Katha', 'Bhagwan Bharose', 'Omkara', 'Chak De! India', 'Mohabbatein', 'Krrish 3', 'Kabir Singh', 'Raat Akeli Hai', 'Housefull 4', 'Happy New Year', 'Ittefaq', 'Sultan', 'Dil Dhadakne Do', 'Dhokha: Round D Corner', 'The Other Side of the Door', 'Omerta', 'Maqbool', 'Satya', 'Cirkus', 'Merry Christmas', 'Badlapur', 'Kaun Kitney Paani Mein', 'Karwaan', 'Fukrey', 'Mili', 'Ugly', 'Rab Ne Bana Di Jodi', 'Tiger Zinda Hai', 'Once Upon a Time in Mumbaai', 'Salaam Venky', 'Vadh', 'Faraaz', 'Sholay', '1920: Horrors of the Heart', 'Section 375', 'Shiddat', 'Jalpari: The Desert Mermaid', 'The Girl on the Train', 'Piku', 'Kennedy', 'Takht', 'Company', 'Kahaani', 'Dil Se..', 'Laapataa Ladies', 'Goodbye', 'Uri: The Surgical Strike', 'Sooryavanshi', 'Highway', 'Tamasha', 'Operation Mayfair', 'Agneepath', 'Lootera', 'Dostana', 'Dream Girl', 'Chandigarh Kare Aashiqui', 'Dhoom:3', 'U Turn', 'Haseen Dillruba', 'Blurr', 'Shamshera', 'Bareilly Ki Barfi', 'Thar', 'Bade Miyan Chote Miyan', 'Uunchai', 'No Smoking', 'Dobaaraa', 'Bulbbul', 'Kapoor & Sons', 'The Crew', 'The Archies', 'Mumbaikar', 'Yodha', 'Jalsa', 'Game Changer', 'Gulaal', 'Raid', 'Black Friday', 'The Sky Is Pink', 'Student of the Year', 'Jodhaa Akbar', 'Jersey', 'Gehraiyaan', 'Queen', 'Dabangg 3', 'Darr', 'Ala Vaikunthapurramuloo', 'Kolai', 'Dhoom', 'Super 30', 'A Death in the Gunj', 'Dhoom:2', 'Kaabil', 'Shootout at Byculla', 'Dum Laga Ke Haisha', 'Fukrey Returns', 'Ek Villain', 'Kick', 'Shaitan', 'Raksha Bandhan', '2', 'Cuttputlli', 'Housefull 5', 'Kabhi Haan Kabhi Naa', 'Pyaar Ka Punchnama', 'Billu', 'Jaane Tu... Ya Jaane Na', 'Dil Bechara', 'Hera Pheri', 'Bhool Bhulaiyaa', 'Aashiqui 2', 'Kurbaan', 'Don 3: The Final Chapter', 'Zid', 'Ajeeb Daastaans', 'Simmba', 'The Raid', 'Dabangg', 'Waltair Veerayya', 'Jogira Sara Ra Ra', 'Checkmate', 'Krrish', 'Baadshah', 'Udaan', 'Water', 'Guzaarish', 'Koi... Mil Gaya', 'Dil To Pagal Hai', 'Table No.21', 'Murder 3', 'Taish', 'Secret Superstar', 'Dhaakad', 'Sarkar', 'Chandu Champion', 'Major', 'Doctor G', \"Viceroy's House\", 'M.S. Dhoni: The Untold Story', 'Singham', 'Bhaag Milkha Bhaag', 'All Ladies Do It', 'Bhavesh Joshi Superhero', 'Desi Boyz', 'Pataakha', '7 Khoon Maaf', 'Angrezi Medium', 'Janaki Jaane', 'Shahid', 'B.A. Pass', 'Radhe', 'Liger', 'Kamasutra 3D', 'Untitled Vikas Bahl/Jio Studios Project', 'Cocktail', 'Jewel Thief', 'Deewana', 'Bhagam Bhag', 'Newton', 'Made in China', 'Kai po che!', 'Babumoshai Bandookbaaz', 'Humpty Sharma Ki Dulhania', 'Chatrapathi', 'Kaminey', 'Karthik Calling Karthik', 'Ramayana: The Legend of Prince Rama', 'Trapped', 'Qarib Qarib Singlle', 'Baaghi 3', 'Darbar', 'Bhool Bhulaiyaa 2', 'Udta Punjab', 'Agra', 'Notebook', 'Tara vs Bilal', 'Matru Ki Bijlee Ka Mandola', 'Garam Masala', 'Ek Villain Returns', 'Kambakkht Ishq', 'Metro.... In Dino', 'Go Goa Gone', 'Jo Jeeta Wohi Sikandar', 'Dhamaka', 'Cobalt Blue', 'Manorama: Six Feet Under', 'Antim: The Final Truth', 'Welcome Back', 'Good Newwz', 'New York', 'Hum', 'Detective Byomkesh Bakshy!', 'Ram Setu', 'Devara', 'Life in a Metro', 'Aligarh', 'Pink', 'Anek', 'Befikre', 'Sonu Ke Titu Ki Sweety', 'Baghban', 'Kanjoos Makhichoos', 'Guide', 'Tubelight', 'Anbe Sivam', 'Hum Tum', 'Special Chabbis', 'Dasvi', 'Mrs Undercover', 'Vicky Donor', 'Bodyguard', 'Kahaani 2', 'Malaikottai Vaaliban', 'Bellbottom', 'Kaagaz', 'Salaam Bombay!', 'Meri Pyaari Bindu', 'Namastey London', 'Welcome', 'Baazigar', 'Main Tera Hero', 'Singham Returns', 'Jagga Jasoos', 'India Lockdown', 'Parched', 'Sam Bahadur', 'Hera Pheri 3', 'Malang - Unleash the Madness', 'Aladin', 'Madras Cafe', 'Race 3', 'Mrs. Serial Killer', 'Any Body Can Dance 2', 'Manmarziyaan', 'Tere Naam', 'Tiku weds Sheru', 'Housefull 3', 'Toilet - Ek Prem Katha', 'Aitraaz', '2 States', 'Sadak', 'Bob Biswas', 'Johny Mera Naam', 'Ladies vs. Ricky Bahl', 'Johnny Gaddaar', 'Thunivu', 'Photograph', 'Tashan', 'Taal', 'Krrish 4', 'Hum Do Hamare Do', 'Saaho', 'We Are Family', 'Housefull 2', 'Baby', 'Code Name: Tiranga', 'Mujhse Shaadi Karogi', 'Ajnabee', 'Bachna Ae Haseeno', 'Chef', 'Dev.D', 'Spy', 'Mission Kashmir', 'Pyaasa', 'Jee Le Zaraa', 'Jayeshbhai Jordaar', 'Pichaikkaran 2', 'Hazaaron Khwaishein Aisi', 'The Lovers', 'The Big Bull', 'Heropanti 2', 'Te3n', 'Hungama 2', 'Indian 2', 'Boom', 'Karan Arjun', 'Shaandaar', 'Samrat Prithviraj', 'Bharat', 'Laxmii', 'Aazam', 'Serious Men', 'Ishq', 'JGM (JanaGanaMana)', 'Josh', 'Footfairy', 'C.I.D.', 'Zinda', 'Non Stop Dhamaal', 'Ishq-e-nadaan', 'Fitoor', 'Andaz Apna Apna', 'Jawaani Jaaneman', 'Batla House', 'Gabbar Is Back', 'Partner', 'Awara Paagal Deewana', 'A Flying Jatt', 'Rangeela', 'Jogi', 'Tadka', 'Paheli', 'Duplicate', 'Radhe Shyam', 'English Vinglish', 'Koi Jaane Na', '72 Hoorain', 'Rustom', 'Chup Chup Ke', 'Hate Story', 'Tees Maar Khan', 'Mard Ko Dard Nahin Hota', 'Hum Dil De Chuke Sanam', 'Sadak 2', 'Black', '13B: Fear Has a New Address', 'Fanaa', 'Yaariyan 2', 'War 2', 'Yuva', 'Sangharsh', 'Wanted', 'Motichoor Chaknachoor', 'Paan Singh Tomar', 'Sharmaji Namkeen', 'Music School', 'Satyameva Jayate 2', 'Laal Kaptaan', 'Manto', 'Khakee', 'Yeh Saali Aashiqui', 'Lakshya', 'Badhaai ho', 'Trishna', 'Guilty', 'Thank God', 'Ghayal', 'Baaghi', 'Bombay Velvet', 'Once Upon a Time in Mumbai Dobaara!', 'Shaadi Mein Zaroor Aana', 'Lage Raho Munna Bhai', 'Luka Chuppi', 'Shor in the City', 'Tanhaji: The Unsung Warrior', 'Neymar', 'AK vs AK', 'Sarbjit', 'Connect', 'Welcome Home', 'Padman', 'Laththi', 'Raman Raghav 2.0', 'Dhobi Ghat', 'Ardh Satya', 'Jersey', 'Bala', 'Guru', 'Stolen', 'Deewane Huye Paagal', 'Nail Polish', 'Jaadugar', 'Jism 2', 'Three of Us', 'Bhootnath', 'Ascharyachakit!', 'Chillar Party', 'Chakda Xpress', 'I Hate Luv Storys', 'Wazir', 'Singh Is Kinng', 'Holiday', '#Home', 'Attack', 'Janhit Mein Jaari', 'Khiladiyon Ka Khiladi', 'Vinaya Vidheya Rama', 'Hate Story IV', 'Rocky Handsome', 'Dhamaal', 'Pyaar Ka Punchnama 2', 'Untitled Blumhouse Productions Film', 'Chachi 420', 'Chalte Chalte', 'Sanam Teri Kasam', 'Bunty Aur Babli', 'Agent Vinod', 'Airlift', 'Judwaa 2', 'Untitled Aamir khan/Rajkumar Hirani movie', 'Paanch', 'Rowdy Rathore', 'Sanak', 'Visfot', 'Skater Girl', 'Raincoat', 'Murder', 'Mujhse Dosti Karoge!', 'Veerappan', 'Madly', 'One Friday Night', 'Khuda Haafiz', 'Mohenjo Daro', 'Atrangi Re', 'Aakrosh', 'Agneepath', 'Yes Boss', 'Chhapaak', 'Anjaana Anjaani', 'No One Killed Jessica', 'Gurgaon', 'Lift', 'D-Day', 'Khuda Haafiz Chapter II: Agni Pariksha', 'UI', 'Mr. India', 'The Body', 'Mukkabaaz', 'Kaagaz Ke Phool', 'Shahenshah', 'Gali Guleiyan', 'Phir Hera Pheri', 'Zwigato', 'Hindi Medium', '1920', 'Love Aaj Kal', 'Bheeshma', 'Chopsticks', 'Pagglait', 'Heroine', 'Shanghai', 'Naam Shabana', 'Singh Is Bliing', 'Beautiful', 'Filmistaan', 'Hum Tumhare Hain Sanam', 'Naseeb', 'Akira', 'Sonchiriya', 'The Other End of the Line', 'Kesari', 'Jaane Bhi Do Yaaro', 'Nympho: The Lust Story', \"San' 75 (Pachattar)\", 'Shootout at Wadala', 'Murder 2', 'Luck by Chance', 'Kaho Naa... Pyaar Hai', 'All the Best: Fun Begins', 'Band Baaja Baaraat', 'Baazaar', 'Miss Teacher', 'Raaz', 'Nayak: The Real Hero', 'Race', 'Sergeant', 'Khosla Ka Ghosla!', 'Siya', 'Golmaal 3', 'Blackmail', 'Don', 'Baadshaho', 'Babli Bouncer', \"Midnight's Children\", 'Rahasya', 'Love-All', 'Sarfarosh', 'Entertainment', 'Kanguva', 'Chehre', 'Good Luck Jerry', 'Kaamyaab', 'Madhoshi', 'Housefull', 'Mardaani 2', 'Toolsidas Junior', 'Love Sonia', 'Hate Story 3', 'Looop Lapeta', 'Mumbai Saga', 'Pardes', 'Kaante', 'The Hungry', 'Kabzaa', 'Forensic', 'Shootout at Lokhandwala', 'Double XL', 'Phone Bhoot', 'Cadaver', 'Bombay Talkies', 'Almost Pyaar with DJ Mohabbat', 'Oh! Baby', 'Rashmi Rocket', 'Pyaar Kiya To Darna Kya', 'The Tashkent Files', 'Mulk', 'Dabangg 2', 'Romeo Akbar Walter', 'DAMaN', 'Dil Bole Hadippa!', 'Buddha in a Traffic Jam', 'The Purvanchal Files', '800', 'Blind', 'Love Aaj Kal', 'Har Dil Jo Pyar Karega...', 'Ankhon Dekhi', 'Joram', 'Ardh', 'Khoobsurat', 'Bachchhan Paandey', 'Border', 'Hichki', 'Rangoon', 'Ujda Chaman', 'Arth', 'Mohra', 'Untitled Soorarai Pottru remake', 'Dishoom', 'Aankh Micholi', 'Aashiq Banaya Aapne: Love Takes Over', 'Golmaal Returns', 'Kaalakaandi', 'Hanuman', 'Tariq', 'Maine Pyar Kiya', 'Court', 'Chhalaang', 'Street Dancer 3D', 'Jhund', 'U-Turn', 'Thalaivi', 'Hum Saath-Saath Hain', 'Kedarnath', 'Raajneeti', 'Mission Mangal', 'Maja Ma', 'Paa', 'Maachis', 'The Intern', 'Panipat', 'One 2 Ka 4', 'Titli', 'Monsoon Shootout', 'Jolly LLB', 'Kaal', 'Hum Aapke Hain Koun..!', 'Kadvi Hawa', 'Daddy', '36 China Town', 'Shool', 'Dharam Sankat Mein', 'Class of 83', 'Sheran Di Kaum Punjabi', 'Brothers', 'Deewangee', 'Madaari', 'Bawarchi', 'Breakaway', 'Mughal-E-Azam', 'A Gentleman', 'Rock On!!', 'Evil Eye', 'Margarita with a Straw', \"Rakshak India's Braves\", 'The Diplomat', 'Koyla', 'Trimurti', 'Thappad', 'Joker', 'Nazar Andaaz', 'Gulabo Sitabo', 'Phobia', 'B.A. Pass 2', 'Commando', 'Khal Nayak', 'Dhan Dhana Dhan Goal', 'Chocolate: Deep Dark Secrets', 'Dolly Kitty Aur Woh Chamakte Sitare', 'Badrinath Ki Dulhania', 'Dial 100', 'Yalgaar', 'Kaun Pravin Tambe?', 'Toofaan', 'Besharam', \"India's Most Wanted\", 'Do Bigha Zamin', 'Aamir', 'Raju Ban Gaya Gentleman', 'Titu Ambani', 'Judgementall Hai Kya', 'Saudagar', 'Khiladi 786', 'Hurdang', 'Plan A Plan B', 'Pari', 'Thank You', 'Firrkie', '1920: Evil Returns', 'Bol Bachchan', 'Hisss', 'Guthlee Ladoo', 'Haan Maine Bhi Pyaar Kiya', 'Soldier', 'Phool Aur Patthar', 'The Xpose', 'Aashiq', 'Pal Pal Dil Ke Paas', 'Kyaa Super Kool Hain Hum', 'Rocket Singh: Salesman of the Year', 'Gandharva jr.', 'Tere Bin Laden', 'The Underbug', 'Bandit Queen', 'Maidaan', 'Blue', 'Chameli', 'Khushi', 'Mausam', 'Fiza', 'Mother India', 'Hungama', 'Yeh Saali Zindagi', \"Mr. & Mrs. '55\", 'Waqt', 'Raabta', 'Untitled Shahid Kapoor/Kriti Sanon Film', 'Neerja', 'Qayamat: City Under Threat', 'Raju Chacha', 'Gupt: The Hidden Truth', 'Vivah', 'Bhoot Police', 'Operation Romeo', '1942: A Love Story', 'Aksar 2', 'Duniya', 'Ferrari Ki Sawaari', 'Mr Lele', 'Untitled', 'Shah Behram', 'OK Jaanu', 'Ki & Ka', 'Shree 420', '102 Not Out', 'Matrubhoomi: A Nation Without Women', 'Ginny Weds Sunny', 'Woh Kaun Thi?', 'Action Replayy', 'Yodha', 'Khatta Meetha', 'Shakti', 'Dushmani: A Violent Love Story', 'Humraaz', 'Jhankaar Beats', 'Khiladi', 'Baiju Bawra', 'Sahib Bibi Aur Ghulam', 'Tezaab', 'Yamini', 'Bangistan', 'Hawa', 'Zubeidaa', 'Singh Saab the Great', 'Garbage', 'Jai Maa Vaishno Devi', 'Koochie Koochie Hota Hai', 'One Two Three', 'Raaz: The Mystery Continues', 'LSD: Love, Sex Aur Dhokha', 'Love Hostel', 'Gunday', 'Michael', 'Behen Hogi Teri', 'Pogaru', 'Motu Patlu Kung Fu Kings Returns', 'Sorry Karma Returns', 'Mary Kom', 'Force 2', 'Aar Ya Paar', 'Loveyatri', 'Dharam Veer', 'Mujrim', 'Shaadi Ke Side Effects', 'Mera Naam Joker', 'Roohi', 'Cantt Road: The Beginning', 'Patiala House', 'Shakespeare-Wallah', 'Kho Gaye Hum Kahan', 'Pippa', 'Raanjhanaa', 'Lakadbaggha', 'Kavacham', 'Janmabhoomi', 'Munnibai', 'Yaarana', 'Aks', 'Khan kluay', 'Hunterrr', 'Lost', 'The Ghazi Attack', '99', 'Tujhe Meri Kasam', 'Baasha', 'Gangster', 'Commando 3', 'The Lift Boy', 'Main Aur Charles', 'Gangaa Jamunaa Saraswathi', 'Salaam-E-Ishq', 'Chhal', 'Maine Pyaar Kyun Kiya', 'Dil Kya Kare', 'Gori Tere Pyaar Mein!', 'Aankhen', 'Theeran Adhigaaram Ondru', 'Ek Ladki Ko Dekha Toh Aisa Laga', 'Chandni Chowk to China', 'Hi Nanna', 'Anand', 'Ghar Dwaar', 'Kis Kisko Pyaar Karoon', 'Khushboo', 'Chalaak', 'Stanley Ka Dabba', 'Ghost Story - An Abstract Film', 'Sandeep Aur Pinky Faraar', 'Rascals', 'Aiyaary', 'Veerana', 'Wake Up Sid', 'Keedaa Cola', 'Daawat-e-Ishq', 'Aiyyaa', 'Toofan', 'Zanjeer', 'Qurbani', 'Dr. Cabbie', 'Mahanati', 'Saudagar', 'Har Har Mahadev', 'Zapatlela', 'Judwaa', 'That Girl in Yellow Boots', 'The Delhi Files', 'Jolly LLB 2', 'Gold', 'Bichhoo', 'Kaali Khuhi', 'Jigar', 'Aatmapamphlet', 'Amar Prem', 'Awarapan', 'Hate Story 2', 'Brahmastra 2', 'Musafir', 'Possessed Love', 'Prem Ratan Dhan Payo', 'Nadiya Ke Paar', 'David', 'Roar', 'Aarakshan', 'Angithee', 'Dharmatma', 'Meenakshi Sundareshwar', 'De Dana Dan', 'Mastram', 'Ek Thi Daayan', 'Le Halua Le', 'Virasat', 'Axone', 'Coolie No. 1', 'Maya', 'Mardaani', 'Kalyug', 'Yeh Shaadi Nahi Ho Sakti', 'Hawayein', 'Ek Jaan Hain Hum', '420 IPC', 'Baaghi 2', 'Ragini MMS 2', 'Bade Miyan Chote Miyan', 'The Blue Umbrella', 'Operation Valentine', 'Betaab', 'Race 2', 'Monsoon', 'Ek Main Aur Ekk Tu', 'Refugee', 'Crack', 'Marjaavaan', 'Bramayugam', 'Ek Paheli Leela', 'Prince', 'Mehbooba', 'My Friend Ganesha 4', 'Luck', 'Phir Bhi Dil Hai Hindustani', 'Grand Masti', 'Seeta Aur Geeta', 'Muthu', 'Coat', 'Footpath', 'Julie 2', 'Khuda Gawah', 'Laaga Chunari Mein Daag: Journey of a Woman', 'Helicopter Eela', 'Jagir', 'Humko Deewana Kar Gaye', 'Ek Hasina Thi', 'Soorma', 'Nikamma', 'Do Lafzon Ki Kahani', 'Phata Poster Nikhla Hero', 'Manikarnika: The Queen of Jhansi', 'August 16 1947', 'Nasha', 'Tum Bin 2', 'Suryavanshi', 'Zanjeer', 'Shukranu', 'Jigarthanda DoubleX', 'Tehran', 'Ramaiya Vastavaiya', 'Yaadein...', 'Chhota Bheem Kung Fu Dhamaka', 'Maatr', 'Alag: He Is Different.... He Is Alone...', 'Delhi-6', 'Vaastav: The Reality', 'Ship of Theseus', 'Golmaal: Fun Unlimited', 'The Hero of Color City', 'Raja', 'Kyon Ki...', 'Choked: Paisa Bolta Hai', 'Azhar', 'Panga', 'Rog', 'Dil Toh Baccha Hai Ji', 'Waqt: The Race Against Time', 'Kasethan Kadavulada', 'Jurm', 'Kachchi Kali', 'Who Am I', 'Kachche Dhaage', 'Pitaah', 'Guest iin London', 'Policegiri', 'Shaakuntalam', 'Hasee Toh Phasee', 'Tiger Nageswara Rao', 'Baar Baar Dekho', 'Baaghi 4', 'Hotel', 'Doodhwali', 'Loha', 'Socha Na Tha', 'Naseeb', 'Veera Simha Reddy', 'Tadap', 'Khichdi: The Movie', 'Bandh Darwaza', 'Laal Rang', 'Once Again', 'Samay: When Time Strikes', 'Mere Jeevan Saathi', 'Khaidi No. 150', 'Darna Zaroori Hai', 'Raja Ki Ayegi Baraat', 'Darna Mana Hai', 'Dono', 'Shaurya: It Takes Courage to Make Right... Right', 'Satyameva Jayate', 'The Conversion', 'Kismat Konnection', 'Kabul Express', 'China Gate', 'Ghayal Once Again', 'Sherdil', 'Kaala Barbarian Chapter 1', 'Dance Dance', 'Mr. & Mrs. Khiladi', 'Deewaar', 'Manjhi: The Mountain Man', 'Dhadak', 'Kites', 'State of Siege: Temple Attack', 'Dulha Mil Gaya', 'Dil Aashna Hai (...The Heart Knows)', 'Pizza', 'Yuvvraaj', 'VD 12', 'Happy Bhag Jayegi', 'PM Narendra Modi', 'Bole Chudiyan', 'Mohabbat', 'Arjun Pandit', 'Beta', \"'D'\", 'Saugandh', 'Aap Mujhe Achche Lagne Lage', 'Thackeray', 'Julie', 'Shimla Mirchi', 'Golmaal Again', 'Enemy', 'Madhumati', 'Kick 2', 'Soni', 'Saagar', 'Paap', 'Jackpot', 'Roadside Romeo', 'Maarrich', \"Punjab '95\", 'Dosti: Friends Forever', 'Ziddi', 'Dushmun', 'The Accidental Prime Minister', 'Preetam', 'Drive', 'Ajmer 92', 'Hindutva', 'Shakuntala Devi', 'Anwar', 'Garv: Pride and Honour', 'The Storyteller', 'Mere Jeevan Saathi', 'Kochadaiiyaan', 'Tahkhana', 'Bombay', 'King Uncle', 'Don', 'Chhota Bheem aur Krishna: Mayanagari', 'Bedhadak', 'Yaara', 'De De Pyaar De', 'Malaal', 'Match Of Life', 'Ek Betuke Aadmi Ki Afrah Raatein', 'Do Dooni Chaar', 'Bhabhi', 'Badal', 'Badla Sherni Ka', 'Awara Pagal Deewana 2', 'Badnaam Gali', 'Vishwaroopam', 'Unpaused', 'Vedaat Maratha Veer Daudale Saat', 'Victoria: Ek Rahasya', 'Tum Mere Ho', 'Jaani Dushman: Ek Anokhi Kahani', 'Amar Akbar Anthony', 'Spirit', 'Khamoshi: The Musical', 'Teesri Kasam', 'Pati Patni Aur Woh', 'Chhatriwali', 'Lootcase', 'Devdas', 'Murder Mubarak', 'Rambo', 'Sarzameen', 'Ruslaan', 'Earth', 'Mister Mummy', 'Pailwaan', 'Rajnigandha', 'Haré Rama Haré Krishna', 'Sold', 'Bhoot', 'Martin', 'Pyar Ke Do Pal', 'Tumko Na Bhool Paayenge', 'Fugly', 'Anokha Bandhan', 'Phas Gaye Re Obama', 'Tauba Tauba', 'Hera Pheri', 'Heropanti', 'Pihu', 'Oh My Ghost', 'Chamatkar', 'Dasvidaniya', 'MP3: Mera Pehla Pehla Pyaar', 'Andaaz', 'Shanakht', 'Daag: A Poem of Love', 'Dostana 2', 'Nache Nagin Gali Gali', 'Auron Mein Kahan DumTha', \"What's Your Raashee?\", 'Tutak Tutak Tutiya', 'Jaal: The Trap', 'Sharaabi', 'Badmaa$h Company', 'Hamari Adhuri Kahani', 'Bad Boy', 'Doordarshan', 'Haasil', \"Neal 'N' Nikki\", 'Bandhan', 'Hijack', 'Fida', 'Cold Case', 'Mastizaade', 'Ab Tak Chhappan', 'Akele Hum Akele Tum', 'Jab Pyaar Kisise Hota Hai', 'Allah-Rakha', 'Bhaagamathie Full Hindi Dubbed Movie', 'Saathiya', 'Ankahi Kahaniya', 'Pudhu Pettai', 'Tejas', 'Shubh Mangal Saavdhan', 'Phantom', 'Coolie No. 1', 'Aisha', 'Gumnaam', 'Fire in the Mountains', 'Yaar Gaddar', 'Barsaat', 'Heyy Babyy', 'Dhol', 'Bahut Hua Sammaan', 'Lajja', 'Krishna Cottage', 'Jung', 'Nela Ticket', 'Pyasi Nigahen', 'Veere Di Wedding', 'Fire', 'NH10', 'Gunjan Saxena: The Kargil Girl', 'Silence... Can You Hear It?', 'Badass Ravikumar', 'Baap', 'Khoj', 'Jhoom Barabar Jhoom', 'Humshakals', 'Prahaar: The Final Attack', 'Maine Dil Tujhko Diya', 'Raja Natwarlal', 'Chhorii', 'Andhaa Kaanoon', 'The Song of Scorpions', 'Ram Jaane', 'Machine', 'Acting Ka Bhoot', 'Hamara Dil Aapke Paas Hai', 'Pyaar Ishq Aur Mohabbat', 'Pantham', 'Kyaa Kool Hai Hum', 'Hamid', 'Apna Sapna Money Money', 'Daag: The Fire', 'The Killer', 'Mission Lion', 'Siren', 'Laila Aur Satt Geet', 'Oye Lucky! Lucky Oye!', 'Bhoot: Part One - The Haunted Ship', 'Shabaash Mithu', 'Hulchul', 'Saand Ki Aankh', 'Vijaypath', 'Kodiyil Oruvan', 'Paltan', 'Rehnaa Hai Terre Dil Mein', 'Ta Ra Rum Pum', 'Indoo Ki Jawani', 'The Dirty Picture', 'Pagalpanti', 'Dil Ka Rishta', 'Khaali Peeli', 'Aandhi', 'Shamitabh', 'Miss Lovely', 'Vidhaata', 'Pran Jaye Par Vachan Na Jaye', 'Dil Ka Kya Kasoor', 'Suhaag', 'Raja Babu', 'Parivartan', 'Tigers', 'Aa Ab Laut Chalen', 'Khubsoorat', 'Untitled SRK-Suhana-Marflix movie', 'Rishtey', 'Chaahat', 'Aalavandhan', 'Shubh Mangal Zyada Saavdhan', 'One Night Stand', 'Laawaris', 'Dacait', 'Naam', 'Nishabd', 'Kadhalar Dinam', 'Sixteen', 'Lohardaga', 'Sathyam', 'Salmon 3D', 'Gumrah', 'Ijaazat', 'Chimanee Pakhre', 'Ek Vivaah... Aisa Bhi', 'Break Ke Baad', 'Rock On 2', 'Indrasabha', 'Maharaj', '21: Battle of Saragarhi', 'Bumm Bumm Bole', 'Anjaam', 'Hacked', 'Dybbuk: The Curse Is Real', 'Haathi Mere Saathi', 'Mausam', 'Sardaar Gabbar Singh', 'Vardi', 'Aag Ke Sholay', 'Kacchey Limbu', 'Yeh Hai Jalwa', 'Saawariya', 'Emergency', 'Makdee', 'Black Rose', 'Kaalia', 'Prem Rog', 'Sarkar Raj', 'Phoonk', 'Gehrayee', 'Yamla Pagla Deewana', 'Saajan Ka Ghar', 'Love Story 2050', 'Commando 2', 'Mehsampur', 'Mere Brother Ki Dulhan', '12th Fail', \"Jaan-E-Mann: Let's Fall in Love... Again\", 'Umrao Jaan', 'Dum Maaro Dum', 'Farz', 'Sui Dhaaga: Made in India', 'Om - The Battle Within', 'Iftikhar', 'Sohni Mahiwal', 'Cash', 'Drona', 'Bewafaa', 'Bazaar', 'Why Cheat India', 'Ek Phool Do Mali', 'Salaam Namaste', 'B.A. Pass 3', 'Kasoor', 'Players', 'Purana Mandir', 'Dushman', 'Phillauri', 'Aurangzeb', 'Right Yaaa Wrong', 'Bhagwaan Dada', 'Raktneeti', 'Vishwaroopam 2', 'Love in a Taxi', 'Action Jackson', 'Atithi Tum Kab Jaoge?', 'Purab Aur Pachhim', 'Sparsh', 'Kya Kehna', 'Navra Mazha Navsacha', 'Welcome to New York', 'Chann Pardesee', 'Suhaag', 'Annamalai', 'Saaransh', 'All India Rank', 'Silsila', 'Great Grand Masti', '100 Days', 'Sheela I Love You', 'Mr. & Mrs. Mahi', 'Road to Sangam', 'Suraj', 'Honeymoon Travels Pvt. Ltd.', 'Jung', 'Raavan', 'City Lights', 'Kaala Patthar', 'Blank', 'Mitron', 'Mahakaal', 'Daku Ramkali', 'Ajji', 'Mudrank: The Stamp', 'Aarzoo', 'Bluffmaster!', 'Oh Darling Yeh Hai India', 'Ramayana: The Epic', 'Mangal Pandey: The Rising', 'The Journey of Karma', 'Raaz Reboot', 'Dhanak', 'Bhoot and Friends', 'Saajan Chale Sasural', 'Sssshhh...', 'Haathi Mere Saathi', 'The Shaukeens', 'Kati Patang', 'Ulajh', 'I Am Kalam', 'Hum Dono', 'Jannat: In Search of Heaven...', 'Jeet', 'Mard', 'Half Girlfriend', 'Jalebi', 'Thupparivaalan', 'Pyar Ka Karz', 'Saina', 'Virgin Bhanupriya', 'Halahal', 'Maid for each other', 'Stalin', 'Dus', 'Om Dar-B-Dar', 'Mann', '3rd October', 'Baabul', 'Roti Kapada Aur Makaan', 'Dobaara: See Your Evil', 'Hawas', 'Fateh', 'Zakhmi Sipahi', 'Happy Ending', 'Japan', 'Gunda', 'Nishant', 'The Past', 'Army', 'Dvand: The Internal Conflict', 'Dulhe Raja', 'Irada', 'Jaggu Ki Lalten', 'Blackmail', 'Coolie', 'Dedh Ishqiya', 'VD18', 'Ek Doctor Ki Maut', 'Ram Gopal Varma Ki Aag', 'Yeh Ballet', 'Namak Haraam', 'Woh Lamhe ...', 'Mandi', 'Naya Daur', 'Welcome to Karachi', \"No Land's Man\", '1971', 'Saheb Biwi Aur Gangster 3', 'Hawaizaada', 'Tumhari Sulu', 'Prem', 'Dangerous Ishhq', 'Ajay', 'Shuddh Desi Romance', 'Aakhree Raasta', 'Mubarakan', 'Police Aur Mujrim', 'Jazbaa', 'Lucky: No Time for Love', 'Ankhen', 'Mashaal', 'Super Nani', 'Dhoondte Reh Jaoge', 'Tahalka', 'Googly', 'Swarg', 'Hadh Kar Di Aapne', 'Mere Baap Pehle Aap', 'Amir Garib', 'Long Live Brij Mohan', 'Meel patthar', 'Hatya', 'NTR: Kathanayakudu', 'Apne', 'Yeh Lamhe Judaai Ke', 'No Problem', 'Yudhra', 'Baghavat', 'Begum Jaan', 'Taarzan: The Wonder Car', 'Yaariyan', 'The Legend of Bhagat Singh', 'Beyond the Clouds', 'Oops!', 'Hawaa Hawaai', 'Ram Singh Charlie', 'Main Atal Hoon', 'Taqdeer', 'Simran', 'Dulhan Hum Le Jayenge', 'Indian Never Again Nirbhaya', 'The Great Gambler', 'Chaar Lugaai', 'Pinjar: Beyond Boundaries...', '200: Halla Ho', 'Ayalaan', 'Total Dhamaal', 'Aayirathil Oruvan', 'Fashion', '14 Phere', 'Yellow Bus', 'Mere Sajana Saath Nibhana', 'Torbaaz', 'Ishq Vishk', 'Chakravyuh', 'Darwaza', 'Kadakh', 'Scorned', 'Ankush', 'Shikara', 'Freaky Ali', 'Ready', 'Do Patti', 'Iqbal', 'Operation Fryday', 'Dil Hai Gray', 'Kahin Pyaar Na Ho Jaaye', 'Aankhen 2', 'Journey Bombay to Goa: Laughter Unlimited', 'Lekin...', 'The Hero: Love Story of a Spy', 'The Zoya Factor', 'Kucch To Hai', 'Ungli', 'Parinda', 'Saajan', 'Prassthanam', 'Berlin', 'Bhonsle', 'Chashme Baddoor', 'Pukar', 'All Is Well', 'Gandhi Talks', 'Do Ankhen Barah Haath', 'Ittu Si Baat', 'Lamhe', 'Qayamat Se Qayamat Tak', 'Bunty Aur Babli 2', 'Ahsaas', 'Harami', 'Kudrat', 'Kisna: The Warrior Poet', 'Jal', 'Ek Gulelbaaz the Catapult', 'Jail Yatra', 'Fraud Saiyyan', 'Barot House', 'The Attacks of 26/11', 'Son of Sardaar', 'Rocky', 'Mere Aagosh Mein', 'Narasimha', 'The Burning Train', 'Dostana', 'Bemisal', 'Chhota Bheem Himalayan Adventure', 'Vijay', 'Ghazab', 'Free Entry', 'Commando', 'Jaal', 'Shaapit: The Cursed', 'Hello Brother', 'Ghatak: Lethal', 'Ramprasad Ki Tehrvi', 'Backfire', 'Main Prem Ki Diwani Hoon', 'Naseeb Apna Apna', 'Parivaar', 'Tu Hai Mera Sunday', 'Rakshak', '#Homecoming', 'Farz', 'Chalk N Duster', 'U Me Aur Hum', 'Tom, Dick, and Harry', 'Tryst with Destiny', 'Mukti Bhawan', 'Hero No. 1', 'Ajab Prem Ki Ghazab Kahani', 'Dhadkan', 'I Love You', 'The Stoneman Murders', 'Lomad', 'Awaara', 'Bhuj: The Pride of India', 'Tribhanga', 'Kuch Pal Pyar Ke', 'Dor', 'Hero', 'Aaj Ka Arjun', 'Do Knot Disturb', 'Lupt', 'Cargo', 'Shiva', 'Cheeni Kum', 'Chhota Bheem and the Curse of Damyaan', 'Veer', 'Damini', 'Khichdi 2', 'The Huntress', 'Rang', 'Jungle Ki Hasina', 'Sandwich', 'Khud-Daar', 'Sunday', 'F.A.L.T.U', 'The Y', 'Swayambhu', 'Aunty No. 1', 'Shabd', 'Do Raaste', 'Mela', 'Lingaa', 'Yeh Vaada Raha', 'Firaaq', 'Ek Rishtaa: The Bond of Love', '15 Park Avenue', 'Balika Badhu', 'Angoor', 'Baap Beti', 'Gardish', 'Kill Dil', 'Aashiqui', 'Tridev', 'Junko', 'Baazi', 'Ankur Arora Murder Case', 'Benaam', 'Parichay', 'Kartoos', 'Imtihaan', 'Chintu Ka Birthday', 'Amavas', 'Bhindi Baazaar', 'Ankur', 'Karz', 'Mr. Natwarlal', 'Rangeela Raja', 'Teri Meherbaniyan', 'Hum Se Badkar Kaun', 'Eeb Allay Ooo!', 'Haseena Maan Jaayegi', '404: Error Not Found', 'DJ Tillu', 'Genius', 'Suraj Pe Mangal Bhari', 'Adi Shankaracharya', 'The Final Exit', 'Dec-24', 'Dev Bhoomi', 'Bull', 'Satellite Shankar', 'Baton Baton Mein', 'Soorya', 'Kidnap', 'Talaash: The Hunt Begins...', 'Chittagong', 'Batti Gul Meter Chalu', 'Genie', 'Boss', 'Power', 'Tsunami', 'Viruddh... Family Comes First', 'Tango Charlie', 'Bank Chor', 'Nautanki Saala!', 'Luv Shuv Tey Chicken Khurana', 'Koshish', 'Sakthi', 'Jajantaram Mamantaram', 'Inkaar', 'Zamaana Deewana', 'American Desi', 'Jai Mummy Di', 'Rosie: The Saffron Chapter', 'Stree 2', 'Sooryavansham', 'One Day: Justice Delivered', 'Na Tum Jaano Na Hum', 'Mohalla Assi', 'X: Past Is Present', 'Despatch', 'Kuselan', 'Lagaam', 'Tere Mere Sapne', 'Parineeta', 'The Immortal Ashwatthama', 'Jai Ho', 'Tanu Weds Manu Returns', 'Tanu Weds Manu', 'Karma Strikes', 'Kshatriya', 'Dayavan', 'Tamso', 'Haqeeqat', 'Hum Kisise Kum Naheen', 'Apne 2', 'Nehlle Pe Dehlla', 'Yeshwant', 'The Hidden Strike', 'Woh Ladki Hai Kahaan', 'Amar Prem', 'Thadaiyara Thaakka', 'Return of Hanuman', 'Rang Rasiya', 'Malamaal Weekly', 'Ticket ek Sangharsh', 'Angithee 2', 'Jaane Do', 'Irumbu Thirai', 'Haunted - 3D', 'Thoda Pyaar Thoda Magic', 'Shakthi: The Power', 'Chhoti Si Baat', 'Finding Fanny', 'Parampara', 'Teri Meri Kahaani', 'Bhoothnath Returns', 'Arjun Patiala', 'Udd Jaa Nanhe Dil', 'Balakot: the true story', 'Roop Ki Rani Choron Ka Raja', 'Teesri Manzil', 'Satyakam', 'Agni Pankh', 'Rajma Chawal', 'Bhai', 'Guddu', 'Himmatwala', 'Big Brother', 'Amrapali', 'Hukumat', 'Chhoti Chhoti Baatein', 'Minus 31: The Nagpur Files', 'No Entry', 'Jism', 'Billoo Baadshah', 'Auzaar', 'Nenu Local', 'Amar Akbar Anthony', 'Hum Kaun Hai?', 'ANOLB', 'Biwi Ho To Aisi', 'Tere Bin Laden: Dead or Alive', 'Sampoorna Ramayana', 'Deewana Mastana', 'Shadyantra', 'Roti', 'Yaadon Ki Baaraat', 'Eiga Doraemon: Nobita no getsumen tansaki', 'Dhh', 'Kaala Sona', 'Dhaai Akshar Prem Ke', 'Sandai Kozhi', 'Maama Mascheendra', '99 Songs', 'A Sublime Love Story: Barsaat', '72 Hours: Martyr Who Never Died', 'Diya Aur Toofan', 'Silsila Sidnaaz Ka', 'Sheela Meri Jaan', 'Issaq', '8 x 10 Tasveer', 'Andhera', 'Style', 'Jawani Ki Kahani', 'Monster', 'The Warrior', 'Naqaab', 'Sarkar 3', 'Mere Yaar Ki Shaadi Hai', 'Pyaar Hai Toh Hai', 'Nawabzaade', 'Lipstick Under My Burkha', 'Ghanchakkar', 'Vaada', 'Khiladi 1080', 'Meri Jung', 'Love', 'Family: Ties of Blood', 'London Dreams', 'C U at 9', 'Balwaan', 'Aashiqui 3', 'Veergati', 'Perversion', 'Eklavya', 'Kunwara Baap', 'Junglee Tarzan', 'Naram Garam', 'High Jack', 'Baaghi: A Rebel for Love', 'Tevar', 'Tuesdays and Fridays', 'Maa Tujhhe Salaam', 'Bombairiya', 'Chitrakut', 'Ajanabee', 'Page 3', 'Geraftaar', 'Masti', 'Love Per Square Foot', 'Aankhen', 'Daud: Fun on the Run', 'The Ladykiller', 'Bypass Road', 'Durgamati: The Myth', 'Abhimaan', 'Penthouse', 'Dus', 'Thokar', 'Tum Bin...: Love Will Find a Way', 'Gandhi Godse Ek Yudh', 'Shivaay', 'Ajooba', 'Naajayaz', 'Oru Kaidhiyin Diary', 'Junglemahal: The Awakening', 'Apno Se Bewafai', 'Desh Premee', 'Gang', 'Tapa Tap', 'Chalti Ka Naam Gaadi', 'Tezz', 'Pyasa Darinda', 'Budhia Singh: Born to Run', 'Kaash', 'I - Proud to Be an Indian', 'Criminal', 'Force', 'Judaai', 'Tom Dick and Harry Returns', 'Padikkathavan', 'Souten', 'Caravan', 'Ek Ajnabee', 'Apurva', 'Poorna', 'Am I Next', 'Bhuddah Hoga Tera Baap', 'Red Swastik', 'Firangi', 'The Deceivers', 'Kaashi in Search of Ganga', 'Risk', 'Bees Saal Baad', 'Raat', 'R... Rajkumar', 'Sulaikha Manzil', 'Angoor', 'Sherni', '1920 London', 'Himmatwala', 'Chori Chori Chupke Chupke', 'International Khiladi', 'Play Girls', '100%', 'Sehar', 'Bade Achhe Lagte Hai', 'Kala Bazar', 'Touch Chesi Chudu', 'Aap Ki Kasam', 'Bewakoofiyaan', 'Khamoshi', 'Sanam Bewafa', 'Rocket Gang', 'Andaman', 'Samadhi', 'Kareeb', \"Kuldip Patwal: I Didn't Do It!\", 'Dil Ne Jise Apna Kaha', 'Pokhar Ke Dunu Paar', 'Wonder Women', 'Gallit Gondhal, Dillit Mujra', 'Gol Maal', 'Kabhie Kabhie', 'Mystery of the Tattoo', 'Dhoomam', 'Karma', 'Satyam Shivam Sundaram: Love Sublime', 'Chandni', 'Colour Photo', 'Bhouri', 'Yamla Pagla Deewana Phir Se...', 'Katti Batti', 'Chidiakhana', 'Hari Singh Nalwa - Champion of the Khalsa Ji', 'I See You', 'Mirch Masala', 'Khilona', 'Gharwali Baharwali', 'Saat Uchakkey', 'Anamika', 'Weapon', 'Collar Bomb', 'Haqeeqat', 'Rajnigandha', 'Party', 'Ek Ladka Ek Ladki', 'Parzania', 'Vodka Diaries', 'Phool Khile Hain Gulshan Gulshan', 'Meri Biwi Ka Jawab Nahin', 'Undertrial', 'Agni Sakshi', 'Suryaa: An Awakening', '...Aur Pyaar Ho Gaya', 'Fever', 'Rakhta Charitra', 'Raag Desh', 'Pudhiya Geethai', 'Akaash Vani', 'Kundan', 'Apradhi', 'House Arrest', 'Garm Hava', 'Saat Hindustani', 'ABCD (Any Body Can Dance)', 'Nil Battey Sannata', 'Badmaash Babes', '376 D', 'Shola Aur Shabnam', 'Naina', 'Noorie', 'Satya 2', 'Marigold', 'Teraa Surroor', 'Be Happy', 'Valley of Flowers', 'Zameen', 'Odd Couple', 'Ayee Milan Ki Raat', 'Fakira', 'SOS: Secrets of Sex', 'Leera the Soulmate', 'Red Rose', 'Ghar Ho To Aisa', 'Khooni Mahal', \"Crook: It's Good to Be Bad\", 'Pareshan', 'Apaharan', 'InCar', 'Bhangra Paa Le', 'Krishna', 'Mumbai Express', 'Shalimar', 'Aadhi Bhagavan', 'Kya Yehi Pyaar Hai', 'Friendship', 'Dunno Y Na Jaane Kyun...', 'Teen Devian', 'Noblemen', 'Angaar', '3G: A Killer Connection', 'Jurm', 'Milenge Milenge', 'Sri', 'English Babu Desi Mem', 'Kahani Rubberband Ki', 'Doosara Aadmi', 'Mithya', 'Wajood', 'Arzoo', 'Aamdani Atthanni Kharcha Rupaiya', 'Ghar Parivaar', 'Dev', 'Khamosh', 'Corporate', 'Avtaar', \"Juliet's X-Tape\", 'Munna', 'Loev', 'Dushman Duniya Ka', 'Girlfriend', 'Humse Na Jeeta Koi', 'Sapoot', 'Aashik Aawara', 'Andaz', 'Masterji', 'Mr. X', 'Shaan', 'Biwi No. 1', 'Angry Young Men', 'Love Nation', 'Get Educated: Paathshaala', 'Doodh Ka Karz', 'Shortcut Romeo', 'Bhaiaji Superhit', 'Himmat', 'Siddharth', 'C Kkompany', 'Aan: Men at Work', 'Time Out', 'Monalisa', 'Phool Aur Angaar', 'Jai Gangaajal', 'Yudh', 'Knock Out', 'London Paris New York', 'Vampires of Vijay Nagar', 'Khudgarz', 'Bol Radha Bol', 'Junglee', 'Thangalaan', 'Irudhi Suttru', 'World Famous Lover', 'Chupke Chupke', 'Jahaan Chaar Yaar', 'Dil Dosti Etc', 'Krazzy 4', 'Anupama', 'Chacha Bhatija', 'Ittefaq', 'Patthar Ke Phool', 'The Death Sentence: Mrityu Dand', 'The Fighter Suman', 'Shor', 'Batwara', 'Bullett Raja', 'Unfreedom', 'Aaja Nachle', 'Albert Pinto Ko Gussa Kyon Ata Hai', 'Angaaray', 'Jeene Nahi Doonga', 'Woh 3 Din', 'Testing Movie1', 'Mujhse Fraaandship Karoge', 'Quotation Gang', 'Mere Apne', 'Teri Khata', 'Fight Club: Members Only', 'Hum To Mohabbat Karega', 'Sanaa', 'Karam', 'Majboor', 'Chalte Chalte', 'Pran Jaaye Par Shaan Na Jaaye', 'Lootere', 'Chand Sa Roshan Chehra', 'Bobby', 'Dhruva', 'Regina', 'Bhopal: A Prayer for Rain', 'Saindhav', 'Christopher', 'Pyaar Impossible!', 'Insaf Ka Tarazu', 'Sanjog', 'Kyun! Ho Gaya Na...', 'Netaji Subhas Chandra Bose: The Forgotten Hero', 'Khatta Meetha', 'Sector Balakot', 'Nibunan', 'Anari', 'MCA Middle Class Abbayi', 'Music Teacher', 'Taxi No. 9 2 11: Nau Do Gyarah', 'Shatranj Ke Khilari', 'Main Khiladi Tu Anari', 'Sangam', 'Satte Pe Satta', 'D Company', 'The Test', 'Red: The Dark Side', 'Fool N Final', 'Home Delivery: Aapko... Ghar Tak', 'MAX', 'Vaah! Life Ho Toh Aisi!', 'Khandaani Shafakhana', 'Hostel', 'Lucknow Central', 'Tere Naal Love Ho Gaya', 'M.... Matric Pass', 'Sanam Teri Kasam', 'Children of War', 'Anjaana', 'Mirzya', 'Boyfriend.com', 'Mera Saaya', 'Mere Dad Ki Maruti', 'Shubh Nikah', 'School Romance: Pure Love Web Series', 'Andolan', 'Gumnaami', 'Dobaara', 'Main, Meri Patni... Aur Woh!', 'Guddi', 'Shagird', 'Ishaqzaade', 'Do Anjaane', 'Chalta Purza', 'Safar', 'Badhaai Ho Badhaai', 'Tera Intezaar', 'Sehra', 'Welcome to Sajjanpur', 'Ram-Avtar', 'Mosagallu', 'Sardar Ka Grandson', 'Always Kabhi Kabhi', 'Xcuse Me', 'Chuhiya', 'Dillagi', 'Love Love Love', 'Raaz 3: The Third Dimension', 'Ragini MMS', 'Lakeer Ka Fakeer', 'Yeh Dillagi', 'Suspect', 'Parwana', '#Mute', 'Gulaab Gang', 'Yaraana', 'MSG: The Messenger of God', 'Kaantha', 'Maa', 'Tadapti Jawani', 'Bewafai', 'God Tussi Great Ho', 'Chameli', 'Paar', 'Chori Chori', 'Super', 'Tamanna', 'Haunted Evil Dead', 'Lal Baadshah', 'Teesri Aankh', 'Phir Milenge', 'Karm', 'Millitary Raaj', 'Jaan Tere Naam', 'Madam Chief Minister', 'Sabse Bada Khiladi', 'Chaalbaaz in London', 'Pyaar Diwana Hota Hai', 'Bulandi', 'Bhakta Kannappa', 'Gaddaar', 'Maa Beta', 'Parvarish', 'Barkhaa', 'Bheja Fry', 'Saheb Biwi Aur Gangster', 'Dil Maange More!!!', 'Khullam Khulla Pyaar Karen', 'Pareeksha', 'Gambler', 'Humjoli', 'Wrong Way', 'Zabardast', 'Salaakhen', 'Shlok - The Desi Sherlock', 'Ravan Raaj: A True Story', 'Anmol', 'Hebbuli', 'Dadagiri', 'Tute Khwab', 'Tony', 'Rosh', 'P Se Pyaar F Se Faraar', 'The Royal Bengal Tiger', 'Brahmachari', 'Ekk Deewana Tha', 'Missing', 'Thugs', 'Middle Class Love', 'Mutamestri', 'Akayla', 'Oonche Log', 'Shikari: The Hunter', 'RK/RKAY', 'Go Goa Gone 2', 'Double Dhamaal', 'Ek Chalis Ki Last Local', 'Golmaal 5', 'Jannat 2', 'Zeher', 'Gangaajal', 'Junglee', 'Untitled Ranveer Singh & Shankar Film', 'Hum Paanch', 'Bandini', 'Plan', 'Shudra the Rising', 'Ilaaka', 'Kamaal Dhamaal Malamaal', 'We R Friends', 'Geet Gaata Chal', 'Luv Ka the End', 'Thanedaar', 'Miss Mary', 'Bombai Ka Babu', 'Souten: The Other Woman', 'Humko Tumse Pyaar Hai', 'Faraar', 'Taxi Driver', 'Kalicharan', 'Heeriye', 'Sur: The Melody of Life', 'Time to Dance', 'Nigahen: Nagina Part II', 'Kyo Kii... Main Jhuth Nahin Bolta']\n"
          ]
        }
      ]
    },
    {
      "cell_type": "code",
      "source": [
        "# finding the close match for the movie name given by the user\n",
        "# Nice function from difflib library\n",
        "\n",
        "find_close_match = difflib.get_close_matches(movie_name, list_of_all_titles)\n",
        "print(find_close_match)"
      ],
      "metadata": {
        "colab": {
          "base_uri": "https://localhost:8080/"
        },
        "id": "AhlbG1W-25i3",
        "outputId": "267d3c35-c8ac-4561-f283-d46317d5c525"
      },
      "execution_count": null,
      "outputs": [
        {
          "output_type": "stream",
          "name": "stdout",
          "text": [
            "['Jawan', 'Japan', 'Parwana']\n"
          ]
        }
      ]
    },
    {
      "cell_type": "code",
      "source": [
        "# finding the index of the movie with title\n",
        "close_match = find_close_match[0] # Assign the first element of find_close_match to close_match\n",
        "index_of_the_movie = movies_data[movies_data.movie_name == close_match]['index'].values[0]\n",
        "print(index_of_the_movie)"
      ],
      "metadata": {
        "colab": {
          "base_uri": "https://localhost:8080/"
        },
        "id": "cDpq3-4x3p5-",
        "outputId": "6dfa583b-57f6-4aca-fa04-8d6e7c44062d"
      },
      "execution_count": null,
      "outputs": [
        {
          "output_type": "stream",
          "name": "stdout",
          "text": [
            "0\n"
          ]
        }
      ]
    },
    {
      "cell_type": "code",
      "source": [
        "# getting a list of similar movies\n",
        "\n",
        "similarity_score = list(enumerate(similarity[index_of_the_movie]))\n",
        "for i in similarity_score:\n",
        "  if(i[1]>0.15):\n",
        "    print(similarity_score.index(i))"
      ],
      "metadata": {
        "colab": {
          "base_uri": "https://localhost:8080/"
        },
        "id": "3QW5c7GD3tKY",
        "outputId": "26bf6f56-dd6b-4014-88f3-9d0b127ca361"
      },
      "execution_count": null,
      "outputs": [
        {
          "output_type": "stream",
          "name": "stdout",
          "text": [
            "0\n",
            "8\n",
            "253\n",
            "2133\n"
          ]
        }
      ]
    },
    {
      "cell_type": "code",
      "source": [
        "# sorting the movies based on their similarity score\n",
        "sorted_similar_movies = sorted(similarity_score, key = lambda x:x[1], reverse = True)\n",
        "print(sorted_similar_movies)"
      ],
      "metadata": {
        "colab": {
          "base_uri": "https://localhost:8080/"
        },
        "id": "cM_fkCOv33cn",
        "outputId": "862acaae-80af-499a-c7aa-18053c81a86a"
      },
      "execution_count": null,
      "outputs": [
        {
          "output_type": "stream",
          "name": "stdout",
          "text": [
            "[(0, 1.0000000000000002), (8, 0.1624337091408211), (2133, 0.1562938707264879), (253, 0.15180896730475113), (191, 0.14710527256150907), (2059, 0.14684927762910158), (352, 0.14630526132665872), (1362, 0.1387797105953172), (73, 0.13212129096276157), (882, 0.13031701270848647), (53, 0.12529914923210722), (651, 0.12408408383318814), (1770, 0.12308091596014771), (530, 0.12033198603122876), (264, 0.11799512651432974), (1449, 0.11613910307311548), (246, 0.11331342384777464), (20, 0.113202200339441), (721, 0.11208674404012176), (98, 0.11141352886401774), (1788, 0.11139279361364221), (68, 0.10785743879694543), (589, 0.10771438016637748), (85, 0.10623056617379864), (151, 0.10580085626887403), (1285, 0.10438207965501244), (483, 0.10402148462742694), (208, 0.1037566808889485), (895, 0.10318584064232375), (1166, 0.10215615521633382), (147, 0.10211363535772179), (484, 0.10119686112475565), (565, 0.10087693779224517), (285, 0.10025977814490508), (748, 0.0999767553685559), (1711, 0.09636205188376132), (201, 0.09628848887780471), (64, 0.09603111025316617), (1424, 0.09589760936022451), (574, 0.09528795897268356), (501, 0.09517090458491076), (154, 0.0949635906622884), (1943, 0.09384468909774514), (76, 0.09342400902122733), (1408, 0.09065231519457528), (980, 0.08979617812913608), (51, 0.08964634345479414), (968, 0.08922527041309467), (186, 0.08820546122698461), (668, 0.08784726309315802), (120, 0.0878120379427131), (1115, 0.08772704689473577), (457, 0.08646426410073227), (1097, 0.08505729600340384), (185, 0.08505619651191113), (1297, 0.08469537483703263), (304, 0.08462093577083685), (77, 0.08386396630715742), (937, 0.08367684722416457), (845, 0.08339948734513396), (401, 0.08258513417573786), (33, 0.08251838275281198), (267, 0.08197398524748818), (848, 0.08193751432491969), (1916, 0.08193665956498139), (2011, 0.0815895542204917), (109, 0.08157742008727498), (661, 0.08080334229061562), (1674, 0.08079471127885707), (1622, 0.08074352837030006), (1569, 0.07979245121170862), (57, 0.07862214369251788), (198, 0.07623232998268625), (123, 0.07606276858980106), (619, 0.07598611805937162), (1946, 0.0759531518591216), (336, 0.0757823990439217), (588, 0.0756226582588186), (294, 0.07445293753405438), (166, 0.07440231992963182), (111, 0.07426072858625489), (171, 0.07371639699963527), (1325, 0.07357461730510058), (225, 0.07349208612023392), (1412, 0.07300530007280832), (89, 0.0729896661192951), (854, 0.07279733271084848), (24, 0.07263825536351591), (824, 0.0722606725066483), (503, 0.07209877936061594), (686, 0.07195669623443171), (136, 0.07179388991575232), (1228, 0.0717933642742639), (256, 0.07119891164461199), (2191, 0.07102804219446679), (770, 0.07083121646046481), (495, 0.07077555413967462), (419, 0.07075999442077602), (229, 0.07052620941562178), (1938, 0.07047098924380707), (944, 0.07025446880797452), (575, 0.07008241289499298), (375, 0.0695852832621512), (379, 0.06913963040449923), (1757, 0.0691128045890953), (1629, 0.06877141086374161), (642, 0.06844010743925844), (349, 0.06810007449510133), (193, 0.0680442943910776), (91, 0.06781187175316694), (71, 0.0674353170452434), (1755, 0.06717728802725806), (38, 0.06708790071253837), (1155, 0.06704169999496058), (1291, 0.06676656234873807), (466, 0.06661647355236332), (1242, 0.06657176088546538), (1109, 0.0664398343008477), (220, 0.06637908443610159), (1427, 0.06628671064989301), (1200, 0.06614219649344368), (1514, 0.06603019591472306), (1929, 0.06602093611274452), (723, 0.06575860292447891), (2160, 0.0653707497577488), (765, 0.06531192311962078), (2128, 0.06519281711093472), (84, 0.06518008657386516), (843, 0.06505790130278818), (1873, 0.06464373723195586), (509, 0.06463405897533785), (371, 0.06461332376088243), (1319, 0.06429313507544555), (2061, 0.0642829449996115), (100, 0.06419201128804368), (255, 0.06394609539538766), (1071, 0.06369502709613782), (206, 0.06275973904353402), (1157, 0.06272627616070738), (1163, 0.06252194960674602), (209, 0.062125635300498395), (1198, 0.06205768746406038), (594, 0.06201951342299144), (898, 0.0618179991364445), (74, 0.06169545917205993), (1459, 0.06161343816815401), (1897, 0.06134927702420086), (1528, 0.060969243636907415), (196, 0.060956093911763536), (467, 0.06094475798911764), (635, 0.06090050435995068), (2156, 0.06070755269678161), (738, 0.06050810283642059), (168, 0.06050505654044114), (2004, 0.06044752496686884), (648, 0.060369364834940396), (1195, 0.0603245752811752), (1945, 0.06023689910272515), (231, 0.06003754269196006), (1272, 0.06002008100068765), (1668, 0.05986227269177193), (1420, 0.05983398216315208), (385, 0.05974451101517801), (351, 0.059223190151740816), (2164, 0.05908151925057453), (2149, 0.05893393999926025), (698, 0.05879690343131635), (289, 0.05873670150796118), (2194, 0.05870721697889206), (1416, 0.05853598297477997), (1683, 0.05816080743375864), (1350, 0.058052074942469126), (626, 0.0579628430245268), (1344, 0.057946755093206424), (1005, 0.057829425197803846), (1824, 0.05771467199641707), (1885, 0.057644371639504886), (1275, 0.05717502832810985), (846, 0.05689676829279351), (232, 0.05680122324442899), (460, 0.05677984833759381), (1298, 0.05670371570229378), (1493, 0.056693668777821116), (1158, 0.05654180609875467), (1785, 0.056436744618465526), (1441, 0.05641896375184564), (181, 0.056349874606758964), (1274, 0.0560076606389828), (164, 0.05594708532045905), (1934, 0.05575744137887321), (1326, 0.055559652873991935), (323, 0.05544722418728945), (1699, 0.05538949859591797), (471, 0.055279348767430916), (1664, 0.05500053990766637), (1112, 0.054966867095144104), (804, 0.05495782069506774), (946, 0.05481910951670596), (72, 0.05417035095525616), (1304, 0.054102670932446376), (347, 0.05375908275681206), (622, 0.05366449837686512), (1671, 0.05362487969386493), (1566, 0.053325149861384126), (1500, 0.05316998362464409), (488, 0.052844140720084684), (1442, 0.05258885616488253), (1036, 0.052520239087950144), (763, 0.05245958427795075), (1014, 0.052414298072084003), (1624, 0.05234724201336539), (2161, 0.052267073491588587), (1089, 0.052250821009365685), (248, 0.05188410369330526), (1623, 0.051764265401986635), (706, 0.05172213343040304), (1220, 0.05148050678020137), (1766, 0.051445554208912454), (2034, 0.05135637894719253), (238, 0.05120551118193188), (2087, 0.05115772893722622), (1852, 0.05108257071594997), (2137, 0.05106791935757654), (715, 0.05102208679225064), (1556, 0.05100924424117803), (39, 0.050977070996783704), (749, 0.05097646490711456), (2090, 0.05089391821451538), (858, 0.0507602732673472), (1464, 0.05075577438120406), (1484, 0.05072124102272854), (598, 0.050645710974162934), (273, 0.05040620744397138), (602, 0.0503884162484011), (1385, 0.05035102562030988), (2123, 0.05032332748200755), (888, 0.05030294470967445), (390, 0.05013179823644219), (521, 0.04994472483341597), (1147, 0.04993551113529851), (1698, 0.04988923918392207), (1444, 0.04988367158512048), (1380, 0.049876178443124225), (437, 0.04983084931917246), (65, 0.0497046306007993), (722, 0.04965927173648962), (395, 0.04963803195042762), (440, 0.049553425166788026), (1926, 0.04927417605955234), (298, 0.04914356219015134), (433, 0.04896336207261196), (308, 0.04893168694314297), (402, 0.04883668416738851), (2046, 0.04879891001658568), (1921, 0.04865380847532685), (1603, 0.04861562786612318), (1508, 0.048579680156043595), (338, 0.04855382484347298), (716, 0.04845928072889505), (853, 0.04843295504848337), (641, 0.04843282239492405), (983, 0.048397021047316954), (207, 0.04831397644923089), (1679, 0.04822959444686588), (1734, 0.04819803538440133), (555, 0.0481546691952193), (1825, 0.048150675866297815), (655, 0.04795614504782427), (658, 0.04795315928390248), (1635, 0.04793971785712689), (1365, 0.047909798484270946), (762, 0.047866598238359134), (1812, 0.04786457286718218), (1346, 0.04771664167236386), (436, 0.047625847789829825), (1231, 0.04755826990842074), (1996, 0.04734502582477913), (868, 0.047241880375370186), (178, 0.047210205192791004), (659, 0.047105353519084174), (1175, 0.04689619754885534), (1909, 0.046801732825650574), (1328, 0.04657587705595734), (1890, 0.04654619900925379), (1070, 0.04652861861075997), (623, 0.046511195121173014), (1523, 0.04650462117633545), (1502, 0.04649756439638067), (1280, 0.04645328000175932), (1626, 0.04627270337058286), (129, 0.046034624081543164), (578, 0.04595532432234884), (444, 0.0457220453106132), (169, 0.045681248211664915), (1963, 0.04562953219403006), (617, 0.045608239923390415), (767, 0.04560362558626521), (568, 0.0455685002987594), (860, 0.04555716986301441), (1028, 0.045505466712901475), (54, 0.045381988360489504), (1716, 0.04536365734823683), (2129, 0.045001494132043365), (2037, 0.04495409419633079), (1376, 0.04494407740993741), (592, 0.04493000515639265), (1957, 0.044843060759488865), (2167, 0.04475289555881741), (665, 0.04471747141683079), (1225, 0.04460227036378675), (779, 0.04459061593764465), (1099, 0.04430724979420423), (227, 0.044283499395443696), (106, 0.04413806451731026), (1021, 0.04413685246276057), (601, 0.04412964504024716), (1230, 0.04409627270479724), (1548, 0.04403634397403452), (945, 0.044010761053247104), (1606, 0.0439628063354908), (553, 0.04385720386527344), (2189, 0.04383078182960884), (929, 0.04382778082497985), (332, 0.043795031640502094), (1659, 0.04369358362630631), (1327, 0.04360856571952143), (1387, 0.04357452535456006), (241, 0.04346547521348245), (1966, 0.0434460809084614), (18, 0.04342692431030131), (1732, 0.0434130094600902), (2100, 0.04337035894926306), (923, 0.04332371095610357), (733, 0.04330969507989048), (1133, 0.0433052050477537), (1840, 0.04316309691631325), (429, 0.043127570032998885), (1406, 0.04304628517722948), (532, 0.04303267747178725), (1684, 0.04302656639495203), (1801, 0.04301107537010243), (541, 0.04298065950725321), (420, 0.04292491951032081), (1781, 0.04286656916094135), (1144, 0.04286061172069047), (1402, 0.04283264680730182), (2031, 0.04282154957117313), (427, 0.04281938602338426), (1891, 0.04273014977135706), (900, 0.04270289951118529), (1055, 0.04244060701546799), (1340, 0.04238504802683897), (1709, 0.04219744629887991), (643, 0.04219686284112507), (1023, 0.04213363671485324), (131, 0.0419947483958775), (473, 0.04186567900418193), (744, 0.041817417285677054), (1104, 0.041644541761797035), (1154, 0.04157504679866661), (932, 0.04156152865428857), (1372, 0.04151467070522155), (974, 0.0414773680307567), (540, 0.041470211982418494), (108, 0.04139292259874509), (1146, 0.041368447830878216), (2080, 0.041299486497312674), (927, 0.04124219890109266), (155, 0.041223113545383765), (320, 0.04119032884239416), (213, 0.04112282911090965), (519, 0.04082523269645211), (1187, 0.040779586227496466), (526, 0.04073698657095756), (448, 0.04069070159662121), (699, 0.04067596963542565), (1011, 0.04066407022379656), (572, 0.04065474972863279), (1639, 0.04054912291136324), (1995, 0.040514302671771134), (2094, 0.04046970275660185), (167, 0.04035958767695822), (841, 0.04023148935722625), (516, 0.040230875732179254), (1185, 0.04021163001060966), (976, 0.04018904438416731), (955, 0.04017364766488209), (1519, 0.04016536928407148), (335, 0.04016140985921547), (975, 0.040155745074636665), (1096, 0.040138213005625575), (368, 0.04013436771333852), (1682, 0.0401119011185845), (1839, 0.04008704073580285), (341, 0.040073276957487115), (1507, 0.040038265629733574), (1048, 0.03995868721060714), (1107, 0.0399549410376889), (497, 0.0399370997744204), (1342, 0.03983929835999551), (1954, 0.03982128008461301), (709, 0.03981666556614871), (2190, 0.03976570102613976), (62, 0.03970034473414466), (299, 0.03963150590929254), (1009, 0.03958287674849449), (1608, 0.039562111634606247), (192, 0.03955520920858683), (1382, 0.039554910312277106), (314, 0.03950278255836076), (360, 0.039444836126516676), (462, 0.039303361754234344), (115, 0.039226906620389405), (195, 0.03920739851675696), (1896, 0.03917307579759758), (2170, 0.03916102392602672), (1394, 0.039150259564828635), (1542, 0.039102419217806425), (586, 0.039096388462067325), (1764, 0.039095180107093876), (855, 0.03908896197762761), (455, 0.039042167928015584), (979, 0.03901635918354503), (1689, 0.03897105356420586), (620, 0.03896732829332395), (966, 0.038955889062168875), (426, 0.03891514750285715), (2050, 0.03878565332801059), (1856, 0.038737726261797764), (852, 0.03872556909346671), (1912, 0.038674595727529605), (35, 0.03862198483008404), (1193, 0.03861757828508724), (254, 0.03857996501929713), (911, 0.03857867082876518), (50, 0.03855835639077056), (1121, 0.0384980020568825), (1347, 0.03849421232158713), (1560, 0.03845832891414991), (1425, 0.038284163501206496), (1596, 0.038252582760081394), (282, 0.03815810261955302), (986, 0.03812051311587645), (313, 0.0380573859681709), (1186, 0.038050663508289465), (1188, 0.03801187248502668), (107, 0.037877817903831275), (19, 0.03771059064083688), (245, 0.03767786437451609), (443, 0.037652564872286166), (75, 0.03753366134591126), (1052, 0.03743945222707276), (465, 0.03742397360726239), (2172, 0.03734403776714628), (675, 0.03734115012603039), (1066, 0.03732472962916772), (1214, 0.03731305166645775), (1283, 0.037304595637974565), (1558, 0.03716327540744933), (1075, 0.037139715393545755), (1690, 0.03707935631092334), (309, 0.0370621768308016), (1468, 0.03696957533954641), (494, 0.03694944363886961), (393, 0.036833617894444726), (456, 0.036790699755458636), (392, 0.03678661480342609), (122, 0.03675428870773683), (413, 0.03673547270589301), (1039, 0.03665880088884157), (2018, 0.036565677103168576), (1474, 0.03647064036126208), (652, 0.036379133494314736), (331, 0.03636285904309507), (785, 0.03630463524471904), (1063, 0.0362576435606215), (1763, 0.03620778559548179), (353, 0.036198044194093615), (1310, 0.03616328626811471), (1879, 0.03614255578359351), (2027, 0.03607737938847825), (327, 0.03603911730924564), (66, 0.03598943109639201), (1295, 0.03594400575179564), (1227, 0.03581136930186812), (883, 0.03576583030133276), (149, 0.035715773846494554), (1355, 0.035707662273299384), (678, 0.03550726346464206), (2101, 0.03547400534212474), (807, 0.03537590478352898), (919, 0.035342454387952194), (1956, 0.03531220228512575), (1470, 0.03529601077075325), (2058, 0.035288332894369195), (999, 0.03526666924419425), (1129, 0.03526609676391716), (2166, 0.03525631321390181), (664, 0.035253059144126554), (1777, 0.03508869741503609), (25, 0.03506659631863064), (2015, 0.03505187828866982), (1799, 0.03502815859325665), (487, 0.03501930754229703), (1575, 0.03501161987337982), (1103, 0.035006497641338646), (431, 0.03498424668685198), (747, 0.034951107176935906), (165, 0.03493822876040181), (1095, 0.0349235928915618), (130, 0.034909137106256594), (1611, 0.03488777880577134), (489, 0.034620673973061164), (2151, 0.034592892012130845), (296, 0.034536813492917436), (1002, 0.03453077914272214), (1100, 0.034512317372280256), (2009, 0.03447396299450847), (412, 0.03436202865068309), (2107, 0.03431790419892659), (1546, 0.03431286554104053), (1633, 0.03426549858580875), (691, 0.03417461354097008), (1130, 0.034163697348457894), (625, 0.03411284940326414), (1512, 0.03411024532262648), (1240, 0.03397884683357324), (2032, 0.033974293881295844), (1985, 0.03385139989046795), (133, 0.03382555269780713), (1987, 0.033712487964961256), (559, 0.03364997382219121), (423, 0.03363038487921629), (1658, 0.03360374227399863), (1246, 0.03352642147938377), (936, 0.033510181221915084), (5, 0.033501182346424394), (1771, 0.03344562700540567), (1251, 0.03343306409504431), (1667, 0.033385321253783934), (685, 0.03334250665876286), (1207, 0.0333336677827855), (1568, 0.03332374958548038), (1875, 0.03330203567237924), (1752, 0.03322784943201238), (1588, 0.033163388086273546), (1907, 0.03306429994447496), (310, 0.0330529914517055), (531, 0.03298171556484797), (272, 0.03293157191498578), (212, 0.03292534903324646), (1516, 0.032923117732663924), (1118, 0.032881705279301496), (189, 0.0327821835908873), (1535, 0.03277496550125421), (1374, 0.03276712197726729), (877, 0.03275110111625413), (1219, 0.03272309292644737), (1724, 0.03263301374757958), (2053, 0.03257453472371203), (1937, 0.03251948381517925), (1712, 0.03243943163049175), (1429, 0.0324304816289231), (2113, 0.03232045196253481), (1356, 0.03232031330994295), (1729, 0.03225302123899941), (2106, 0.032208107521248704), (1061, 0.03219711045442524), (1162, 0.03217516396380872), (1520, 0.03207232886186377), (754, 0.03207133067768429), (389, 0.03202217958623778), (160, 0.03201505511507767), (1417, 0.031947329074031), (2136, 0.03188843353822544), (475, 0.03188150937177211), (1627, 0.03183766554313379), (1803, 0.031734213721598306), (1760, 0.03169345355375977), (533, 0.031606367496932984), (835, 0.03158883982937491), (1229, 0.03151063625571221), (679, 0.031458786830827326), (2168, 0.03134947970874537), (662, 0.03125983939708921), (388, 0.031220273625824958), (1042, 0.031206804453124074), (550, 0.031132852232729415), (1743, 0.031126379941374877), (1421, 0.03111281474227387), (667, 0.030944612156282903), (1102, 0.030914021478601873), (1554, 0.030821184281358445), (670, 0.030761147716596292), (636, 0.03070574012826574), (1593, 0.030667662842273614), (1694, 0.03065929927362235), (1379, 0.03064004302141274), (1224, 0.030635780113032182), (724, 0.030524436027047946), (1802, 0.030483035110991357), (2010, 0.030441018413399572), (214, 0.030433636521882104), (573, 0.03042338550170674), (1505, 0.030393173010271512), (22, 0.030382544634721936), (326, 0.03036068957073241), (1222, 0.030348439476264866), (1991, 0.030329512656759493), (1805, 0.03032654495681966), (1370, 0.030307912735423718), (1895, 0.03026754076590732), (758, 0.030265814334939273), (124, 0.03019230065424261), (1339, 0.03018871065520693), (2154, 0.030159530362059966), (266, 0.030147439825788325), (1413, 0.030137643390232245), (1833, 0.030122209469157134), (1899, 0.030050021083766375), (1620, 0.03002552415955618), (1645, 0.02998658777914445), (1586, 0.02995869438361346), (1748, 0.0298998707182961), (1687, 0.029852053377104636), (224, 0.029822671875124933), (1663, 0.029816784614964603), (544, 0.029805536953636275), (2041, 0.029779185668308124), (630, 0.029778804764305864), (1513, 0.029742271228353434), (632, 0.029732349338818465), (549, 0.0296644180203774), (571, 0.0296390371154313), (732, 0.029607453090734124), (1579, 0.029522062082545056), (1191, 0.029429751078865342), (134, 0.029424206753930978), (2157, 0.02940566287805797), (1704, 0.029387480577784977), (505, 0.02937280023397132), (464, 0.029304326125409477), (1334, 0.02926015499728156), (1942, 0.029228760913265588), (556, 0.029225303691346766), (83, 0.029184190093177638), (1706, 0.029155489386680594), (45, 0.029146012197061987), (1332, 0.02908478566756241), (676, 0.028996824370070645), (1119, 0.02889583141882455), (1168, 0.02866928682231149), (1703, 0.02864937137996049), (142, 0.028645938626996804), (1847, 0.02863636119777445), (2070, 0.028619327302861493), (1783, 0.028611588192861616), (2186, 0.02854105327379899), (194, 0.02852058628999634), (358, 0.028490755334065372), (1666, 0.028484837236330607), (424, 0.028406965608598633), (2038, 0.028398709413938034), (79, 0.02839747777091456), (1543, 0.028392677532691847), (1278, 0.028368546237263852), (1060, 0.028360961381879567), (950, 0.02835651809117955), (114, 0.028342205403904547), (756, 0.028334067487874936), (1252, 0.02832723450369072), (1462, 0.028248706761677855), (2193, 0.028236846974072492), (557, 0.028213408490147602), (1867, 0.028207337111889698), (2148, 0.02814296679251177), (416, 0.02813353268001191), (1218, 0.028115939849167867), (1503, 0.02811313151271706), (689, 0.028012589952171006), (1013, 0.02800858124286531), (2126, 0.027986128455288896), (1267, 0.02797691745690006), (692, 0.02792969882053544), (704, 0.027852379128659607), (1477, 0.027831151593327354), (306, 0.027809796458493023), (1831, 0.027788714438526332), (1835, 0.027780580086480745), (1361, 0.027636265074419034), (43, 0.027630482729753797), (799, 0.02759475743082616), (1306, 0.027561974084743084), (1472, 0.027468523914608724), (1232, 0.027468080084711806), (1384, 0.027460365582437807), (407, 0.02744773991368754), (2185, 0.027431393920330477), (325, 0.027404618760361592), (250, 0.027362607220684784), (105, 0.027300876469752003), (1530, 0.027294387463859537), (1630, 0.02728077321779934), (159, 0.027254958767557114), (56, 0.027242823823250134), (2054, 0.027240573713209114), (2163, 0.027187393223573213), (1725, 0.02716247286410096), (1998, 0.027152521915464738), (1259, 0.02713166657878316), (90, 0.02711428436708688), (906, 0.02708230017157142), (479, 0.027059554110962038), (258, 0.02703260316481313), (1050, 0.027005601542384686), (1651, 0.02700292996780229), (339, 0.026996187855348092), (861, 0.02698065054357208), (373, 0.02697102806781677), (1762, 0.026945159782406046), (725, 0.02687491085902176), (1349, 0.02686039064311496), (1318, 0.026857828031437415), (987, 0.026839581484171326), (1612, 0.026720262490961683), (1353, 0.026713365558434943), (2103, 0.026690121062207937), (1226, 0.026658126096963063), (1641, 0.026605690828917346), (774, 0.026570920211119856), (295, 0.026539150193082346), (1719, 0.026531052788935097), (387, 0.026506538777725776), (1281, 0.026458297641392695), (1164, 0.02645128600705202), (1364, 0.02642458600281023), (875, 0.02641550682864781), (782, 0.026394330564456822), (1552, 0.026337818322842314), (58, 0.02629930089780575), (925, 0.026295546206496295), (174, 0.02628841463451443), (17, 0.02622034089043754), (1286, 0.026204995534740438), (1206, 0.026190302260728285), (293, 0.02618722603233504), (2005, 0.026185505350549292), (1453, 0.026168432726105112), (44, 0.026152575605326335), (1648, 0.026143521451877875), (70, 0.026061415622287934), (1791, 0.02601462456752408), (687, 0.025980808471599857), (297, 0.025940819720922565), (795, 0.025940561302909265), (1745, 0.025938682611743615), (957, 0.025892792261134823), (1027, 0.025844315437350437), (9, 0.025841639781826343), (1979, 0.02582960456616956), (897, 0.025756450631260884), (2001, 0.025676484022174276), (985, 0.025644873531175085), (1585, 0.02564340420537081), (809, 0.025598532468187656), (528, 0.025483251219970558), (894, 0.025470087027410326), (570, 0.02546340498151064), (137, 0.02545948427348923), (666, 0.025449506969844334), (1741, 0.02544338631815532), (1047, 0.02541545354641536), (1398, 0.02539231131365223), (1450, 0.02537197972992833), (943, 0.025370389855019916), (1167, 0.02533659798402153), (508, 0.02529915356074988), (1284, 0.025264151083982965), (797, 0.025215721524999526), (548, 0.02518987937871418), (1236, 0.025173382260174144), (1069, 0.02517040597621756), (11, 0.025156726605623812), (1661, 0.02515449875097934), (1842, 0.025135907144893294), (498, 0.025122193972364912), (993, 0.025118361884463467), (624, 0.025118279860013627), (580, 0.025115066208298585), (82, 0.025074848740925894), (969, 0.025063260461679296), (629, 0.02505760616094526), (177, 0.025053000918898727), (2181, 0.025050360426493105), (1838, 0.025039672126792974), (47, 0.025027980072583007), (1977, 0.025023376742963732), (730, 0.024999158980426463), (1971, 0.024986411509059156), (210, 0.024982534008284464), (41, 0.02492556355956828), (997, 0.024919291100679353), (2057, 0.02491484535489052), (1892, 0.024911352925252858), (707, 0.02483874692195836), (682, 0.02471197839971246), (1941, 0.024711635302871446), (1868, 0.024674608178185297), (1213, 0.024656812122659195), (930, 0.024655957873810218), (2109, 0.02463367107312145), (179, 0.024633596116900438), (1811, 0.024605261677038373), (1994, 0.02458976071349241), (657, 0.024573148782363684), (1439, 0.024571830774262483), (1210, 0.024559365025990206), (221, 0.02444115363763216), (80, 0.02436442794377626), (702, 0.02436354112351217), (872, 0.024353238182025345), (627, 0.02434590717871536), (613, 0.024344804563464786), (644, 0.02429430606216868), (1250, 0.02428065011176716), (1834, 0.02428023764483549), (1581, 0.02423394590994877), (374, 0.02421883395243453), (1473, 0.024178614621061786), (1759, 0.02414509012208928), (394, 0.02410813407323384), (1262, 0.024099104070256342), (1692, 0.024004466026026117), (746, 0.0239978692096129), (26, 0.02398604185237522), (87, 0.02395356960325735), (564, 0.023951398488732113), (984, 0.023940260983732614), (1654, 0.023920391031351136), (811, 0.023916286832912442), (176, 0.023913657380486623), (2028, 0.023884740785707775), (117, 0.023839128356606676), (162, 0.023817962551648093), (1577, 0.023809719935541023), (2049, 0.02380206393830771), (1521, 0.023800921919792953), (2093, 0.023760419269424037), (452, 0.02375631486386896), (342, 0.023724342256321685), (1999, 0.023681819578438366), (121, 0.02367606467310475), (324, 0.023651388142060054), (288, 0.023637248252175686), (1211, 0.023635758739540238), (1108, 0.023635492434975307), (1248, 0.02363145509576005), (1152, 0.023615955496253116), (61, 0.023587409000988768), (695, 0.023571042683132936), (771, 0.023522448571871885), (1498, 0.02351309233346666), (1148, 0.02349130157824985), (1980, 0.023472380400358026), (1177, 0.023452736913352153), (889, 0.02345052175993701), (2085, 0.023379270729811635), (1343, 0.023356346411854016), (278, 0.023349216879759334), (94, 0.02333565746542184), (1573, 0.023311193534773934), (1723, 0.023301581056627437), (962, 0.023246556350306296), (1731, 0.023224767724375105), (1082, 0.02320272574438286), (1418, 0.023197578778379264), (184, 0.02313515359978538), (127, 0.02307936704662861), (1758, 0.023003687763377828), (1390, 0.022976295280680466), (1855, 0.022975000523482256), (59, 0.022920989503024236), (203, 0.022912271788121434), (1615, 0.022899463221454378), (614, 0.022892857974361434), (1345, 0.02285050362650513), (1681, 0.02284855874739711), (731, 0.022805675405137525), (199, 0.022696802197305847), (998, 0.022684449181844823), (1656, 0.022681601616030313), (1145, 0.022650045297401406), (523, 0.022645622828935827), (1045, 0.02263989458916877), (480, 0.022631335479567374), (561, 0.02259916087978297), (1761, 0.022574812580129132), (399, 0.022562789220156948), (1976, 0.02255277869106874), (2055, 0.022543626585998275), (128, 0.02253789662909553), (1555, 0.022491400292098587), (268, 0.022488899195684798), (1509, 0.022414317121464848), (840, 0.022393939036656266), (37, 0.022383047784898292), (1256, 0.0223610082573261), (311, 0.02233133841317589), (1454, 0.0223288441178199), (1599, 0.02228802927713334), (1091, 0.02224862834534976), (1910, 0.022243067236948456), (2063, 0.022209139359033042), (2012, 0.02217811580975088), (2122, 0.022172909661008874), (1419, 0.022172859572226186), (1443, 0.022162358915875133), (1126, 0.022160900102509255), (449, 0.02213124126683014), (856, 0.022047653263656423), (745, 0.022030407740523242), (303, 0.022010722100897693), (1038, 0.02198117773977851), (1034, 0.0219720144124496), (1700, 0.021958895489577253), (476, 0.021894264625181136), (2024, 0.021847601480427314), (354, 0.02182808866880112), (217, 0.02181881158109921), (2019, 0.021807146865887948), (182, 0.021766051473564592), (1368, 0.021748428680747334), (1691, 0.021747850854154187), (833, 0.021743463299861578), (148, 0.021739194834735173), (2084, 0.021676569656587277), (274, 0.021644544268580285), (1643, 0.02162889587125986), (1354, 0.021621602221976247), (728, 0.02160093257631445), (1003, 0.02160027413659456), (1409, 0.021596034227845697), (1917, 0.021593551979082054), (1736, 0.021584619817853853), (815, 0.02157213832344268), (2152, 0.02153663162473275), (28, 0.021518772891422205), (270, 0.021495812546655134), (996, 0.02149347906785465), (2117, 0.02148034761704776), (1475, 0.021469533268135933), (1673, 0.02144817300553681), (1726, 0.021448171871461363), (1506, 0.02144640692622038), (1495, 0.02142654623746374), (663, 0.021412234657771454), (23, 0.021405099124767582), (445, 0.021385837692967237), (1234, 0.021324447534685778), (10, 0.02129368352456232), (1017, 0.02126527087624987), (1348, 0.021245179162418103), (252, 0.021236587434963473), (1849, 0.02121422217395126), (1933, 0.021172791606465468), (27, 0.021133605216622088), (755, 0.021116792974275444), (597, 0.02110719058053049), (1399, 0.0211037764341696), (30, 0.021099206427001575), (2127, 0.021063972756693645), (363, 0.021052648164515613), (1176, 0.02104371811709415), (1253, 0.020998416148073788), (546, 0.02099440481071796), (173, 0.02097426196976367), (1983, 0.020968117905208982), (680, 0.02092580039518669), (317, 0.020895083185854642), (814, 0.020879706124062158), (1049, 0.020870839675657313), (902, 0.020847181802837598), (1446, 0.02083647864585432), (361, 0.020823304749440108), (239, 0.020807458067064084), (411, 0.020792424010115745), (940, 0.020780672788412634), (1012, 0.02075942346479018), (1549, 0.020707113121186865), (1610, 0.020637118309066206), (1510, 0.020577711036362703), (599, 0.02050013267152911), (1559, 0.02049705400031849), (163, 0.020471110005517004), (422, 0.020463881109671095), (812, 0.020448744401355086), (156, 0.020431182045778082), (1836, 0.020416160780543376), (1336, 0.02041487430982468), (1565, 0.020404456989637016), (333, 0.02038839684231643), (2006, 0.020382452566578984), (1113, 0.020354164154911748), (1728, 0.020348867455525266), (1820, 0.02033789382936936), (1367, 0.020318494939732673), (992, 0.02029910194125497), (1084, 0.020279731568359424), (312, 0.02024944906550169), (36, 0.020220030877498792), (364, 0.02020461681727961), (2030, 0.020188856637895238), (469, 0.020187588598214554), (1747, 0.02015968843718248), (1127, 0.020139228857760892), (81, 0.020134458185901646), (879, 0.02013381053912895), (1754, 0.020109068235841382), (197, 0.020103834635941547), (942, 0.020094367685751454), (535, 0.02008872926371207), (1854, 0.020080076899786057), (1540, 0.020079207088415863), (461, 0.02007654125521385), (2014, 0.02007128139156164), (481, 0.02006154822799443), (660, 0.020041954441764785), (1772, 0.020010437928798225), (830, 0.019966263607089255), (1391, 0.019954638951674798), (1544, 0.01993684392134638), (1547, 0.019919512293661908), (618, 0.019910260642287212), (1923, 0.01987383235698701), (1241, 0.019818258529417945), (1221, 0.01979932966501002), (1205, 0.019787695677418633), (2139, 0.01976736564130625), (683, 0.01976471513969985), (101, 0.01972632033378296), (1311, 0.019719389375930707), (1487, 0.019703395885502756), (956, 0.019678057217318298), (275, 0.019673768549275484), (1905, 0.019645029199989367), (1261, 0.019639690882938213), (1371, 0.019617279187904187), (769, 0.01960803568369382), (1101, 0.019605949974828334), (1396, 0.019600274246091436), (1796, 0.01957723472487703), (450, 0.01954299641570857), (381, 0.019537765123502627), (1815, 0.019508336225683917), (520, 0.019490981070536158), (1117, 0.01948566772009987), (1708, 0.01948042271495791), (810, 0.0194657700643416), (439, 0.019437125741054443), (1744, 0.019427394538383685), (584, 0.01941729762411132), (1789, 0.01939540986912703), (1537, 0.019381931606038988), (750, 0.019337871814226682), (1515, 0.019337391262084648), (438, 0.019308188959462222), (513, 0.01927590801348281), (175, 0.01920924982121011), (1918, 0.019175948895692685), (1922, 0.019160021042022392), (1665, 0.01915429306570839), (432, 0.019125605856593852), (1774, 0.019082573092275838), (1776, 0.019064886240214997), (1277, 0.01905587521771467), (938, 0.019053232344041958), (1861, 0.01905207652113137), (1940, 0.01903385698577615), (1605, 0.019017401772232267), (287, 0.01897695331696834), (1358, 0.01896743785680344), (211, 0.01895966279021312), (243, 0.018922858026053598), (1313, 0.01891075028695418), (2029, 0.018892389905869913), (863, 0.018878222350538508), (1383, 0.01887327894051844), (1652, 0.018867708136057065), (859, 0.01884504370670363), (259, 0.018827153813789986), (1632, 0.018810845526041245), (372, 0.018784460932979863), (1710, 0.01874656094804224), (1051, 0.018731306060237485), (1414, 0.018726405893909785), (1888, 0.018710799043573752), (1925, 0.018683434080441357), (1431, 0.018681358334749164), (816, 0.01865860398575724), (591, 0.018654469926716478), (404, 0.018628316872551464), (1307, 0.018615678021275187), (1064, 0.01859993386494594), (952, 0.01859249227804046), (244, 0.018576700448493712), (1832, 0.01857637912554526), (1851, 0.018567307593854013), (959, 0.018563302222733932), (585, 0.018561860312197292), (141, 0.018530296676894716), (493, 0.018516196749266328), (384, 0.018497470854620657), (93, 0.018496827446177096), (1721, 0.01849066725696012), (918, 0.018488055489249235), (538, 0.018487602707259156), (2095, 0.018484066590846757), (1975, 0.018483263470041318), (1287, 0.018477308666370148), (1553, 0.018470905700578293), (1800, 0.01840452591990612), (1073, 0.018403092209489085), (1857, 0.018394838032091465), (337, 0.01837741170299937), (1878, 0.018363953316970556), (435, 0.0183455893669091), (922, 0.01830510821774136), (318, 0.018289326483458275), (1841, 0.0182458450259439), (1598, 0.018231613701343314), (1638, 0.018221711166381042), (826, 0.018218662001596372), (829, 0.01820495998175588), (1647, 0.01820142986660032), (981, 0.01818262449065147), (794, 0.018170680213053333), (1131, 0.018164639474939195), (1597, 0.018150690778633197), (1900, 0.01814800388008388), (46, 0.018142048602810927), (1837, 0.018126367512179047), (2134, 0.018125009572055067), (153, 0.018114868343650205), (2104, 0.018107279878683928), (1373, 0.018081032626779268), (1136, 0.018076099143759974), (1578, 0.01806239135121155), (417, 0.018051860466059392), (2135, 0.017988762047002973), (1094, 0.017979843761519416), (534, 0.017916579298952486), (31, 0.01791488387647803), (1254, 0.017904621724021616), (1640, 0.0178511297028359), (132, 0.01783211216381431), (1609, 0.017824964018165676), (403, 0.017815430250544453), (1001, 0.017807451380723035), (1485, 0.017764626861453116), (1490, 0.0177539322783798), (378, 0.017726816104869515), (2115, 0.01770764905603498), (2073, 0.017688381280639324), (512, 0.017666420579205935), (510, 0.01766093668353861), (279, 0.01765368157755136), (2099, 0.017648508627234893), (2178, 0.017644919866566786), (126, 0.0176210387155521), (1150, 0.01758383704264075), (236, 0.017574770072440647), (552, 0.017557878439317536), (1813, 0.017551436342960094), (1491, 0.017535658256432027), (1617, 0.017520967878248757), (2051, 0.017517890161375196), (649, 0.017512895260995805), (1074, 0.01747101312676319), (1829, 0.017468363668486066), (714, 0.017450633039777407), (700, 0.01744759527121311), (914, 0.017423852677032156), (941, 0.017422894294985745), (1972, 0.017400671045645376), (1735, 0.01739972209636373), (1469, 0.017398019193035495), (1192, 0.017379663072376355), (1053, 0.017356994041919538), (1489, 0.017347108957174166), (781, 0.017342883400740153), (2132, 0.01733219056627088), (926, 0.017318505991907613), (608, 0.01731454005600122), (885, 0.017262648253968296), (1238, 0.017261333899100423), (1961, 0.017255912342859038), (222, 0.017252821606609344), (6, 0.01720706474198639), (1141, 0.017176563902775544), (1657, 0.01716720102991854), (844, 0.017073869934792846), (1212, 0.01707057107732619), (1090, 0.01703842206033071), (1779, 0.017021676083682893), (16, 0.017016844054220992), (1773, 0.017016681179178355), (583, 0.01699131520778249), (887, 0.016959200864997828), (2068, 0.016954646470816112), (2169, 0.016952657222187528), (1973, 0.016943221460978392), (708, 0.016937463971343773), (2000, 0.01692805386110656), (1247, 0.016894516141228604), (187, 0.01688434455682619), (788, 0.016881940887581992), (1810, 0.016825339736815156), (1142, 0.016792412269121842), (1715, 0.016792071812359876), (7, 0.016752242821031462), (1197, 0.01674598847692102), (1749, 0.01674521162827338), (542, 0.016700465216110894), (1016, 0.016688059582719947), (2121, 0.01666847734891878), (2040, 0.01662623463054855), (878, 0.016602352792196608), (1984, 0.01657908670438656), (409, 0.01656627094763689), (1501, 0.01656148802355615), (917, 0.01654889356167787), (112, 0.016543953203243925), (125, 0.016522422608879806), (1750, 0.016511750739625117), (1814, 0.016503907575225827), (1707, 0.016495833821076177), (1613, 0.01649316780191012), (1008, 0.016483234061872364), (654, 0.016437009615046926), (1793, 0.01642257084034723), (1161, 0.01640567021438638), (478, 0.01636825196135106), (650, 0.016353217612554143), (1574, 0.016332048631043716), (52, 0.016293959098113677), (1455, 0.016247448820118117), (13, 0.0162335995869526), (143, 0.01623252813190427), (1594, 0.016225627441187038), (2081, 0.01622378367998681), (376, 0.016222571175553344), (1134, 0.016210857649241645), (1330, 0.01619738874547192), (1056, 0.01619198638035158), (742, 0.01619115547193773), (1720, 0.01618376741547158), (821, 0.01616836377158785), (1881, 0.01615947048080294), (890, 0.016150951299056818), (223, 0.016135102485651684), (1360, 0.016133930089368753), (612, 0.01611345299154244), (88, 0.0160914161953668), (1817, 0.016085780166588206), (2155, 0.016079511977453304), (653, 0.016052761360961502), (1550, 0.016049791951948566), (477, 0.016027191356801432), (823, 0.016018033173457694), (886, 0.01601774828543748), (910, 0.01600520003377591), (1377, 0.016001858536220312), (837, 0.015990738000757447), (1988, 0.015987734325919257), (2143, 0.015973556630986995), (1482, 0.015964714860267685), (500, 0.015946063117610945), (369, 0.015937157366874902), (157, 0.015906619395933026), (1492, 0.01585784671286596), (1675, 0.01585325675346104), (891, 0.0158475399879034), (1532, 0.015846598357132168), (228, 0.015844546125130803), (2008, 0.015842560853768402), (1967, 0.015841948129391988), (994, 0.015837414688944722), (1751, 0.015802611023685718), (150, 0.015798827186491962), (1614, 0.015794818481712537), (468, 0.01579100582470199), (802, 0.0157604211888224), (1010, 0.01575880134547706), (496, 0.01575162259433208), (1650, 0.015736657308509473), (913, 0.01571857092291876), (1171, 0.01571701966341746), (1004, 0.01570959114129678), (2114, 0.015700391005258718), (1653, 0.015679068652939752), (1029, 0.015667373901453806), (1299, 0.015665617137772835), (935, 0.015628418723820134), (2066, 0.01561185725843717), (2, 0.015601869861016986), (1931, 0.01557202464129984), (1467, 0.015564810043211039), (202, 0.015546446197093462), (866, 0.01554106565741854), (104, 0.015538117161841204), (1717, 0.015532938890721947), (346, 0.01547934955362567), (357, 0.01547604672828609), (1264, 0.015445498977802544), (1116, 0.015438674231122267), (1296, 0.015437748251167734), (1737, 0.015409577534131327), (1936, 0.015406929801606859), (345, 0.01539162059318229), (301, 0.015390162779400723), (1329, 0.015381832956631335), (343, 0.01536103522108424), (1889, 0.015357782520464481), (766, 0.015274329043176594), (502, 0.015225649139142896), (1088, 0.015218610006139492), (34, 0.01521556103048218), (1035, 0.015192025487653136), (515, 0.015162614160380315), (1902, 0.01515686131117958), (2147, 0.015142702239809841), (1634, 0.015128316126865495), (720, 0.015107804802344901), (1302, 0.015102636457953459), (2120, 0.015095554607456641), (605, 0.015056514812024701), (1906, 0.015055208525271355), (734, 0.01505114519444411), (290, 0.015031523292124257), (233, 0.014954279274401357), (1006, 0.014948774315432938), (1590, 0.014936218265078417), (321, 0.014930201242181645), (874, 0.014922954571036382), (103, 0.014869513456379376), (1243, 0.014847995115387001), (1043, 0.014806130611281424), (831, 0.01479502367918812), (2086, 0.014748497976806059), (1850, 0.014721876944814832), (269, 0.014704362687652272), (1, 0.014701609238736472), (1203, 0.01462960525187006), (791, 0.01459891898231765), (1678, 0.01459559331120771), (1646, 0.014591810921041566), (2082, 0.014581910903748996), (190, 0.014558142928986516), (736, 0.014556955564704339), (1433, 0.014551052676773217), (1807, 0.014524290670899952), (1655, 0.014520230452865178), (990, 0.01451716173850175), (1601, 0.014490074987836067), (383, 0.0144280544315415), (1422, 0.014414468681241355), (1438, 0.014388635647917425), (1068, 0.014376000372616656), (474, 0.014352131317200334), (1618, 0.01434632075116762), (29, 0.014338622590915395), (1323, 0.014323857820044361), (257, 0.014304092008251926), (1739, 0.014303388563196656), (15, 0.014301998422243226), (2110, 0.014289172121740428), (817, 0.014264017154418569), (1730, 0.01425231234321522), (1696, 0.014247561816755105), (1263, 0.014214624389790261), (783, 0.01419143188391663), (1337, 0.01418369724167992), (119, 0.014158137688107435), (1434, 0.014148317877298738), (322, 0.01413602238674669), (1504, 0.01413148150904951), (640, 0.014096065291688489), (1273, 0.014091424453147006), (2020, 0.014078400312981264), (893, 0.014067284606181053), (204, 0.014043985756604798), (1397, 0.014025931621989354), (789, 0.014025124642919036), (348, 0.01400256046864329), (792, 0.013990931578200062), (787, 0.013973971884990527), (2067, 0.013973590767824944), (1563, 0.013948638327233613), (864, 0.013935041138802921), (1571, 0.013895107703467607), (1756, 0.01389385918556869), (2177, 0.013891218328433777), (1533, 0.013837769520915338), (441, 0.013832557560844646), (558, 0.013810075371507887), (1582, 0.013802451269987331), (506, 0.01378314310166714), (1282, 0.013725139921056466), (551, 0.013637179764082215), (604, 0.013582769740934714), (1054, 0.013577000290452819), (693, 0.013573375003008564), (442, 0.01356672469746881), (1309, 0.013548407641719159), (786, 0.013544270274608413), (300, 0.013534063740671586), (971, 0.01351584134152501), (1733, 0.013487401191010785), (2097, 0.01347125130986746), (1308, 0.013450118365788204), (705, 0.013434802898055154), (340, 0.013416974248540563), (2142, 0.013385064067859923), (405, 0.013367307748859199), (1949, 0.013360594729260726), (380, 0.01335048413151522), (1688, 0.013335917793426378), (697, 0.013330049108676486), (491, 0.013300986636636791), (587, 0.013240102810815174), (1904, 0.013237382557157881), (1880, 0.01323266756339382), (764, 0.013175714563286582), (1305, 0.013172168091869718), (1660, 0.013169192976390767), (1545, 0.013151850984647618), (2060, 0.013127116083025291), (1290, 0.013106404045506432), (1915, 0.013101054227792935), (784, 0.013096848039514062), (319, 0.013088827067347273), (1447, 0.013079394114416856), (2198, 0.013066047822454754), (1958, 0.013060462125374058), (1182, 0.013054296829667644), (1962, 0.013038477493322277), (1483, 0.013029383398796031), (921, 0.013022824268491376), (1858, 0.012991214361264401), (2197, 0.012975307150264587), (359, 0.0129545076607764), (1844, 0.012950814723314998), (1451, 0.012949656790740411), (316, 0.012926722187668088), (302, 0.012894740364902051), (1865, 0.012860433150944935), (1135, 0.012848470425482093), (158, 0.012841717259670834), (701, 0.012798450297283687), (459, 0.012793765293155637), (48, 0.012774769977083817), (1083, 0.012773293002413685), (2179, 0.012738198610610051), (1432, 0.01272664907517367), (2079, 0.012721879738952637), (504, 0.012717801868810823), (637, 0.012699527506764561), (711, 0.012696715461455737), (924, 0.012675214021704611), (2140, 0.012656154518055764), (1816, 0.01265423382168051), (912, 0.01264457598091567), (1456, 0.012629989764979043), (262, 0.012618804391621533), (646, 0.012615531085079281), (896, 0.012605575023544978), (712, 0.01258811377853793), (735, 0.012558988123224882), (1461, 0.012546327395716938), (1271, 0.012534247116766697), (2088, 0.012519781747566726), (1279, 0.012488153021523247), (1072, 0.012487895025408913), (870, 0.01246351857651204), (1935, 0.012462139601748167), (1826, 0.012452099551580071), (1437, 0.012442945221585358), (928, 0.01241241626622155), (418, 0.01239053897233651), (1288, 0.012360011524493566), (775, 0.012324430492044038), (1440, 0.01230649968876462), (1541, 0.012294355407249146), (1993, 0.012284948280573128), (2174, 0.012243941206293277), (2048, 0.01221296036869887), (633, 0.012173097171889406), (1600, 0.012170185127425803), (1874, 0.01216535925000587), (218, 0.012099938130664125), (277, 0.012082796286413204), (1300, 0.012052527803160774), (753, 0.012041874707182307), (595, 0.012022227914886562), (55, 0.012002642033584983), (1860, 0.011998548926344275), (2033, 0.011998285676853767), (118, 0.011996758132534733), (727, 0.011980209620617376), (350, 0.011975300857847298), (1201, 0.011974890507658733), (1111, 0.011973698765602498), (328, 0.011955932444200611), (607, 0.011947178394991884), (545, 0.011928883530474478), (406, 0.011917381873285133), (778, 0.011900070750032571), (1388, 0.011880105123005675), (939, 0.011845369039153458), (2039, 0.011838519166388645), (1233, 0.011825495522336686), (2182, 0.011824594744663587), (1138, 0.011806161767319821), (1062, 0.011780990375198098), (1128, 0.011768078984543323), (1359, 0.011734685797131753), (2187, 0.011716451725953977), (1026, 0.011705662808241576), (713, 0.011693493853104893), (1522, 0.01168677330013367), (1426, 0.011667651532037566), (1160, 0.01164460375680201), (2108, 0.01163798064177199), (188, 0.011612024883855626), (2002, 0.011609108069365773), (291, 0.011596478971473777), (609, 0.011589755774522023), (1882, 0.011580115852337845), (1843, 0.011569925274411828), (2124, 0.01156321462349819), (1037, 0.011556238444221215), (2180, 0.011526811636164449), (1806, 0.011503660077039356), (796, 0.01150322605831309), (391, 0.011491119926530732), (1951, 0.011485366128812971), (1830, 0.01146981787921799), (315, 0.011462205748410984), (1584, 0.011438627473195035), (808, 0.011425920817405203), (1463, 0.011408608854843912), (1642, 0.011406447599511302), (1536, 0.011401442646128123), (1209, 0.011397399108360278), (1156, 0.011390887802832967), (490, 0.011387873434317457), (1239, 0.011376956527376698), (1378, 0.011354845208430258), (647, 0.01135474025140673), (1753, 0.011322060068542876), (566, 0.011315746467806875), (1765, 0.011314591985498368), (1257, 0.011247146633729067), (973, 0.011220909469793787), (260, 0.011213731335592232), (2146, 0.011170626130494812), (1587, 0.011136744154306797), (1452, 0.011118199131181214), (40, 0.011105100070361949), (514, 0.011066841769105147), (1978, 0.011050076081026096), (899, 0.011045144918417855), (1913, 0.011034180877069637), (948, 0.011032157643958762), (377, 0.01101256733835384), (839, 0.0109901759943597), (1404, 0.010954613696962436), (931, 0.010932001774188644), (836, 0.010894214284565508), (1864, 0.010887288964724415), (458, 0.01086810443008521), (1303, 0.010856800450941539), (485, 0.010810261167387168), (2017, 0.01076370600938037), (1680, 0.01075361682102738), (2026, 0.010727612249900783), (226, 0.010714611585556137), (1204, 0.010683512070437513), (1496, 0.010661429141518478), (995, 0.010650023343302928), (135, 0.010649078664658935), (470, 0.010648644688815267), (1695, 0.010618628198810973), (1859, 0.01057411272529346), (2036, 0.010567845302917786), (801, 0.010486908801023794), (1894, 0.010486030654799628), (717, 0.010445443445487246), (964, 0.010427385154971679), (1818, 0.01038526266341581), (1562, 0.01034824214318214), (1105, 0.010333574772334677), (1870, 0.010331192496017971), (834, 0.010310194802871119), (884, 0.010309485602057786), (1140, 0.010288443147173304), (1471, 0.010281283754027629), (511, 0.010265643443188161), (451, 0.010251584954733248), (2092, 0.010226250045720718), (539, 0.010224529861742573), (382, 0.010215637649257125), (1466, 0.01015276773704421), (752, 0.010149526798572086), (1165, 0.010135618284844683), (95, 0.010128707430671376), (1321, 0.0101138881525767), (1898, 0.010094660934579513), (113, 0.010091148733207515), (560, 0.01008641430805936), (397, 0.010078980358794752), (1989, 0.010075664776289663), (2021, 0.010069133410154078), (1357, 0.010041777474446054), (362, 0.010002498994097404), (1955, 0.009986805029225946), (1871, 0.009953625629775049), (703, 0.009941672635007275), (1080, 0.009860469095839139), (1576, 0.009823777067543754), (638, 0.009810683172899657), (146, 0.009804261228121561), (1381, 0.009792005854298711), (1022, 0.009791197461846143), (398, 0.009781121755036176), (1114, 0.009763709194420513), (1411, 0.009756846346667986), (49, 0.009756000806239194), (271, 0.009741286918099366), (1580, 0.009716702051947128), (960, 0.009702561346065125), (1572, 0.009588687206425781), (2062, 0.00951452325765963), (1025, 0.009504189929613476), (2025, 0.00947794775434319), (1670, 0.00944146684180303), (1301, 0.009388667732193545), (2023, 0.009377311770585747), (408, 0.009372874543617276), (2075, 0.009365522700835984), (219, 0.009362446616135672), (370, 0.009353912104832733), (367, 0.009350939031432423), (1794, 0.009309953395328401), (825, 0.009301052931354472), (1644, 0.009252117143399553), (200, 0.009228882007656024), (954, 0.009225882733508549), (524, 0.009195065499408694), (1604, 0.009181163130053422), (1740, 0.009175354803459733), (1428, 0.009149917021784578), (671, 0.009090244627968515), (414, 0.009087832640823105), (600, 0.009086638626824593), (569, 0.009086599726518535), (2162, 0.009058980732663076), (1595, 0.00903873851661965), (1183, 0.009037787404889665), (247, 0.009019269793444955), (1746, 0.009005565895894355), (970, 0.009000652212976626), (1445, 0.008982121597689742), (2098, 0.008964344141539828), (718, 0.008939316363517082), (2043, 0.00891333586797933), (1853, 0.008884958911342599), (645, 0.00885937798993741), (2076, 0.008855928293452844), (1269, 0.008854814246953308), (1190, 0.008852974814017298), (751, 0.008837557533541639), (1046, 0.008834996455201563), (1132, 0.008824496905983949), (518, 0.00881123196086923), (14, 0.008806674698194418), (1713, 0.00879328410513517), (1911, 0.008762791030461797), (1982, 0.008762417525205894), (2130, 0.008756568543089847), (803, 0.008748146829956813), (1041, 0.008740697833192293), (729, 0.00872067295427568), (396, 0.008672544004126264), (1893, 0.008669007082870193), (1007, 0.00865974454136213), (99, 0.008659594769883093), (1862, 0.008618617370209072), (1775, 0.00860378159489511), (1430, 0.008600696251395187), (577, 0.008593514388724391), (1020, 0.008559356074715382), (1244, 0.008546845594817705), (847, 0.008546741433799111), (1583, 0.008517275024286699), (263, 0.008511841681239527), (365, 0.008485359253380523), (1122, 0.008445954155788485), (1059, 0.008434256219619877), (42, 0.008431313659239228), (529, 0.00842117110322568), (1872, 0.008383792978722316), (850, 0.00837386456931125), (1033, 0.008328938576309083), (543, 0.008327665647929692), (1057, 0.008325700160708679), (1289, 0.008321704475668783), (759, 0.008306901020248123), (96, 0.008289213112544625), (92, 0.008287566023259653), (280, 0.008276324231463317), (1389, 0.00827550374408077), (849, 0.008266155870704747), (1081, 0.008247948382562062), (1363, 0.00824560973022237), (463, 0.008233869371284914), (1448, 0.008210277349084692), (161, 0.008186303690403716), (1960, 0.008176381865225468), (739, 0.008167514548762304), (242, 0.008163194312031465), (1266, 0.008159235232496523), (1316, 0.008065486426200748), (1990, 0.008056698509899055), (1718, 0.00802707790416016), (400, 0.008006830736222138), (737, 0.007989305087513027), (1959, 0.007956729615059006), (1524, 0.007925217236385734), (1352, 0.007911922211380781), (1180, 0.00786497482642636), (2188, 0.007841694450989842), (366, 0.007776449348984006), (916, 0.007765549284456564), (1809, 0.007760714316034929), (1497, 0.007758679690060562), (1423, 0.007746813898337944), (1953, 0.0077250642922823826), (492, 0.007688322642445931), (965, 0.007652309100200842), (2105, 0.007650423808042249), (1181, 0.0076425304982157705), (1518, 0.007640164748132405), (768, 0.007635994424033525), (631, 0.00762809868637052), (1944, 0.007627550029156082), (2083, 0.007619834036790571), (1087, 0.007612010558381108), (1797, 0.007583078512496374), (934, 0.00757530100944539), (283, 0.00755765138031471), (428, 0.007553670187078532), (1948, 0.007528794007299098), (410, 0.007493899621788263), (967, 0.007462775226349808), (1845, 0.007460410766483211), (1676, 0.007448575080750721), (777, 0.007432856920533529), (78, 0.007425029059872171), (776, 0.0074123882152479365), (2044, 0.007410085987063371), (1531, 0.0074006154394242255), (1031, 0.007392334350993283), (1886, 0.007391999737758458), (603, 0.007371854802712012), (961, 0.007305781012067518), (1335, 0.007249030466183047), (1930, 0.007220202817132131), (1628, 0.00721557823207749), (892, 0.007214248963974956), (2195, 0.007184960836286393), (1040, 0.007180212760007884), (517, 0.0071655180058057336), (240, 0.007159603377072129), (1866, 0.007138117674346227), (1312, 0.007133225942880755), (1106, 0.007122521610997035), (696, 0.007118048573077698), (2144, 0.007092671945365932), (1494, 0.007092636606996487), (1276, 0.0070830830816004785), (867, 0.007040822892723818), (688, 0.007040412626342536), (1458, 0.007036351948091177), (1173, 0.0070272235999887765), (920, 0.007024108386379887), (1887, 0.006998491987720486), (1217, 0.00699790901922006), (1199, 0.006978365773787423), (690, 0.006850008119394041), (4, 0.006835182881648243), (1986, 0.006830440080951967), (356, 0.00682307233395466), (86, 0.006823011246631199), (1932, 0.006819539636141346), (2119, 0.006801946657694511), (1255, 0.006782339526369326), (1914, 0.006743151776345076), (507, 0.0067331000483717785), (757, 0.006707446035143481), (1260, 0.006677275615739872), (1245, 0.0066231450305566895), (1341, 0.006616015452431042), (355, 0.006603352673235722), (1669, 0.006597258963385562), (139, 0.006556692136501273), (2052, 0.0065263424634490995), (1702, 0.006456542263488996), (235, 0.006456526742398532), (1058, 0.006442500242370131), (307, 0.006413961285733101), (1637, 0.006398084990063113), (249, 0.006388511536975671), (1517, 0.006380451699438714), (873, 0.006352451040732201), (1939, 0.006319252175082773), (1567, 0.006306273571511808), (719, 0.006297598547494357), (828, 0.0062932956415522835), (991, 0.0062888862276705496), (1065, 0.006277682182704192), (1908, 0.006240807271067887), (1869, 0.006225394312843512), (1258, 0.00620259627606709), (1592, 0.006195616202823081), (949, 0.006145213501737041), (567, 0.00614286549931288), (963, 0.006123962648806596), (1405, 0.006088527329034522), (634, 0.006087633320994642), (1015, 0.0060749479905808776), (2141, 0.00605396835776793), (806, 0.0060514412379403075), (907, 0.0060513282002554675), (1903, 0.0060443764459480465), (908, 0.006043305105993206), (818, 0.006028402047013513), (144, 0.006024336116279052), (951, 0.0060203066754714474), (1969, 0.005992149454654681), (1407, 0.005963955688486074), (1790, 0.00596295440083403), (170, 0.005949130630261045), (674, 0.005944318680765608), (1457, 0.0059294213852239906), (773, 0.0059222256850198505), (581, 0.005917118508010927), (344, 0.005911269520086476), (615, 0.005871027609345826), (1215, 0.005843322364179692), (616, 0.005815819390432901), (1460, 0.005806698636677946), (205, 0.005794626928740153), (2165, 0.005785676876030446), (1030, 0.005785019712315413), (1952, 0.005784801052270014), (819, 0.005776822768345576), (1137, 0.005774143559732062), (1032, 0.005760631558578373), (1143, 0.0057253861668455745), (628, 0.005722157091616173), (180, 0.005695987102410462), (977, 0.0056954894501137065), (1478, 0.0056946204359487815), (1526, 0.00569179181203741), (482, 0.005679295414741984), (1093, 0.005660730470563875), (1538, 0.005605027636538636), (1947, 0.005559147126596073), (215, 0.0055434759742652865), (2007, 0.005541497721493543), (547, 0.005535239517909476), (1375, 0.005534126115028593), (1249, 0.0055044139200635285), (1551, 0.0055015443639415944), (2138, 0.005478616352007784), (2064, 0.005446342138198772), (454, 0.005443728689531498), (869, 0.005437437382013228), (1822, 0.005437423343010123), (1079, 0.00542309367127873), (140, 0.005391936692543727), (1767, 0.005387113755699258), (865, 0.005384583060787572), (672, 0.005340796544949483), (1333, 0.005334325648554475), (330, 0.0053075146711747115), (1625, 0.0052971026296115544), (60, 0.005280105584817162), (1527, 0.005268942805827017), (1884, 0.005264418028982934), (2150, 0.005264390294478697), (1331, 0.005231189182631029), (1216, 0.005207543145511374), (988, 0.0052064754932507635), (1677, 0.005194899581501744), (1486, 0.0051919491456461925), (904, 0.005173794136067021), (1235, 0.0051483652327862115), (780, 0.005137785599717346), (1901, 0.005133846240585847), (982, 0.005132976224357543), (1044, 0.005115663990433656), (1701, 0.005105697690702129), (1534, 0.005099244111056063), (453, 0.005049840696363488), (2102, 0.005036539548850071), (1589, 0.005032136153669015), (772, 0.0050130458172390055), (1189, 0.005004140165291475), (1024, 0.004998410233672679), (32, 0.0049570551657279775), (1927, 0.004952263165590648), (947, 0.0049444987115574175), (656, 0.004940699617302108), (621, 0.004931531920146586), (639, 0.00490131788168634), (1293, 0.004894485956912114), (611, 0.004875131523679958), (1769, 0.0048672461431604475), (1846, 0.00484789611484502), (805, 0.0048274896128792134), (1085, 0.004816557146791462), (1465, 0.004779755835466463), (1819, 0.004758686306145422), (1322, 0.004745743650195814), (421, 0.004738597542753152), (1436, 0.004730780607892382), (1400, 0.004717584911183161), (537, 0.004695690698808511), (1392, 0.004651423446362072), (1827, 0.004597336267472286), (1098, 0.004589527465852979), (1179, 0.004586657731930179), (798, 0.004566479389292599), (1178, 0.004558048261432882), (1848, 0.004548645553204698), (1787, 0.004540867566997029), (1019, 0.004523199200721752), (1386, 0.004456417195249704), (434, 0.00444367506464927), (1314, 0.004420444190826641), (1403, 0.004418142099490644), (1795, 0.004416563125056625), (1067, 0.004409236943554029), (554, 0.0044064757551769045), (1970, 0.0043830702293218594), (386, 0.004379334041461684), (251, 0.004373799586359029), (1208, 0.004355707982644571), (2131, 0.0043524943392874), (1076, 0.0043293265453304905), (1169, 0.004327899134476682), (1149, 0.004292607261935013), (1078, 0.004280282733412272), (2056, 0.004234674189894399), (1395, 0.00422839651992393), (12, 0.004215408903496345), (1324, 0.00421208969039623), (1338, 0.004179628139427981), (1965, 0.004177134147462978), (1488, 0.004174186700575162), (1525, 0.004170807038642729), (669, 0.004167238094848617), (2047, 0.004162393994429284), (1159, 0.0041344672383364), (230, 0.004133099960456106), (1981, 0.004099843669393545), (842, 0.004074155687434172), (905, 0.004054227474092248), (862, 0.004047548922679227), (2035, 0.004041921285972441), (761, 0.004041662359365996), (1415, 0.004019105525063518), (813, 0.0039872761604083035), (2013, 0.003946342440466213), (726, 0.003943556679659402), (1607, 0.003933928529464696), (1317, 0.0039119058050011025), (1792, 0.003907110223281475), (286, 0.003890551538096014), (281, 0.0038868667242803042), (1196, 0.003849344340703031), (710, 0.003845184718324789), (1153, 0.0038400477439734996), (1784, 0.0038186772315294847), (1351, 0.0038119246595852236), (329, 0.0038086885741617166), (790, 0.003774533594663433), (2184, 0.0037724551121883065), (2125, 0.003772156616251478), (63, 0.0037547988938560987), (915, 0.003749544225494639), (1782, 0.0037426046650205075), (1828, 0.003731591083094539), (2112, 0.00371754685298668), (793, 0.00369106070419163), (2091, 0.0036844573619880692), (1686, 0.0036568089892938245), (1170, 0.0036283652571251985), (2118, 0.0035362740767672595), (1798, 0.003535960851985048), (2065, 0.003511710803358384), (415, 0.003507371250660147), (1086, 0.0035059980501846427), (1124, 0.003479222825408066), (1315, 0.0034596105066722407), (1292, 0.003442143925327731), (562, 0.003440197648906045), (110, 0.003426543563076513), (1631, 0.003380840024767076), (1808, 0.0033352643896376777), (446, 0.003330229217157338), (832, 0.00332977853613654), (1697, 0.00330328443496355), (958, 0.0032720168422481597), (1564, 0.0032670391790681364), (1968, 0.0032571563671216818), (2072, 0.0032188952939533957), (677, 0.003215906231198502), (881, 0.0032144338715094727), (820, 0.00321073112570685), (1804, 0.0031813849914250295), (69, 0.0031596606175167408), (871, 0.003159447542223694), (1511, 0.003122451323634328), (593, 0.0031140642280688795), (261, 0.003104520473314552), (1151, 0.0031032750046867813), (237, 0.003098941304905512), (1863, 0.00308067629182765), (1000, 0.0030800846662692913), (1876, 0.0030678586834902628), (97, 0.003058421664403237), (673, 0.0030556063371471277), (827, 0.003042120554541182), (2171, 0.003028742829946537), (1919, 0.002982685514091151), (2089, 0.002952349711221961), (2016, 0.0029517753185174726), (1265, 0.00292981053596402), (334, 0.0029086705285245483), (472, 0.00285179619013893), (145, 0.0028326099739032677), (1092, 0.0028119038860110533), (880, 0.0028000055065702262), (681, 0.0027582582266777508), (1619, 0.002745290492435439), (67, 0.0026728026812527965), (1557, 0.002643509954523931), (1742, 0.0026259398655201363), (2173, 0.002610633989481314), (21, 0.0026055948049169223), (1964, 0.0025961537474953424), (2158, 0.0025945087185933425), (1018, 0.0025881559419873093), (743, 0.0025858399449917866), (3, 0.002581260816458571), (216, 0.0025527047152284744), (1529, 0.0025250190476470142), (576, 0.0025151359245418445), (1570, 0.0025101937269136508), (1223, 0.0025072807857204954), (172, 0.002503463148312715), (760, 0.00248290351279171), (903, 0.0024244098014131995), (2071, 0.0024097929066706613), (1974, 0.002402111942495052), (1649, 0.0023710527648631353), (2077, 0.002352543216947185), (1294, 0.0023512087216330246), (292, 0.002350095994594721), (1714, 0.0023431514082782458), (1602, 0.002316668999231234), (486, 0.002269120434076803), (1320, 0.0022312088438833566), (838, 0.0022022179584999884), (276, 0.0021993066894419517), (1184, 0.0021954154701148954), (1125, 0.0021276069823388324), (606, 0.0021270420358961866), (1722, 0.0020805509389815284), (909, 0.0019790173877464318), (425, 0.001968503037667296), (1924, 0.001924507520755086), (2145, 0.001894921537525856), (2196, 0.0017368717652667739), (741, 0.0017166739714721167), (2069, 0.0017027298826391428), (1270, 0.0016540454795134964), (1120, 0.0016231304515170442), (1268, 0.0015963614793026541), (1499, 0.0015731175631538124), (1410, 0.001544353357744351), (525, 0.001543341001646552), (2175, 0.0015353743064379195), (234, 0.0014902068748069875), (2159, 0.0014849452123920023), (1174, 0.0014576732491217543), (1366, 0.0014568879258446909), (1481, 0.0014532093485072446), (876, 0.0014487966302426246), (1778, 0.0014450487423383113), (933, 0.001430490788564951), (582, 0.001429024501741478), (1401, 0.0014239861757347557), (953, 0.0013681058327962331), (851, 0.0013574474024122618), (2045, 0.0013567325241366178), (2096, 0.0013409756870093345), (800, 0.0013404034942177947), (1077, 0.0013338559511371568), (1369, 0.0013194697273425657), (1237, 0.0013064957539228477), (430, 0.0013009115898511318), (684, 0.0012964627408267385), (1202, 0.0012660560249924042), (1920, 0.001239906525170893), (590, 0.0012260737957140644), (1480, 0.001202512440285527), (1705, 0.0011998236101562613), (694, 0.001156861521279371), (610, 0.0011543419219301354), (305, 0.0011210985406134553), (989, 0.0010903249833882052), (1786, 0.0010805972574130668), (447, 0.0010756490398980537), (1636, 0.001058062895398997), (527, 0.0010568781902376752), (1997, 0.0010385121542518573), (1476, 0.0010219972307653992), (2192, 0.0009515204598481822), (522, 0.0009336069067823217), (1479, 0.0008998953704023897), (102, 0.0), (116, 0.0), (138, 0.0), (152, 0.0), (183, 0.0), (265, 0.0), (284, 0.0), (499, 0.0), (536, 0.0), (563, 0.0), (579, 0.0), (596, 0.0), (740, 0.0), (822, 0.0), (857, 0.0), (901, 0.0), (972, 0.0), (978, 0.0), (1110, 0.0), (1123, 0.0), (1139, 0.0), (1172, 0.0), (1194, 0.0), (1393, 0.0), (1435, 0.0), (1539, 0.0), (1561, 0.0), (1591, 0.0), (1616, 0.0), (1621, 0.0), (1662, 0.0), (1672, 0.0), (1685, 0.0), (1693, 0.0), (1727, 0.0), (1738, 0.0), (1768, 0.0), (1780, 0.0), (1821, 0.0), (1823, 0.0), (1877, 0.0), (1883, 0.0), (1928, 0.0), (1950, 0.0), (1992, 0.0), (2003, 0.0), (2022, 0.0), (2042, 0.0), (2074, 0.0), (2078, 0.0), (2111, 0.0), (2116, 0.0), (2153, 0.0), (2176, 0.0), (2183, 0.0)]\n"
          ]
        }
      ]
    },
    {
      "cell_type": "code",
      "source": [
        "# print the name of similar movies based on the index\n",
        "\n",
        "print('Movies suggested for you : \\n')\n",
        "\n",
        "i = 1\n",
        "\n",
        "for movie in sorted_similar_movies:\n",
        "  index = movie[0]\n",
        "  title_from_index = movies_data[movies_data.index== index]['movie_name'].values[0]\n",
        "  if (i<30):\n",
        "    print(i, '.',title_from_index)\n",
        "    i+=1"
      ],
      "metadata": {
        "colab": {
          "base_uri": "https://localhost:8080/"
        },
        "id": "9yBRRrWp4bNb",
        "outputId": "d021c162-0681-4b6e-a3b0-647dc0fe2ac4"
      },
      "execution_count": null,
      "outputs": [
        {
          "output_type": "stream",
          "name": "stdout",
          "text": [
            "Movies suggested for you : \n",
            "\n",
            "1 . Jawan\n",
            "2 . Pathaan\n",
            "3 . Bhakta Kannappa\n",
            "4 . Mumbaikar\n",
            "5 . Happy New Year\n",
            "6 . The Test\n",
            "7 . Darbar\n",
            "8 . Silsila\n",
            "9 . Don 2\n",
            "10 . Lost\n",
            "11 . Om Shanti Om\n",
            "12 . Chehre\n",
            "13 . Lipstick Under My Burkha\n",
            "14 . Connect\n",
            "15 . Gehraiyaan\n",
            "16 . Shuddh Desi Romance\n",
            "17 . Uunchai\n",
            "18 . Asoka\n",
            "19 . The Intern\n",
            "20 . Fan\n",
            "21 . Baaghi: A Rebel for Love\n",
            "22 . Jab Tak Hai Jaan\n",
            "23 . Chhapaak\n",
            "24 . Kal Ho Naa Ho\n",
            "25 . Dilwale\n",
            "26 . Sathyam\n",
            "27 . Paheli\n",
            "28 . Rab Ne Bana Di Jodi\n",
            "29 . Dil Kya Kare\n"
          ]
        }
      ]
    },
    {
      "cell_type": "code",
      "source": [
        "# Input the user's favorite movie name\n",
        "movie_name = input('Enter your favorite movie name: ')\n",
        "\n",
        "# Convert the 'title' column to strings before creating the list\n",
        "list_of_all_titles = movies_data['movie_name'].astype(str).tolist()\n",
        "\n",
        "# Find the closest matches to the input movie name\n",
        "find_close_match = difflib.get_close_matches(movie_name, list_of_all_titles)\n",
        "\n",
        "# Check if a close match was found\n",
        "if not find_close_match:\n",
        "    print(\"Sorry, we couldn't find a movie matching your input. Please try again.\")\n",
        "else:\n",
        "    close_match = find_close_match[0]\n",
        "    print(f\"Closest match found: {close_match}\")\n",
        "\n",
        "    # Get the index of the movie\n",
        "    index_of_the_movie = movies_data[movies_data.movie_name == close_match]['index'].values[0]\n",
        "\n",
        "    # Compute similarity scores\n",
        "    similarity_score = list(enumerate(similarity[index_of_the_movie]))\n",
        "\n",
        "    # Sort movies by similarity score in descending order\n",
        "    sorted_similar_movies = sorted(similarity_score, key=lambda x: x[1], reverse=True)\n",
        "\n",
        "    print('Movies suggested for you:\\n')\n",
        "\n",
        "    # Print the top 20 similar movies\n",
        "    i = 1\n",
        "    for movie in sorted_similar_movies:\n",
        "        index = movie[0]\n",
        "        title_from_index = movies_data[movies_data.index == index]['movie_name'].values[0]\n",
        "        if i <= 20:\n",
        "            print(i, '.', title_from_index)\n",
        "            i += 1\n"
      ],
      "metadata": {
        "colab": {
          "base_uri": "https://localhost:8080/"
        },
        "id": "q-Lw8Y7K4nRr",
        "outputId": "e83f9709-9592-4ff6-b5fe-0d34e35462aa"
      },
      "execution_count": null,
      "outputs": [
        {
          "output_type": "stream",
          "name": "stdout",
          "text": [
            "Enter your favorite movie name: Maa beta\n",
            "Closest match found: Maa Beta\n",
            "Movies suggested for you:\n",
            "\n",
            "1 . Parvarish\n",
            "2 . Raavan\n",
            "3 . Thanedaar\n",
            "4 . Tridev\n",
            "5 . Shakti\n",
            "6 . Veerappan\n",
            "7 . Deewaar\n",
            "8 . Sholay\n",
            "9 . Laawaris\n",
            "10 . Mission Kashmir\n",
            "11 . Naseeb\n",
            "12 . Suhaag\n",
            "13 . Rakhta Charitra\n",
            "14 . Veergati\n",
            "15 . Agneepath\n",
            "16 . Anwar\n",
            "17 . Bandit Queen\n",
            "18 . Yudh\n",
            "19 . Aaj Ka Arjun\n"
          ]
        }
      ]
    },
    {
      "cell_type": "code",
      "source": [],
      "metadata": {
        "id": "HCY-g4424sz2"
      },
      "execution_count": null,
      "outputs": []
    }
  ]
}